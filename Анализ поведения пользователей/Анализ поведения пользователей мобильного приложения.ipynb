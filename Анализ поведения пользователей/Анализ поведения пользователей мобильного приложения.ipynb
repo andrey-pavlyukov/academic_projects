{
 "cells": [
  {
   "cell_type": "markdown",
   "metadata": {},
   "source": [
    "# Сборный проект.\n",
    "# Анализ поведения пользователей мобильного приложения"
   ]
  },
  {
   "cell_type": "markdown",
   "metadata": {},
   "source": [
    "В ходе исследования мы изучим воронку продаж. Узнаем, как пользователи доходят до покупки. Ответим на такие вопросы, как сколько пользователей доходит до покупки, а сколько — «застревает» на предыдущих шагах? На каких именно?\n",
    " Дизайнеры предложили поменять шрифты во всём приложении. Для того, чтобы выяснить, какой шрифт лучше, новый или старый, будет проведен A/A/B-тест, результаты которого помогут ответить на этот вопрос.\n",
    " \n",
    " Исследование будет проходить в несколько этапов:\n",
    " \n",
    "1. Подготовка данных:\n",
    "    * Пииведем названия столбцов к единому стилю;\n",
    "    * Проверим пропуски и типы данных. Откорректируем, если необходимо;\n",
    "    * Добавим столбец даты и времени, а также отдельный столбец с датами;\n",
    "2. Изучим и проверим данные:\n",
    "    * Сколько всего событий в логе?\n",
    "    * Сколько всего пользователей в логе?\n",
    "    * Сколько в среднем событий приходится на пользователя?\n",
    "    * Данными за какой период мы располагаем? Найдем максимальную и минимальную дату. Изучим, как меняется количество данных: построим столбчатую диаграмму, которая отобразит количество событий в зависимости от времени в разрезе групп; \n",
    "    * Ответим на вопрос, можно ли быть уверенным, что у вас одинаково полные данные за весь период? Определим, с какого момента данные полные и отбросим более старые. Данными за какой период времени мы располагаем на самом деле?\n",
    "    * Много ли событий и пользователей мы потеряли, отбросив старые данные?\n",
    "    * Проверим, что у нас есть пользователи из всех трёх экспериментальных групп;\n",
    "3. Изучим воронку событий:\n",
    "    * Посмотрим, какие события есть в логах, как часто они встречаются. Отсортируем события по частоте.\n",
    "    * Посчитаем, сколько пользователей совершали каждое из этих событий. Отсортируем события по числу пользователей. Посчитаем долю пользователей, которые хоть раз совершали событие.\n",
    "    * Предположим, в каком порядке происходят события. Все ли они выстраиваются в последовательную цепочку?\n",
    "    * По воронке событий посчитаем, какая доля пользователей проходит на следующий шаг воронки (от числа пользователей на предыдущем). То есть для последовательности событий A → B → C посчитаем отношение числа пользователей с событием B к количеству пользователей с событием A, а также отношение числа пользователей с событием C к количеству пользователей с событием B.\n",
    "    * На каком шаге теряем больше всего пользователей?\n",
    "    * Какая доля пользователей доходит от первого события до оплаты?\n",
    "4. Изучим результаты эксперимента:\n",
    "    * Сколько пользователей в каждой экспериментальной группе?\n",
    "    * Есть 2 контрольные группы для А/А-эксперимента, чтобы проверить корректность всех механизмов и расчётов. Проверим, находят ли статистические критерии разницу между выборками 246 и 247;\n",
    "    * Выберим самое популярное событие. Посчитаем число пользователей, совершивших это событие в каждой из контрольных групп. Посчитаем долю пользователей, совершивших это событие. Проверим, будет ли отличие между группами статистически достоверным. Проделаем то же самое для всех других событий (удобно обернуть проверку в отдельную функцию). Ответим на вопрос, можно ли сказать, что разбиение на группы работает корректно;\n",
    "    * Аналогично поступим с группой с изменённым шрифтом. Сравним результаты с каждой из контрольных групп в отдельности по каждому событию. Сравним результаты с объединённой контрольной группой. Сформируем выводы из эксперимента;\n",
    "    * Посчитаем, сколько проверок статистических гипотез мы сделали. При уровне значимости 0.1 в 10% случаев можно ошибочно отклонить нулевую гипотезу при условии, что она верна. Ответим на вопрос, какой уровень значимости стоит применить."
   ]
  },
  {
   "cell_type": "markdown",
   "metadata": {},
   "source": [
    "<a id=\"ogl\"></a>\n",
    "## Оглавление"
   ]
  },
  {
   "cell_type": "markdown",
   "metadata": {},
   "source": [
    "* [Оглавление](#ogl)\n",
    "* [Предустановки](#setup)\n",
    "    * [Установка необходимых библиотек](#setup1)\n",
    "    * [Установка необходимых настроек](#setup2)\n",
    "    * [Создание необходимых функций для автоматизации исследования](#setup3)       \n",
    "* [Загрузка данных и первое знакомство с данными](#load_data)\n",
    "    * [Описание данных](#load_data1)\n",
    "    * [Загрузка данных](#load_data2)\n",
    "    * [Первая информация по данным](#load_data3)\n",
    "    * [Выводы](#load_data4)\n",
    "* [Предобработка данных](#predobr_data)\n",
    "    * [Выводы](#predobr_data1)    \n",
    "* [Изучение и проверка данных](#analis_data)\n",
    "    * [Выводы](#analis_data1)    \n",
    "* [Изучение воронки событий](#analis_funnel)\n",
    "    * [Выводы](#analis_funnel1)\n",
    "* [Изучение результатов эксперимента](#analis_exp)\n",
    "    * [Проверка на статистически значимое различие долей контрольных групп 246 и 247](#analis_exp1)\n",
    "        * [Выводы](#analis_exp2)\n",
    "    * [Проверка на статистически значимое различие долей между контрольными(246, 247) и экспериментальной(248) группами с поправкой Бонферрони](#analis_exp3)\n",
    "        * [Выводы](#analis_exp4) \n",
    "    * [Проверка на статистически значимое различие долей между контрольными(246, 247) и экспериментальной(248) группами без поправки Бонферрони](#analis_exp5)\n",
    "        * [Выводы](#analis_exp6)\n",
    "* [Общие выводы по исследованию](#conclusion_project)"
   ]
  },
  {
   "cell_type": "markdown",
   "metadata": {},
   "source": [
    "<a id=\"setup\"></a>\n",
    "## Предустановки"
   ]
  },
  {
   "cell_type": "markdown",
   "metadata": {},
   "source": [
    "<a id=\"setup1\"></a>\n",
    "### Установка необходимых библиотек"
   ]
  },
  {
   "cell_type": "code",
   "execution_count": 1,
   "metadata": {},
   "outputs": [],
   "source": [
    "# установим необходимые библиотеки\n",
    "import pandas as pd\n",
    "import numpy as np\n",
    "from scipy import stats as st\n",
    "from scipy.stats import wilcoxon\n",
    "import warnings\n",
    "import matplotlib.pyplot as plt\n",
    "import seaborn as sns\n",
    "import plotly.graph_objects as go"
   ]
  },
  {
   "cell_type": "markdown",
   "metadata": {},
   "source": [
    "<a id=\"setup2\"></a>\n",
    "### Создание необходимых настроек"
   ]
  },
  {
   "cell_type": "code",
   "execution_count": 2,
   "metadata": {},
   "outputs": [],
   "source": [
    "# запрет вывода больших чисел в научной нотации и разрешение выводить два десятичных знака после запятой\n",
    "pd.set_option('display.float_format', '{:.3f}'.format)\n",
    "# убираем предупреждения\n",
    "warnings.filterwarnings(\"ignore\")\n",
    "# установим стиль отображения графика\n",
    "sns.set(style='white')"
   ]
  },
  {
   "cell_type": "markdown",
   "metadata": {},
   "source": [
    "<a id=\"setup3\"></a>\n",
    "### Создание необходимых функций для автоматизации исследования"
   ]
  },
  {
   "cell_type": "code",
   "execution_count": 3,
   "metadata": {},
   "outputs": [],
   "source": [
    "# функция вывода основных данных по датафрейму\n",
    "def first_data(df):\n",
    "    print('Первые 5 строк датафрейма:')      \n",
    "    display(df.head())\n",
    "    print()\n",
    "    print('Общая информамия по каждому столбцу датафрейма:')\n",
    "\n",
    "    stat_df = pd.DataFrame({\n",
    "        'count': df.count(), \n",
    "        'count_isna': df.isna().sum(),\n",
    "        'perc_isna%': df.isna().mean()*100,   \n",
    "        'nunique': df.nunique(),    \n",
    "        'min': df.min(),\n",
    "        'max': df.max(),\n",
    "        'dtype':df.dtypes\n",
    "                       }).reset_index()\n",
    "    stat_df.rename(columns={'index': 'columns'}, inplace=True)\n",
    "    stat_df['columns'] = pd.Categorical(stat_df['columns'], categories=df.columns, ordered=True)\n",
    "    stat_df = stat_df.sort_values('columns').set_index('columns')\n",
    "    display(stat_df)\n",
    "    #display(stat_df)\n",
    "    print(f'Количесвтво строк-дубликатов в датафрейме: {df.duplicated().sum()} ({df.duplicated().sum() / len(df) * 100:.1}% от числа всех строк).')"
   ]
  },
  {
   "cell_type": "code",
   "execution_count": 4,
   "metadata": {},
   "outputs": [],
   "source": [
    "# функция приведения имен столбцов к единому стилю\n",
    "def add_underscores(list_col):\n",
    "    list_new_name = []\n",
    "    for name in list_col:\n",
    "        new_name = ''\n",
    "        for i, char in enumerate(name):\n",
    "            if char.isupper():\n",
    "                if (\n",
    "                    (i != 0 and (not name[i - 1].isupper())) \n",
    "                    or \n",
    "                    (i != 0 and (not name[i + 1].isupper()))\n",
    "                ):\n",
    "                    new_name += '_'\n",
    "\n",
    "            new_name += char  # Добавляем текущий символ\n",
    "        list_new_name.append(new_name)  # Добавляем модифицированное имя в результат\n",
    "    list_new_name = list(map(str.lower, list_new_name))  # приведем имена столбцов к нижнему регистру\n",
    "    return list_new_name"
   ]
  },
  {
   "cell_type": "code",
   "execution_count": 5,
   "metadata": {},
   "outputs": [],
   "source": [
    "# круговая диаграмма\n",
    "def pie_graph(data, title=None, col=[0, 1]):\n",
    "    plt.figure(figsize=(8, 8))\n",
    "    colors = sns.color_palette('Set2', 4)\n",
    "    plt.pie(data[data.columns[col[1]]], labels=data[data.columns[col[0]]], autopct='%1.1f%%', startangle=90, colors=colors)\n",
    "    plt.title(title, fontsize=16)\n",
    "    plt.show()"
   ]
  },
  {
   "cell_type": "code",
   "execution_count": 6,
   "metadata": {},
   "outputs": [],
   "source": [
    "# \"воронка\"\n",
    "def funnel_graph(data, col, title_text='Воронка продаж'):\n",
    "    fig = go.Figure(go.Funnel(\n",
    "        y=data['event_name'],\n",
    "        x=data[col],\n",
    "        opacity=0.6,\n",
    "        textposition='inside',\n",
    "        textinfo='value + percent previous'\n",
    "    ))\n",
    "    fig.update_layout(title_text=title_text, title_x=0.5)\n",
    "    fig.show()\n",
    "    "
   ]
  },
  {
   "cell_type": "code",
   "execution_count": 7,
   "metadata": {},
   "outputs": [],
   "source": [
    "# функция проведения z-теста с поправкой Бонферрони\n",
    "def result_test_z(data1, data2, event_name, alpha=0.05, k_bonf=16):\n",
    "    \n",
    "    # критический уровень статистической значимости c поправкой Бонферрони\n",
    "    bonf_alpha = alpha / k_bonf\n",
    "\n",
    "    # число пользователей в группе 1 и группе 2:\n",
    "    n_users = np.array([data1['device_id_hash'].nunique(), \n",
    "                        data2['device_id_hash'].nunique()])\n",
    "\n",
    "    # число пользователей, совершивших событие в сравниваемых группах\n",
    "    success = np.array([data1[data1['event_name'] == event_name]['device_id_hash'].nunique(), \n",
    "                        data2[data2['event_name'] == event_name]['device_id_hash'].nunique()])\n",
    "\n",
    "    # пропорции успехов в группах:\n",
    "    p1 = success[0] / n_users[0]\n",
    "    p2 = success[1] / n_users[1]\n",
    "\n",
    "    # пропорция успехов в комбинированном датасете:\n",
    "    p_combined = (success[0] + success[1]) / (n_users[0] + n_users[1])\n",
    "\n",
    "    # разница пропорций в датасетах\n",
    "    difference = p1 - p2 \n",
    "\n",
    "    # считаем статистику в ст.отклонениях стандартного нормального распределения\n",
    "    z_value = difference /  np.sqrt(p_combined * (1 - p_combined) * (1/n_users[0] + 1/n_users[1]))\n",
    "\n",
    "    # задаем стандартное нормальное распределение\n",
    "    distr = st.norm(0, 1)  \n",
    "\n",
    "    p_value = (1 - distr.cdf(abs(z_value))) * 2  \n",
    "    print()\n",
    "    print('Сравниваемое событие:', event_name)\n",
    "    print('р-значение равно', p_value)\n",
    "    if p_value < bonf_alpha:\n",
    "        print('Отвергаем нулевую гипотезу: разница между долями групп статистически значима')\n",
    "    else:\n",
    "        print(\n",
    "        'Не получилось отвергнуть нулевую гипотезу, нет оснований считать разницу между долями групп статистически значимой')\n"
   ]
  },
  {
   "cell_type": "markdown",
   "metadata": {},
   "source": [
    "<a id=\"load_data\"></a>\n",
    "## Загрузка данных и первое знакомство с ними"
   ]
  },
  {
   "cell_type": "markdown",
   "metadata": {},
   "source": [
    "<a id=\"load_data1\"></a>\n",
    "### Описание данных"
   ]
  },
  {
   "cell_type": "markdown",
   "metadata": {},
   "source": [
    "Каждая запись в логе — это действие пользователя, или событие. \n",
    "* `EventName` — название события;\n",
    "* `DeviceIDHash` — уникальный идентификатор пользователя;\n",
    "* `EventTimestamp` — время события;\n",
    "* `ExpId` — номер эксперимента: 246 и 247 — контрольные группы, а 248 — экспериментальная."
   ]
  },
  {
   "cell_type": "markdown",
   "metadata": {},
   "source": [
    "<a id=\"load_data2\"></a>\n",
    "### Загрузка данных"
   ]
  },
  {
   "cell_type": "code",
   "execution_count": 8,
   "metadata": {},
   "outputs": [],
   "source": [
    "# выгружаем csv-файл и формируем датафрейм (таблицу данных)\n",
    "df = pd.read_csv('/datasets/logs_exp.csv', sep='\\t')"
   ]
  },
  {
   "cell_type": "markdown",
   "metadata": {},
   "source": [
    "<a id=\"load_data3\"></a>\n",
    "### Первая информация по данным"
   ]
  },
  {
   "cell_type": "code",
   "execution_count": 9,
   "metadata": {},
   "outputs": [
    {
     "name": "stdout",
     "output_type": "stream",
     "text": [
      "Первые 5 строк датафрейма:\n"
     ]
    },
    {
     "data": {
      "text/html": [
       "<div>\n",
       "<style scoped>\n",
       "    .dataframe tbody tr th:only-of-type {\n",
       "        vertical-align: middle;\n",
       "    }\n",
       "\n",
       "    .dataframe tbody tr th {\n",
       "        vertical-align: top;\n",
       "    }\n",
       "\n",
       "    .dataframe thead th {\n",
       "        text-align: right;\n",
       "    }\n",
       "</style>\n",
       "<table border=\"1\" class=\"dataframe\">\n",
       "  <thead>\n",
       "    <tr style=\"text-align: right;\">\n",
       "      <th></th>\n",
       "      <th>EventName</th>\n",
       "      <th>DeviceIDHash</th>\n",
       "      <th>EventTimestamp</th>\n",
       "      <th>ExpId</th>\n",
       "    </tr>\n",
       "  </thead>\n",
       "  <tbody>\n",
       "    <tr>\n",
       "      <th>0</th>\n",
       "      <td>MainScreenAppear</td>\n",
       "      <td>4575588528974610257</td>\n",
       "      <td>1564029816</td>\n",
       "      <td>246</td>\n",
       "    </tr>\n",
       "    <tr>\n",
       "      <th>1</th>\n",
       "      <td>MainScreenAppear</td>\n",
       "      <td>7416695313311560658</td>\n",
       "      <td>1564053102</td>\n",
       "      <td>246</td>\n",
       "    </tr>\n",
       "    <tr>\n",
       "      <th>2</th>\n",
       "      <td>PaymentScreenSuccessful</td>\n",
       "      <td>3518123091307005509</td>\n",
       "      <td>1564054127</td>\n",
       "      <td>248</td>\n",
       "    </tr>\n",
       "    <tr>\n",
       "      <th>3</th>\n",
       "      <td>CartScreenAppear</td>\n",
       "      <td>3518123091307005509</td>\n",
       "      <td>1564054127</td>\n",
       "      <td>248</td>\n",
       "    </tr>\n",
       "    <tr>\n",
       "      <th>4</th>\n",
       "      <td>PaymentScreenSuccessful</td>\n",
       "      <td>6217807653094995999</td>\n",
       "      <td>1564055322</td>\n",
       "      <td>248</td>\n",
       "    </tr>\n",
       "  </tbody>\n",
       "</table>\n",
       "</div>"
      ],
      "text/plain": [
       "                 EventName         DeviceIDHash  EventTimestamp  ExpId\n",
       "0         MainScreenAppear  4575588528974610257      1564029816    246\n",
       "1         MainScreenAppear  7416695313311560658      1564053102    246\n",
       "2  PaymentScreenSuccessful  3518123091307005509      1564054127    248\n",
       "3         CartScreenAppear  3518123091307005509      1564054127    248\n",
       "4  PaymentScreenSuccessful  6217807653094995999      1564055322    248"
      ]
     },
     "metadata": {},
     "output_type": "display_data"
    },
    {
     "name": "stdout",
     "output_type": "stream",
     "text": [
      "\n",
      "Общая информамия по каждому столбцу датафрейма:\n"
     ]
    },
    {
     "data": {
      "text/html": [
       "<div>\n",
       "<style scoped>\n",
       "    .dataframe tbody tr th:only-of-type {\n",
       "        vertical-align: middle;\n",
       "    }\n",
       "\n",
       "    .dataframe tbody tr th {\n",
       "        vertical-align: top;\n",
       "    }\n",
       "\n",
       "    .dataframe thead th {\n",
       "        text-align: right;\n",
       "    }\n",
       "</style>\n",
       "<table border=\"1\" class=\"dataframe\">\n",
       "  <thead>\n",
       "    <tr style=\"text-align: right;\">\n",
       "      <th></th>\n",
       "      <th>count</th>\n",
       "      <th>count_isna</th>\n",
       "      <th>perc_isna%</th>\n",
       "      <th>nunique</th>\n",
       "      <th>min</th>\n",
       "      <th>max</th>\n",
       "      <th>dtype</th>\n",
       "    </tr>\n",
       "    <tr>\n",
       "      <th>columns</th>\n",
       "      <th></th>\n",
       "      <th></th>\n",
       "      <th></th>\n",
       "      <th></th>\n",
       "      <th></th>\n",
       "      <th></th>\n",
       "      <th></th>\n",
       "    </tr>\n",
       "  </thead>\n",
       "  <tbody>\n",
       "    <tr>\n",
       "      <th>EventName</th>\n",
       "      <td>244126</td>\n",
       "      <td>0</td>\n",
       "      <td>0.000</td>\n",
       "      <td>5</td>\n",
       "      <td>CartScreenAppear</td>\n",
       "      <td>Tutorial</td>\n",
       "      <td>object</td>\n",
       "    </tr>\n",
       "    <tr>\n",
       "      <th>DeviceIDHash</th>\n",
       "      <td>244126</td>\n",
       "      <td>0</td>\n",
       "      <td>0.000</td>\n",
       "      <td>7551</td>\n",
       "      <td>6888746892508752</td>\n",
       "      <td>9222603179720523844</td>\n",
       "      <td>int64</td>\n",
       "    </tr>\n",
       "    <tr>\n",
       "      <th>EventTimestamp</th>\n",
       "      <td>244126</td>\n",
       "      <td>0</td>\n",
       "      <td>0.000</td>\n",
       "      <td>176654</td>\n",
       "      <td>1564029816</td>\n",
       "      <td>1565212517</td>\n",
       "      <td>int64</td>\n",
       "    </tr>\n",
       "    <tr>\n",
       "      <th>ExpId</th>\n",
       "      <td>244126</td>\n",
       "      <td>0</td>\n",
       "      <td>0.000</td>\n",
       "      <td>3</td>\n",
       "      <td>246</td>\n",
       "      <td>248</td>\n",
       "      <td>int64</td>\n",
       "    </tr>\n",
       "  </tbody>\n",
       "</table>\n",
       "</div>"
      ],
      "text/plain": [
       "                 count  count_isna  perc_isna%  nunique               min  \\\n",
       "columns                                                                     \n",
       "EventName       244126           0       0.000        5  CartScreenAppear   \n",
       "DeviceIDHash    244126           0       0.000     7551  6888746892508752   \n",
       "EventTimestamp  244126           0       0.000   176654        1564029816   \n",
       "ExpId           244126           0       0.000        3               246   \n",
       "\n",
       "                                max   dtype  \n",
       "columns                                      \n",
       "EventName                  Tutorial  object  \n",
       "DeviceIDHash    9222603179720523844   int64  \n",
       "EventTimestamp           1565212517   int64  \n",
       "ExpId                           248   int64  "
      ]
     },
     "metadata": {},
     "output_type": "display_data"
    },
    {
     "name": "stdout",
     "output_type": "stream",
     "text": [
      "Количесвтво строк-дубликатов в датафрейме: 413 (0.2% от числа всех строк).\n"
     ]
    }
   ],
   "source": [
    "# обратимся к функции основных данных датасета\n",
    "first_data(df)"
   ]
  },
  {
   "cell_type": "markdown",
   "metadata": {},
   "source": [
    "<a id=\"load_data4\"></a>\n",
    "### Выводы\n",
    "При первом знакомстве с данными, мы видим что в столбцах есть повторения. Исходя из описания данных столбцов, информация в них не подразумевают уникальность. Поэтому повторяющиеся значения для них, это нормально. Но на всякий случай проверим в следующем разделе на скрытые дубликаты столбенц **EventName**. Все типы данных в столбцах указаны в соответствии с их значениями. В столбце **EventTimestamp** время события представлено в формате unix. В рамках данного проекта нет никакого смысла переводить его из целочисленного формата в формат времени. В следующем разделе будут созданы необходимые столбцы для работы со временем. Обращает на себя внимание количество строк-дубликатов. Таких строк 413."
   ]
  },
  {
   "cell_type": "markdown",
   "metadata": {},
   "source": [
    "<a id=\"predobr_data\"></a>\n",
    "## Предобработка данных"
   ]
  },
  {
   "cell_type": "markdown",
   "metadata": {},
   "source": [
    "Исходя из описания данных и первого знакомства с ними мы видим, что столбцы имеют \"верблюжий\" стиль написания. Сразу изменим, для удобства восприятия, на \"змеиный стиль\"."
   ]
  },
  {
   "cell_type": "code",
   "execution_count": 10,
   "metadata": {
    "scrolled": false
   },
   "outputs": [
    {
     "data": {
      "text/html": [
       "<div>\n",
       "<style scoped>\n",
       "    .dataframe tbody tr th:only-of-type {\n",
       "        vertical-align: middle;\n",
       "    }\n",
       "\n",
       "    .dataframe tbody tr th {\n",
       "        vertical-align: top;\n",
       "    }\n",
       "\n",
       "    .dataframe thead th {\n",
       "        text-align: right;\n",
       "    }\n",
       "</style>\n",
       "<table border=\"1\" class=\"dataframe\">\n",
       "  <thead>\n",
       "    <tr style=\"text-align: right;\">\n",
       "      <th></th>\n",
       "      <th>event_name</th>\n",
       "      <th>device_id_hash</th>\n",
       "      <th>event_timestamp</th>\n",
       "      <th>exp_id</th>\n",
       "    </tr>\n",
       "  </thead>\n",
       "  <tbody>\n",
       "    <tr>\n",
       "      <th>0</th>\n",
       "      <td>MainScreenAppear</td>\n",
       "      <td>4575588528974610257</td>\n",
       "      <td>1564029816</td>\n",
       "      <td>246</td>\n",
       "    </tr>\n",
       "    <tr>\n",
       "      <th>1</th>\n",
       "      <td>MainScreenAppear</td>\n",
       "      <td>7416695313311560658</td>\n",
       "      <td>1564053102</td>\n",
       "      <td>246</td>\n",
       "    </tr>\n",
       "    <tr>\n",
       "      <th>2</th>\n",
       "      <td>PaymentScreenSuccessful</td>\n",
       "      <td>3518123091307005509</td>\n",
       "      <td>1564054127</td>\n",
       "      <td>248</td>\n",
       "    </tr>\n",
       "    <tr>\n",
       "      <th>3</th>\n",
       "      <td>CartScreenAppear</td>\n",
       "      <td>3518123091307005509</td>\n",
       "      <td>1564054127</td>\n",
       "      <td>248</td>\n",
       "    </tr>\n",
       "    <tr>\n",
       "      <th>4</th>\n",
       "      <td>PaymentScreenSuccessful</td>\n",
       "      <td>6217807653094995999</td>\n",
       "      <td>1564055322</td>\n",
       "      <td>248</td>\n",
       "    </tr>\n",
       "  </tbody>\n",
       "</table>\n",
       "</div>"
      ],
      "text/plain": [
       "                event_name       device_id_hash  event_timestamp  exp_id\n",
       "0         MainScreenAppear  4575588528974610257       1564029816     246\n",
       "1         MainScreenAppear  7416695313311560658       1564053102     246\n",
       "2  PaymentScreenSuccessful  3518123091307005509       1564054127     248\n",
       "3         CartScreenAppear  3518123091307005509       1564054127     248\n",
       "4  PaymentScreenSuccessful  6217807653094995999       1564055322     248"
      ]
     },
     "execution_count": 10,
     "metadata": {},
     "output_type": "execute_result"
    }
   ],
   "source": [
    "# приведем имена столбцов к единому, \"змеиному\" стилю \n",
    "df.columns = add_underscores(df.columns.to_list())\n",
    "# проверим изменение имен столбцов\n",
    "df.head()"
   ]
  },
  {
   "cell_type": "markdown",
   "metadata": {},
   "source": [
    "В датасете было обнаружено 413 строк-дубликатов. Что сотавляет 0.2% от всех строк. Удалим их"
   ]
  },
  {
   "cell_type": "code",
   "execution_count": 11,
   "metadata": {},
   "outputs": [
    {
     "name": "stdout",
     "output_type": "stream",
     "text": [
      "Количество строк-дубликатов: 0\n"
     ]
    }
   ],
   "source": [
    "# удалим строки-дубликаты\n",
    "df = df.drop_duplicates().reset_index(drop=True)\n",
    "print('Количество строк-дубликатов:', df.duplicated().sum())"
   ]
  },
  {
   "cell_type": "code",
   "execution_count": 12,
   "metadata": {},
   "outputs": [
    {
     "data": {
      "text/plain": [
       "['CartScreenAppear',\n",
       " 'MainScreenAppear',\n",
       " 'OffersScreenAppear',\n",
       " 'PaymentScreenSuccessful',\n",
       " 'Tutorial']"
      ]
     },
     "execution_count": 12,
     "metadata": {},
     "output_type": "execute_result"
    }
   ],
   "source": [
    "# выведем уникальные значения столбца event_name\n",
    "sorted(df['event_name'].unique().tolist())"
   ]
  },
  {
   "cell_type": "markdown",
   "metadata": {},
   "source": [
    "Добавим столбцы даты и времени, а также отдельный столбец дат. Они нам пригодятся в дальнейших исследованиях"
   ]
  },
  {
   "cell_type": "code",
   "execution_count": 13,
   "metadata": {},
   "outputs": [
    {
     "data": {
      "text/html": [
       "<div>\n",
       "<style scoped>\n",
       "    .dataframe tbody tr th:only-of-type {\n",
       "        vertical-align: middle;\n",
       "    }\n",
       "\n",
       "    .dataframe tbody tr th {\n",
       "        vertical-align: top;\n",
       "    }\n",
       "\n",
       "    .dataframe thead th {\n",
       "        text-align: right;\n",
       "    }\n",
       "</style>\n",
       "<table border=\"1\" class=\"dataframe\">\n",
       "  <thead>\n",
       "    <tr style=\"text-align: right;\">\n",
       "      <th></th>\n",
       "      <th>event_name</th>\n",
       "      <th>device_id_hash</th>\n",
       "      <th>event_timestamp</th>\n",
       "      <th>exp_id</th>\n",
       "      <th>event_daytime</th>\n",
       "      <th>event_day</th>\n",
       "    </tr>\n",
       "  </thead>\n",
       "  <tbody>\n",
       "    <tr>\n",
       "      <th>0</th>\n",
       "      <td>MainScreenAppear</td>\n",
       "      <td>4575588528974610257</td>\n",
       "      <td>1564029816</td>\n",
       "      <td>246</td>\n",
       "      <td>2019-07-25 04:43:36</td>\n",
       "      <td>2019-07-25</td>\n",
       "    </tr>\n",
       "    <tr>\n",
       "      <th>1</th>\n",
       "      <td>MainScreenAppear</td>\n",
       "      <td>7416695313311560658</td>\n",
       "      <td>1564053102</td>\n",
       "      <td>246</td>\n",
       "      <td>2019-07-25 11:11:42</td>\n",
       "      <td>2019-07-25</td>\n",
       "    </tr>\n",
       "    <tr>\n",
       "      <th>2</th>\n",
       "      <td>PaymentScreenSuccessful</td>\n",
       "      <td>3518123091307005509</td>\n",
       "      <td>1564054127</td>\n",
       "      <td>248</td>\n",
       "      <td>2019-07-25 11:28:47</td>\n",
       "      <td>2019-07-25</td>\n",
       "    </tr>\n",
       "    <tr>\n",
       "      <th>3</th>\n",
       "      <td>CartScreenAppear</td>\n",
       "      <td>3518123091307005509</td>\n",
       "      <td>1564054127</td>\n",
       "      <td>248</td>\n",
       "      <td>2019-07-25 11:28:47</td>\n",
       "      <td>2019-07-25</td>\n",
       "    </tr>\n",
       "    <tr>\n",
       "      <th>4</th>\n",
       "      <td>PaymentScreenSuccessful</td>\n",
       "      <td>6217807653094995999</td>\n",
       "      <td>1564055322</td>\n",
       "      <td>248</td>\n",
       "      <td>2019-07-25 11:48:42</td>\n",
       "      <td>2019-07-25</td>\n",
       "    </tr>\n",
       "  </tbody>\n",
       "</table>\n",
       "</div>"
      ],
      "text/plain": [
       "                event_name       device_id_hash  event_timestamp  exp_id  \\\n",
       "0         MainScreenAppear  4575588528974610257       1564029816     246   \n",
       "1         MainScreenAppear  7416695313311560658       1564053102     246   \n",
       "2  PaymentScreenSuccessful  3518123091307005509       1564054127     248   \n",
       "3         CartScreenAppear  3518123091307005509       1564054127     248   \n",
       "4  PaymentScreenSuccessful  6217807653094995999       1564055322     248   \n",
       "\n",
       "        event_daytime   event_day  \n",
       "0 2019-07-25 04:43:36  2019-07-25  \n",
       "1 2019-07-25 11:11:42  2019-07-25  \n",
       "2 2019-07-25 11:28:47  2019-07-25  \n",
       "3 2019-07-25 11:28:47  2019-07-25  \n",
       "4 2019-07-25 11:48:42  2019-07-25  "
      ]
     },
     "execution_count": 13,
     "metadata": {},
     "output_type": "execute_result"
    }
   ],
   "source": [
    "# столбец с датой и временем события\n",
    "df['event_daytime'] = pd.to_datetime(df['event_timestamp'], unit='s')\n",
    "# столбец только с датой события\n",
    "df['event_day'] = pd.to_datetime(df['event_timestamp'], unit='s').dt.date\n",
    "df.head()"
   ]
  },
  {
   "cell_type": "markdown",
   "metadata": {},
   "source": [
    "<a id=\"predobr_data1\"></a>\n",
    "### Выводы\n",
    "При проведении предобработки данных имена столбцов были приведены к более привычному и добному \"змеиному\" стилю. В датасете были удалены 413 строк-дубликатов,что составляет 0.2% от всех данных. Столбец **event_name** был проверен на скрытые дубликаты, которых обнаружено не было. Так же были добавлены столбцы **event_day** и **event_daytime**."
   ]
  },
  {
   "cell_type": "markdown",
   "metadata": {},
   "source": [
    "<a id=\"analis_data\"></a>\n",
    "## Изучение и проверка данных"
   ]
  },
  {
   "cell_type": "markdown",
   "metadata": {},
   "source": [
    "В этом разделе мы изучим и проверим данные:\n",
    "* Сколько всего событий в логе?\n",
    "* Сколько всего пользователей в логе?\n",
    "* Сколько в среднем событий приходится на пользователя?\n",
    "* Данными за какой период мы располагаем? Найдем максимальную и минимальную дату. Изучим, как меняется количество данных: построим столбчатую диаграмму, которая отобразит количество событий в зависимости от времени в разрезе групп;\n",
    "* Ответим на вопрос, можно ли быть уверенным, что у вас одинаково полные данные за весь период? Определим, с какого момента данные полные и отбросим более старые. Данными за какой период времени мы располагаем на самом деле?\n",
    "* Много ли событий и пользователей мы потеряли, отбросив старые данные?\n",
    "* Проверим, что у нас есть пользователи из всех трёх экспериментальных групп;"
   ]
  },
  {
   "cell_type": "code",
   "execution_count": 14,
   "metadata": {
    "scrolled": true
   },
   "outputs": [
    {
     "name": "stdout",
     "output_type": "stream",
     "text": [
      "Всего событий в логе: 243713\n",
      "Всего пользователей в логе: 7551\n",
      "Среднее количество событий на одного пользователя в логе: 32.3\n"
     ]
    }
   ],
   "source": [
    "# подсчитаем количество событий в логе\n",
    "print('Всего событий в логе:', len(df))\n",
    "# подсчитаем количество пользователей в логе\n",
    "print('Всего пользователей в логе:', df['device_id_hash'].nunique())\n",
    "# подсчитаем среднее количество событий на одного пользователя в логе\n",
    "print(f\"Среднее количество событий на одного пользователя в логе: {(len(df) / df['device_id_hash'].nunique()):.1f}\")"
   ]
  },
  {
   "cell_type": "code",
   "execution_count": 15,
   "metadata": {
    "scrolled": false
   },
   "outputs": [
    {
     "data": {
      "text/html": [
       "<div>\n",
       "<style scoped>\n",
       "    .dataframe tbody tr th:only-of-type {\n",
       "        vertical-align: middle;\n",
       "    }\n",
       "\n",
       "    .dataframe tbody tr th {\n",
       "        vertical-align: top;\n",
       "    }\n",
       "\n",
       "    .dataframe thead th {\n",
       "        text-align: right;\n",
       "    }\n",
       "</style>\n",
       "<table border=\"1\" class=\"dataframe\">\n",
       "  <thead>\n",
       "    <tr style=\"text-align: right;\">\n",
       "      <th></th>\n",
       "      <th>index</th>\n",
       "      <th>event_users</th>\n",
       "    </tr>\n",
       "  </thead>\n",
       "  <tbody>\n",
       "    <tr>\n",
       "      <th>0</th>\n",
       "      <td>count</td>\n",
       "      <td>7551.000</td>\n",
       "    </tr>\n",
       "    <tr>\n",
       "      <th>1</th>\n",
       "      <td>mean</td>\n",
       "      <td>32.276</td>\n",
       "    </tr>\n",
       "    <tr>\n",
       "      <th>2</th>\n",
       "      <td>std</td>\n",
       "      <td>65.154</td>\n",
       "    </tr>\n",
       "    <tr>\n",
       "      <th>3</th>\n",
       "      <td>min</td>\n",
       "      <td>1.000</td>\n",
       "    </tr>\n",
       "    <tr>\n",
       "      <th>4</th>\n",
       "      <td>25%</td>\n",
       "      <td>9.000</td>\n",
       "    </tr>\n",
       "    <tr>\n",
       "      <th>5</th>\n",
       "      <td>50%</td>\n",
       "      <td>20.000</td>\n",
       "    </tr>\n",
       "    <tr>\n",
       "      <th>6</th>\n",
       "      <td>75%</td>\n",
       "      <td>37.000</td>\n",
       "    </tr>\n",
       "    <tr>\n",
       "      <th>7</th>\n",
       "      <td>95%</td>\n",
       "      <td>89.000</td>\n",
       "    </tr>\n",
       "    <tr>\n",
       "      <th>8</th>\n",
       "      <td>97%</td>\n",
       "      <td>115.500</td>\n",
       "    </tr>\n",
       "    <tr>\n",
       "      <th>9</th>\n",
       "      <td>99%</td>\n",
       "      <td>200.500</td>\n",
       "    </tr>\n",
       "    <tr>\n",
       "      <th>10</th>\n",
       "      <td>max</td>\n",
       "      <td>2307.000</td>\n",
       "    </tr>\n",
       "  </tbody>\n",
       "</table>\n",
       "</div>"
      ],
      "text/plain": [
       "    index  event_users\n",
       "0   count     7551.000\n",
       "1    mean       32.276\n",
       "2     std       65.154\n",
       "3     min        1.000\n",
       "4     25%        9.000\n",
       "5     50%       20.000\n",
       "6     75%       37.000\n",
       "7     95%       89.000\n",
       "8     97%      115.500\n",
       "9     99%      200.500\n",
       "10    max     2307.000"
      ]
     },
     "execution_count": 15,
     "metadata": {},
     "output_type": "execute_result"
    }
   ],
   "source": [
    "# посмотрим на распределение данных среднего количества событий на одного пользователя\n",
    "(\n",
    "    df.groupby('device_id_hash', as_index=False)\n",
    "    .agg(event_users=('device_id_hash', 'count'))['event_users']\n",
    "    .describe(percentiles=[0.25, 0.5, 0.75, 0.95, 0.97, 0.99])\n",
    "    .reset_index()\n",
    ")"
   ]
  },
  {
   "cell_type": "code",
   "execution_count": 16,
   "metadata": {},
   "outputs": [
    {
     "data": {
      "image/png": "[encoded data removed]",
      "text/plain": [
       "<Figure size 1008x576 with 1 Axes>"
      ]
     },
     "metadata": {},
     "output_type": "display_data"
    }
   ],
   "source": [
    "event_users_df = df.groupby('device_id_hash', as_index=False).agg(event_users=('device_id_hash', 'count'))\n",
    "x_values = pd.Series(range(0,len(event_users_df)))\n",
    "# построим график стоимостей заказов\n",
    "fig, ax = plt.subplots(figsize=(14, 8))\n",
    "fig.suptitle('Среднее количество событий на одного пользователя', fontsize=16)\n",
    "ax.scatter(x_values, event_users_df['event_users'], label='Событие пользователя', marker='*', alpha=0.8, linewidth=2)\n",
    "ax.axhline(y=event_users_df['event_users'].mean(), label=f\"Среднее значение: {event_users_df['event_users'].mean():.1f}\", color='red', linestyle='--')\n",
    "ax.axhline(y=np.percentile(event_users_df['event_users'],[99]), label=f\"99 перцентиль: {np.percentile(event_users_df['event_users'],[99])[0].round(2)}\", color='green', linestyle='--')\n",
    "ax.set_ylabel('Количество событий', fontsize=14)\n",
    "ax.ticklabel_format(style='plain', axis='y')\n",
    "ax.legend(title='Легенда')\n",
    "ax.yaxis.grid(True, linestyle='--')\n",
    "ax.xaxis.grid(True, linestyle='--');"
   ]
  },
  {
   "cell_type": "markdown",
   "metadata": {},
   "source": [
    "В таблице сразу обращает на себя внимание большая разница между медианным и средним значениями, а так же высокое стандартное отклонение. Все это в совокупности указывает на сильное смещение даных в сторону бОльших значений. На графике видно определенное количество пользователей, которые совершили аномально большое количество событий. Из таблицы видно, что всего 1% пользователей совершил больше 200 событий, и 6 пользователей совершили более 1000 событий за две недели. Посмотрим на них."
   ]
  },
  {
   "cell_type": "code",
   "execution_count": 17,
   "metadata": {},
   "outputs": [
    {
     "name": "stdout",
     "output_type": "stream",
     "text": [
      "Пользователей, совершивших более 200 событий: 76\n",
      "Доля пользователей, от общего числа: 1.0%\n",
      "Общее количество событий, совершеных этими пользователями: 34380\n",
      "Доля событий, совершеных этими пользователями: 14.1%\n"
     ]
    }
   ],
   "source": [
    "# создадим список из уникальных пользователей\n",
    "list_crazy_user = event_users_df[event_users_df['event_users'] > 200]['device_id_hash'].tolist()\n",
    "print(f\"Пользователей, совершивших более 200 событий: {len(list_crazy_user)}\")\n",
    "print(f\"Доля пользователей, от общего числа: {len(list_crazy_user) / df['device_id_hash'].nunique() * 100:.1f}%\")\n",
    "print(f\"Общее количество событий, совершеных этими пользователями: {len(df.loc[df['device_id_hash'].isin(list_crazy_user)])}\")\n",
    "print(f\"Доля событий, совершеных этими пользователями: {len(df.loc[df['device_id_hash'].isin(list_crazy_user)]) / len(df) * 100:.1f}%\")"
   ]
  },
  {
   "cell_type": "code",
   "execution_count": 18,
   "metadata": {},
   "outputs": [
    {
     "data": {
      "text/html": [
       "<div>\n",
       "<style scoped>\n",
       "    .dataframe tbody tr th:only-of-type {\n",
       "        vertical-align: middle;\n",
       "    }\n",
       "\n",
       "    .dataframe tbody tr th {\n",
       "        vertical-align: top;\n",
       "    }\n",
       "\n",
       "    .dataframe thead th {\n",
       "        text-align: right;\n",
       "    }\n",
       "</style>\n",
       "<table border=\"1\" class=\"dataframe\">\n",
       "  <thead>\n",
       "    <tr style=\"text-align: right;\">\n",
       "      <th></th>\n",
       "      <th>event_name</th>\n",
       "      <th>cnt</th>\n",
       "    </tr>\n",
       "  </thead>\n",
       "  <tbody>\n",
       "    <tr>\n",
       "      <th>0</th>\n",
       "      <td>CartScreenAppear</td>\n",
       "      <td>13072</td>\n",
       "    </tr>\n",
       "    <tr>\n",
       "      <th>3</th>\n",
       "      <td>PaymentScreenSuccessful</td>\n",
       "      <td>11769</td>\n",
       "    </tr>\n",
       "    <tr>\n",
       "      <th>2</th>\n",
       "      <td>OffersScreenAppear</td>\n",
       "      <td>5423</td>\n",
       "    </tr>\n",
       "    <tr>\n",
       "      <th>1</th>\n",
       "      <td>MainScreenAppear</td>\n",
       "      <td>4090</td>\n",
       "    </tr>\n",
       "    <tr>\n",
       "      <th>4</th>\n",
       "      <td>Tutorial</td>\n",
       "      <td>26</td>\n",
       "    </tr>\n",
       "  </tbody>\n",
       "</table>\n",
       "</div>"
      ],
      "text/plain": [
       "                event_name    cnt\n",
       "0         CartScreenAppear  13072\n",
       "3  PaymentScreenSuccessful  11769\n",
       "2       OffersScreenAppear   5423\n",
       "1         MainScreenAppear   4090\n",
       "4                 Tutorial     26"
      ]
     },
     "execution_count": 18,
     "metadata": {},
     "output_type": "execute_result"
    }
   ],
   "source": [
    "# посмотрим на количество созданных ими событий\n",
    "(\n",
    "    df.loc[df['device_id_hash'].isin(list_crazy_user)]\n",
    "       .groupby('event_name', as_index=False)\n",
    "       .agg(\n",
    "           cnt=('event_name', 'count')\n",
    "       ).sort_values('cnt', ascending=False)       \n",
    ")"
   ]
  },
  {
   "cell_type": "code",
   "execution_count": 19,
   "metadata": {},
   "outputs": [
    {
     "data": {
      "text/html": [
       "<div>\n",
       "<style scoped>\n",
       "    .dataframe tbody tr th:only-of-type {\n",
       "        vertical-align: middle;\n",
       "    }\n",
       "\n",
       "    .dataframe tbody tr th {\n",
       "        vertical-align: top;\n",
       "    }\n",
       "\n",
       "    .dataframe thead th {\n",
       "        text-align: right;\n",
       "    }\n",
       "</style>\n",
       "<table border=\"1\" class=\"dataframe\">\n",
       "  <thead>\n",
       "    <tr style=\"text-align: right;\">\n",
       "      <th></th>\n",
       "      <th>device_id_hash</th>\n",
       "      <th>cnt</th>\n",
       "      <th>MainScreenAppear</th>\n",
       "      <th>OffersScreenAppear</th>\n",
       "      <th>CartScreenAppear</th>\n",
       "      <th>PaymentScreenSuccessful</th>\n",
       "    </tr>\n",
       "  </thead>\n",
       "  <tbody>\n",
       "    <tr>\n",
       "      <th>54</th>\n",
       "      <td>6304868067479728361</td>\n",
       "      <td>2307</td>\n",
       "      <td>46</td>\n",
       "      <td>76</td>\n",
       "      <td>1100</td>\n",
       "      <td>1085</td>\n",
       "    </tr>\n",
       "    <tr>\n",
       "      <th>0</th>\n",
       "      <td>197027893265565660</td>\n",
       "      <td>1998</td>\n",
       "      <td>93</td>\n",
       "      <td>107</td>\n",
       "      <td>932</td>\n",
       "      <td>866</td>\n",
       "    </tr>\n",
       "    <tr>\n",
       "      <th>41</th>\n",
       "      <td>4623191541214045580</td>\n",
       "      <td>1768</td>\n",
       "      <td>91</td>\n",
       "      <td>137</td>\n",
       "      <td>778</td>\n",
       "      <td>762</td>\n",
       "    </tr>\n",
       "    <tr>\n",
       "      <th>59</th>\n",
       "      <td>6932517045703054087</td>\n",
       "      <td>1439</td>\n",
       "      <td>112</td>\n",
       "      <td>509</td>\n",
       "      <td>417</td>\n",
       "      <td>401</td>\n",
       "    </tr>\n",
       "    <tr>\n",
       "      <th>15</th>\n",
       "      <td>1754140665440434215</td>\n",
       "      <td>1221</td>\n",
       "      <td>10</td>\n",
       "      <td>45</td>\n",
       "      <td>596</td>\n",
       "      <td>570</td>\n",
       "    </tr>\n",
       "    <tr>\n",
       "      <th>27</th>\n",
       "      <td>3337471580007169353</td>\n",
       "      <td>1186</td>\n",
       "      <td>57</td>\n",
       "      <td>77</td>\n",
       "      <td>527</td>\n",
       "      <td>525</td>\n",
       "    </tr>\n",
       "    <tr>\n",
       "      <th>65</th>\n",
       "      <td>7738058666231999878</td>\n",
       "      <td>888</td>\n",
       "      <td>38</td>\n",
       "      <td>68</td>\n",
       "      <td>413</td>\n",
       "      <td>368</td>\n",
       "    </tr>\n",
       "    <tr>\n",
       "      <th>9</th>\n",
       "      <td>1055544042902443290</td>\n",
       "      <td>854</td>\n",
       "      <td>52</td>\n",
       "      <td>58</td>\n",
       "      <td>379</td>\n",
       "      <td>365</td>\n",
       "    </tr>\n",
       "    <tr>\n",
       "      <th>44</th>\n",
       "      <td>4713748699910253089</td>\n",
       "      <td>824</td>\n",
       "      <td>23</td>\n",
       "      <td>59</td>\n",
       "      <td>376</td>\n",
       "      <td>366</td>\n",
       "    </tr>\n",
       "    <tr>\n",
       "      <th>68</th>\n",
       "      <td>8118046800480174342</td>\n",
       "      <td>755</td>\n",
       "      <td>94</td>\n",
       "      <td>46</td>\n",
       "      <td>321</td>\n",
       "      <td>293</td>\n",
       "    </tr>\n",
       "  </tbody>\n",
       "</table>\n",
       "</div>"
      ],
      "text/plain": [
       "         device_id_hash   cnt  MainScreenAppear  OffersScreenAppear  \\\n",
       "54  6304868067479728361  2307                46                  76   \n",
       "0    197027893265565660  1998                93                 107   \n",
       "41  4623191541214045580  1768                91                 137   \n",
       "59  6932517045703054087  1439               112                 509   \n",
       "15  1754140665440434215  1221                10                  45   \n",
       "27  3337471580007169353  1186                57                  77   \n",
       "65  7738058666231999878   888                38                  68   \n",
       "9   1055544042902443290   854                52                  58   \n",
       "44  4713748699910253089   824                23                  59   \n",
       "68  8118046800480174342   755                94                  46   \n",
       "\n",
       "    CartScreenAppear  PaymentScreenSuccessful  \n",
       "54              1100                     1085  \n",
       "0                932                      866  \n",
       "41               778                      762  \n",
       "59               417                      401  \n",
       "15               596                      570  \n",
       "27               527                      525  \n",
       "65               413                      368  \n",
       "9                379                      365  \n",
       "44               376                      366  \n",
       "68               321                      293  "
      ]
     },
     "execution_count": 19,
     "metadata": {},
     "output_type": "execute_result"
    }
   ],
   "source": [
    "# посмотрим на 10 пользователей, которые совершили наибольшее количество событий\n",
    "(\n",
    "    df.loc[df['device_id_hash'].isin(list_crazy_user)]\n",
    "       .groupby('device_id_hash', as_index=False)\n",
    "       .agg(\n",
    "           cnt=('event_name', 'count'),\n",
    "           MainScreenAppear=('event_name', lambda x: (x == 'MainScreenAppear').sum()),\n",
    "           OffersScreenAppear=('event_name', lambda x: (x == 'OffersScreenAppear').sum()),\n",
    "           CartScreenAppear=('event_name', lambda x: (x == 'CartScreenAppear').sum()),\n",
    "           PaymentScreenSuccessful=('event_name', lambda x: (x == 'PaymentScreenSuccessful').sum())                      \n",
    "       ).sort_values('cnt', ascending=False).head(10)\n",
    "       )"
   ]
  },
  {
   "cell_type": "markdown",
   "metadata": {},
   "source": [
    "**UPDATE**\n",
    "\n",
    "Воронку событий приложения мы еще не составляли, но очевидно, что события оформления(CartScreenAppear) и оплаты заказа(PaymentScreenSuccessful) не должны превышать событие формирования заказа(OffersScreenAppear)."
   ]
  },
  {
   "cell_type": "code",
   "execution_count": 20,
   "metadata": {
    "scrolled": true
   },
   "outputs": [
    {
     "data": {
      "text/html": [
       "<div>\n",
       "<style scoped>\n",
       "    .dataframe tbody tr th:only-of-type {\n",
       "        vertical-align: middle;\n",
       "    }\n",
       "\n",
       "    .dataframe tbody tr th {\n",
       "        vertical-align: top;\n",
       "    }\n",
       "\n",
       "    .dataframe thead th {\n",
       "        text-align: right;\n",
       "    }\n",
       "</style>\n",
       "<table border=\"1\" class=\"dataframe\">\n",
       "  <thead>\n",
       "    <tr style=\"text-align: right;\">\n",
       "      <th></th>\n",
       "      <th>exp_id</th>\n",
       "      <th>cnt_user</th>\n",
       "    </tr>\n",
       "  </thead>\n",
       "  <tbody>\n",
       "    <tr>\n",
       "      <th>0</th>\n",
       "      <td>246</td>\n",
       "      <td>28</td>\n",
       "    </tr>\n",
       "    <tr>\n",
       "      <th>2</th>\n",
       "      <td>248</td>\n",
       "      <td>26</td>\n",
       "    </tr>\n",
       "    <tr>\n",
       "      <th>1</th>\n",
       "      <td>247</td>\n",
       "      <td>22</td>\n",
       "    </tr>\n",
       "  </tbody>\n",
       "</table>\n",
       "</div>"
      ],
      "text/plain": [
       "   exp_id  cnt_user\n",
       "0     246        28\n",
       "2     248        26\n",
       "1     247        22"
      ]
     },
     "execution_count": 20,
     "metadata": {},
     "output_type": "execute_result"
    }
   ],
   "source": [
    "# посмотрим как пользователи распределены по группам\n",
    "(\n",
    "    df.loc[df['device_id_hash'].isin(list_crazy_user)]\n",
    "       .groupby('exp_id', as_index=False)\n",
    "       .agg(\n",
    "           cnt_user=('device_id_hash', 'nunique')\n",
    "       ).sort_values('cnt_user', ascending=False)\n",
    "       )"
   ]
  },
  {
   "cell_type": "markdown",
   "metadata": {},
   "source": [
    "Распределение по группам достаточно равномерное.\n",
    "\n",
    "В целом, сложно сказать, что это за пользователи. С одной стороны, количество событий явно аномально. С другой, количество событий успешной оплаты у каждого пользователя чуть ниже, чем количество оформленных заказов, что не похоже на какой-то случайный набор данных. В реальной ситуации необходимо было бы выяснить у коллег, что это за пользователи. В рамках проекта данных явно не достаочно. Если удалить этих пользователей, то это будет порядка 14% от всех данных лога и 1% от всех пользователей. Учитывая, что главная цель исследования, это анализ A/A/B-теста, для нас важны уникальные пользователи. 1% это допустимые потери. При этом 14% аномальных данных по количеству событий, могут исказить другие наблюдения по проекту, что тоже говорит в пользу их удаления. Учитывая то, что мы не можем однозначно утверждать реальные это покупатели, сбой системы или ошибки выгрузки данных, лучше удалим этих пользователей из лога"
   ]
  },
  {
   "cell_type": "code",
   "execution_count": 21,
   "metadata": {},
   "outputs": [],
   "source": [
    "df = df.loc[~df['device_id_hash'].isin(list_crazy_user)]"
   ]
  },
  {
   "cell_type": "markdown",
   "metadata": {},
   "source": [
    "Посчитаем еще раз количество логов, пользователей и среднего количества событий на по льзователя"
   ]
  },
  {
   "cell_type": "code",
   "execution_count": 22,
   "metadata": {},
   "outputs": [
    {
     "name": "stdout",
     "output_type": "stream",
     "text": [
      "Всего событий в логе: 209333\n",
      "Всего пользователей в логе: 7475\n",
      "Среднее количество событий на одного пользователя в логе: 28.0\n"
     ]
    }
   ],
   "source": [
    "# подсчитаем количество событий в логе\n",
    "print('Всего событий в логе:', len(df))\n",
    "# подсчитаем количество пользователей в логе\n",
    "print('Всего пользователей в логе:', df['device_id_hash'].nunique())\n",
    "# подсчитаем среднее количество событий на одного пользователя в логе\n",
    "print(f\"Среднее количество событий на одного пользователя в логе: {(len(df) / df['device_id_hash'].nunique()):.1f}\")"
   ]
  },
  {
   "cell_type": "code",
   "execution_count": 23,
   "metadata": {},
   "outputs": [
    {
     "name": "stdout",
     "output_type": "stream",
     "text": [
      "В датафрейме данные представлены с 2019-07-25 по 2019-08-07 включительно.\n"
     ]
    }
   ],
   "source": [
    "# Определим начальную и конечную даты событий\n",
    "print(f\"В датафрейме данные представлены с {df['event_day'].min()} по {df['event_day'].max()} включительно.\")"
   ]
  },
  {
   "cell_type": "code",
   "execution_count": 24,
   "metadata": {},
   "outputs": [
    {
     "data": {
      "image/png": "[encoded data removed]",
      "text/plain": [
       "<Figure size 1008x576 with 1 Axes>"
      ]
     },
     "metadata": {},
     "output_type": "display_data"
    }
   ],
   "source": [
    "# построим столбчатую диаграмму, которая отобразит количество событий в зависимости от времени в разрезе групп\n",
    "daily_event_counts = df.groupby(['event_day', 'exp_id']).agg(event_users=('exp_id', 'count')).reset_index()\n",
    "plt.figure(figsize=(14, 8))\n",
    "sns.barplot(data=daily_event_counts, x='event_day', y='event_users', hue='exp_id')\n",
    "plt.title('Изменение количества пользователей событий по дням для каждой группы', fontsize=16)\n",
    "plt.xlabel('Дата события', fontsize=14)\n",
    "plt.ylabel('Количество пользователей событий', fontsize=14)\n",
    "plt.legend(title='Номер группы')\n",
    "plt.xticks(rotation=45)\n",
    "plt.grid(axis='y')"
   ]
  },
  {
   "cell_type": "markdown",
   "metadata": {},
   "source": [
    "График наглядно показывает, что несмотря на то, что у нас данные за 14 дней (с 2019-07-25 по 2019-08-07), релевантными являются данные только за 7 дней, в период с 2019-08-01 по 2019-08-07. Учитывая, что это приложение стартапа, то скорее всего, 2019-08-01 был запуск продукта(мобильного приложения) с предшествующим этому основательным \"прогревом\" целевой аудитории. Просто рекламой такой резкий скачок объяснить сложно. Те пользователи, которые присутствовали до 2019-08-01 вполне могли быть теми, кто тестировал приложение.\n",
    "\n",
    "Ввиду неактуальности данных до 2019-07-31 включительно, удалим из датафрейма."
   ]
  },
  {
   "cell_type": "code",
   "execution_count": 25,
   "metadata": {},
   "outputs": [],
   "source": [
    "# отфильтруем датасет df от ненужных нам дат\n",
    "df_actual_data = df.loc[df['event_day'] >= pd.to_datetime('2019-08-01')]"
   ]
  },
  {
   "cell_type": "code",
   "execution_count": 26,
   "metadata": {},
   "outputs": [
    {
     "name": "stdout",
     "output_type": "stream",
     "text": [
      "Потеряно событий 2718, или 1.3% от изначального количества данных\n"
     ]
    }
   ],
   "source": [
    "# рассчитаем количество потерянных событий\n",
    "print(f\"Потеряно событий {len(df) - len(df_actual_data)}, или {((len(df) - len(df_actual_data)) / len(df) * 100):.1f}% от изначального количества данных\")"
   ]
  },
  {
   "cell_type": "code",
   "execution_count": 27,
   "metadata": {
    "scrolled": true
   },
   "outputs": [
    {
     "name": "stdout",
     "output_type": "stream",
     "text": [
      "Потеряно пользователей 17, или 0.2% от изначального числа пользователей\n",
      "Осталось пользователей: 7458\n"
     ]
    }
   ],
   "source": [
    "# подсчитаем количество потеряных пользователей\n",
    "print(f\"Потеряно пользователей {df['device_id_hash'].nunique() - df_actual_data['device_id_hash'].nunique()}, или {((df['device_id_hash'].nunique() - df_actual_data['device_id_hash'].nunique()) / df['device_id_hash'].nunique() * 100):.1f}% от изначального числа пользователей\")\n",
    "print(f\"Осталось пользователей: {df_actual_data['device_id_hash'].nunique()}\")"
   ]
  },
  {
   "cell_type": "markdown",
   "metadata": {},
   "source": [
    "До 2019-07-31 в приложении присутствовало всего 17 пользователей. Это тоже говорит о том, что скорее всего это были пользователи, которые тестировали приложение перед его запуском.\n",
    "\n",
    "Сравним как изменились когорты пользователей после удаления нерелевантных данных."
   ]
  },
  {
   "cell_type": "code",
   "execution_count": 28,
   "metadata": {},
   "outputs": [
    {
     "data": {
      "text/html": [
       "<style  type=\"text/css\" >\n",
       "#T_24266_row2_col3{\n",
       "            background-color:  gold;\n",
       "        }</style><table id=\"T_24266_\" ><thead>    <tr>        <th class=\"blank level0\" ></th>        <th class=\"col_heading level0 col0\" >group</th>        <th class=\"col_heading level0 col1\" >perc_all</th>        <th class=\"col_heading level0 col2\" >perc_w2</th>        <th class=\"col_heading level0 col3\" >dif_perc</th>    </tr></thead><tbody>\n",
       "                <tr>\n",
       "                        <th id=\"T_24266_level0_row0\" class=\"row_heading level0 row0\" >2</th>\n",
       "                        <td id=\"T_24266_row0_col0\" class=\"data row0 col0\" >246</td>\n",
       "                        <td id=\"T_24266_row0_col1\" class=\"data row0 col1\" >32.604033</td>\n",
       "                        <td id=\"T_24266_row0_col2\" class=\"data row0 col2\" >32.626866</td>\n",
       "                        <td id=\"T_24266_row0_col3\" class=\"data row0 col3\" >0.022834</td>\n",
       "            </tr>\n",
       "            <tr>\n",
       "                        <th id=\"T_24266_level0_row1\" class=\"row_heading level0 row1\" >1</th>\n",
       "                        <td id=\"T_24266_row1_col0\" class=\"data row1 col0\" >247</td>\n",
       "                        <td id=\"T_24266_row1_col1\" class=\"data row1 col1\" >33.053556</td>\n",
       "                        <td id=\"T_24266_row1_col2\" class=\"data row1 col2\" >33.054231</td>\n",
       "                        <td id=\"T_24266_row1_col3\" class=\"data row1 col3\" >0.000675</td>\n",
       "            </tr>\n",
       "            <tr>\n",
       "                        <th id=\"T_24266_level0_row2\" class=\"row_heading level0 row2\" >0</th>\n",
       "                        <td id=\"T_24266_row2_col0\" class=\"data row2 col0\" >248</td>\n",
       "                        <td id=\"T_24266_row2_col1\" class=\"data row2 col1\" >34.342411</td>\n",
       "                        <td id=\"T_24266_row2_col2\" class=\"data row2 col2\" >34.318902</td>\n",
       "                        <td id=\"T_24266_row2_col3\" class=\"data row2 col3\" >0.023509</td>\n",
       "            </tr>\n",
       "    </tbody></table>"
      ],
      "text/plain": [
       "<pandas.io.formats.style.Styler at 0x7f4b5b2bf850>"
      ]
     },
     "execution_count": 28,
     "metadata": {},
     "output_type": "execute_result"
    }
   ],
   "source": [
    "(\n",
    "    df['exp_id']\n",
    "    .value_counts(normalize=True)\n",
    "    .mul(100)\n",
    "    .reset_index()\n",
    "    .rename(columns={'index': 'group', 'exp_id': 'perc_all'})\n",
    ".merge(\n",
    "    df.loc[df['event_day'] > pd.to_datetime('2019-07-31')]['exp_id']\n",
    "    .value_counts(normalize=True)\n",
    "    .mul(100)\n",
    "    .reset_index()\n",
    "    .rename(columns={'index': 'group', 'exp_id': 'perc_w2'}),\n",
    "    on='group').sort_values('group')\n",
    ".assign(dif_perc=lambda x: abs(x['perc_all'] - x['perc_w2']))\n",
    ".style.highlight_max(color='gold', subset='dif_perc')\n",
    ")"
   ]
  },
  {
   "cell_type": "markdown",
   "metadata": {},
   "source": [
    "Как видно из таблицы, после удаления данных, когорты претерпели минимальные изменения. Изменение числа пользователей между когортами не превышает 0.023% от изначального распределения групп."
   ]
  },
  {
   "cell_type": "markdown",
   "metadata": {},
   "source": [
    "<a id=\"analis_data1\"></a>\n",
    "### Выводы\n",
    "\n",
    "Изучив и проверив данные мы выяснили, что в логе присутствует 243713 событий и 7551 пользователь. При расчете среднего значения событий на пользователя, нами были обнаружены 76 пользователей, которые совершили аномально высокое количество событий(более 200). Было решено их удалить. Так же мы обнаружили, что несмотря на то, что в нашем распоряжении были данные за 14 дней (с 2019-07-25 по 2019-08-07), релевантными являются данные только за последние 7 дней, в период с 2019-08-01 по 2019-08-07. На первый взгляд кажется, что потери данных должны быть большими, но это не так. Например, потери событий составили 1.3% от изначального их количества. А число пользователей уменьшилось всего на 0.2% от изначального их числа и составило 7458. Соотношение пользователей между когортами так же претерпело минимальные изменения и составило порядка 0.02% от изначального распределения."
   ]
  },
  {
   "cell_type": "markdown",
   "metadata": {},
   "source": [
    "<a id=\"analis_funnel\"></a>\n",
    "## Изучение воронки событий"
   ]
  },
  {
   "cell_type": "markdown",
   "metadata": {},
   "source": [
    "В этом разделе:\n",
    "* Посмотрим, какие события есть в логах, как часто они встречаются. Отсортируем события по частоте.\n",
    "* Посчитаем, сколько пользователей совершали каждое из этих событий. Отсортируем события по числу пользователей. Посчитаем долю  пользователей, которые хоть раз совершали событие.\n",
    "* Предположим, в каком порядке происходят события. Все ли они выстраиваются в последовательную цепочку?\n",
    "* По воронке событий посчитаем, какая доля пользователей проходит на следующий шаг воронки (от числа пользователей на предыдущем). То есть для последовательности событий A → B → C посчитаем отношение числа пользователей с событием B к количеству пользователей с событием A, а также отношение числа пользователей с событием C к количеству пользователей с событием B.\n",
    "* На каком шаге теряем больше всего пользователей?\n",
    "* Какая доля пользователей доходит от первого события до оплаты?"
   ]
  },
  {
   "cell_type": "code",
   "execution_count": 29,
   "metadata": {},
   "outputs": [
    {
     "data": {
      "text/plain": [
       "['CartScreenAppear',\n",
       " 'MainScreenAppear',\n",
       " 'OffersScreenAppear',\n",
       " 'PaymentScreenSuccessful',\n",
       " 'Tutorial']"
      ]
     },
     "execution_count": 29,
     "metadata": {},
     "output_type": "execute_result"
    }
   ],
   "source": [
    "# посмотрим на уникальные события лога\n",
    "sorted(df_actual_data['event_name'].unique().tolist())"
   ]
  },
  {
   "cell_type": "markdown",
   "metadata": {},
   "source": [
    "В данных присутствуют 5 типов событий:\n",
    "* `MainScreenAppear` - событие главного экрана (открытие приложения)\n",
    "* `OffersScreenAppear` - событие формирования заказа (использования каталога товаров, выбор товаров)\n",
    "* `CartScreenAppear` - событие оформления заказа\n",
    "* `PaymentScreenSuccessful` - событие оплаты заказа\n",
    "* `Tutorial` - событие прохождения урока использования приложения\n",
    "\n",
    "Посмотрим на распределение событий в логах"
   ]
  },
  {
   "cell_type": "code",
   "execution_count": 30,
   "metadata": {
    "scrolled": false
   },
   "outputs": [
    {
     "data": {
      "text/html": [
       "<div>\n",
       "<style scoped>\n",
       "    .dataframe tbody tr th:only-of-type {\n",
       "        vertical-align: middle;\n",
       "    }\n",
       "\n",
       "    .dataframe tbody tr th {\n",
       "        vertical-align: top;\n",
       "    }\n",
       "\n",
       "    .dataframe thead th {\n",
       "        text-align: right;\n",
       "    }\n",
       "</style>\n",
       "<table border=\"1\" class=\"dataframe\">\n",
       "  <thead>\n",
       "    <tr style=\"text-align: right;\">\n",
       "      <th></th>\n",
       "      <th>event_name</th>\n",
       "      <th>count</th>\n",
       "    </tr>\n",
       "  </thead>\n",
       "  <tbody>\n",
       "    <tr>\n",
       "      <th>0</th>\n",
       "      <td>MainScreenAppear</td>\n",
       "      <td>113264</td>\n",
       "    </tr>\n",
       "    <tr>\n",
       "      <th>1</th>\n",
       "      <td>OffersScreenAppear</td>\n",
       "      <td>40956</td>\n",
       "    </tr>\n",
       "    <tr>\n",
       "      <th>2</th>\n",
       "      <td>CartScreenAppear</td>\n",
       "      <td>29250</td>\n",
       "    </tr>\n",
       "    <tr>\n",
       "      <th>3</th>\n",
       "      <td>PaymentScreenSuccessful</td>\n",
       "      <td>22164</td>\n",
       "    </tr>\n",
       "    <tr>\n",
       "      <th>4</th>\n",
       "      <td>Tutorial</td>\n",
       "      <td>981</td>\n",
       "    </tr>\n",
       "  </tbody>\n",
       "</table>\n",
       "</div>"
      ],
      "text/plain": [
       "                event_name   count\n",
       "0         MainScreenAppear  113264\n",
       "1       OffersScreenAppear   40956\n",
       "2         CartScreenAppear   29250\n",
       "3  PaymentScreenSuccessful   22164\n",
       "4                 Tutorial     981"
      ]
     },
     "execution_count": 30,
     "metadata": {},
     "output_type": "execute_result"
    }
   ],
   "source": [
    "# распределение событий в логах\n",
    "event_cnt = (\n",
    "    df_actual_data['event_name']\n",
    "    .value_counts()\n",
    "    .reset_index()\n",
    "    .rename(columns={'index': 'event_name', 'event_name': 'count'})\n",
    ")\n",
    "event_cnt"
   ]
  },
  {
   "cell_type": "code",
   "execution_count": 31,
   "metadata": {},
   "outputs": [],
   "source": [
    "# визуализируем распределение событий\n",
    "#pie_graph(event_cnt, title='График распределения событий в логе')"
   ]
  },
  {
   "cell_type": "code",
   "execution_count": 32,
   "metadata": {
    "scrolled": false
   },
   "outputs": [],
   "source": [
    "# построим воронку событий\n",
    "#funnel_graph(event_cnt, col='count', title_text='Воронка событий')"
   ]
  },
  {
   "cell_type": "markdown",
   "metadata": {},
   "source": [
    "Основываясь на данных графика воронки собитий и круговой диаграммы, мы можем сделать вывод, что прохождение урока не обязательно  для совершения покупки. Более того, ничтожно малая часть события Tutorial говорит о том, что приложение интуитивно понятно и не многие пользователи нуждаются в обучении использования приложения.\n",
    "\n",
    "Составим воронку событий приложения:\n",
    "* `MainScreenAppear` - событие главного экрана (открытие приложения)\n",
    "* `OffersScreenAppear` - событие формирования заказа (выбор товаров)\n",
    "* `CartScreenAppear` - событие оформления заказа\n",
    "* `PaymentScreenSuccessful` - событие оплаты заказа\n",
    "\n",
    "Построим еще раз воронку событий, но без учета события Tutorial. Рассчитаем процентное отношение события воронки к числу событий на предыдущем шаге"
   ]
  },
  {
   "cell_type": "code",
   "execution_count": 33,
   "metadata": {},
   "outputs": [
    {
     "data": {
      "text/html": [
       "<div>\n",
       "<style scoped>\n",
       "    .dataframe tbody tr th:only-of-type {\n",
       "        vertical-align: middle;\n",
       "    }\n",
       "\n",
       "    .dataframe tbody tr th {\n",
       "        vertical-align: top;\n",
       "    }\n",
       "\n",
       "    .dataframe thead th {\n",
       "        text-align: right;\n",
       "    }\n",
       "</style>\n",
       "<table border=\"1\" class=\"dataframe\">\n",
       "  <thead>\n",
       "    <tr style=\"text-align: right;\">\n",
       "      <th></th>\n",
       "      <th>event_name</th>\n",
       "      <th>count</th>\n",
       "      <th>perc_incr</th>\n",
       "    </tr>\n",
       "  </thead>\n",
       "  <tbody>\n",
       "    <tr>\n",
       "      <th>0</th>\n",
       "      <td>MainScreenAppear</td>\n",
       "      <td>113264</td>\n",
       "      <td>0.000</td>\n",
       "    </tr>\n",
       "    <tr>\n",
       "      <th>1</th>\n",
       "      <td>OffersScreenAppear</td>\n",
       "      <td>40956</td>\n",
       "      <td>36.160</td>\n",
       "    </tr>\n",
       "    <tr>\n",
       "      <th>2</th>\n",
       "      <td>CartScreenAppear</td>\n",
       "      <td>29250</td>\n",
       "      <td>71.418</td>\n",
       "    </tr>\n",
       "    <tr>\n",
       "      <th>3</th>\n",
       "      <td>PaymentScreenSuccessful</td>\n",
       "      <td>22164</td>\n",
       "      <td>75.774</td>\n",
       "    </tr>\n",
       "  </tbody>\n",
       "</table>\n",
       "</div>"
      ],
      "text/plain": [
       "                event_name   count  perc_incr\n",
       "0         MainScreenAppear  113264      0.000\n",
       "1       OffersScreenAppear   40956     36.160\n",
       "2         CartScreenAppear   29250     71.418\n",
       "3  PaymentScreenSuccessful   22164     75.774"
      ]
     },
     "execution_count": 33,
     "metadata": {},
     "output_type": "execute_result"
    }
   ],
   "source": [
    "# уберем из датасета событие tutorial\n",
    "df_actual_data = df_actual_data.loc[df_actual_data['event_name'] != 'Tutorial'].reset_index()\n",
    "\n",
    "# распределение событий в логах и доля события на данном шаге относительно предыдущего\n",
    "event_cnt_no_tut = (\n",
    "    df_actual_data['event_name']\n",
    "    .value_counts()\n",
    "    .reset_index()\n",
    "    .rename(columns={'index': 'event_name', 'event_name': 'count'})\n",
    "    .assign(perc_incr=lambda x: 100- abs(x['count'].pct_change() * 100))\n",
    "    .fillna(0)\n",
    ")\n",
    "event_cnt_no_tut"
   ]
  },
  {
   "cell_type": "code",
   "execution_count": 52,
   "metadata": {
    "scrolled": false
   },
   "outputs": [],
   "source": [
    "# построим воронку событий без учета события Tutorial\n",
    "#funnel_graph(event_cnt_no_tut, col='count', title_text='Воронка событий без Tutorial')"
   ]
  },
  {
   "cell_type": "markdown",
   "metadata": {},
   "source": [
    "<span style=\"color: gray;\">Из таблицы и графиков мы видим, что после наступления события главного экрана только в 36% случаев наступает событие формирования заказа. Если наступает событие формирования заказа, то с вероятностью в 71% наступает событие оформления заказа. И если заказ оформлен, то в 76% наступает событие оплаты заказа.</span>\n",
    "\n",
    "<span style=\"color: gray;\">Посчитаем, сколько пользователей совершали каждое действие. Рассчитаем процентное изменение числа пользователей проходящих на следующий шаг воронки от числа пользователей на предыдущем шаге</span>"
   ]
  },
  {
   "cell_type": "code",
   "execution_count": 35,
   "metadata": {
    "scrolled": false
   },
   "outputs": [
    {
     "name": "stdout",
     "output_type": "stream",
     "text": [
      "Уникальных пользователей 7454\n"
     ]
    },
    {
     "data": {
      "text/html": [
       "<div>\n",
       "<style scoped>\n",
       "    .dataframe tbody tr th:only-of-type {\n",
       "        vertical-align: middle;\n",
       "    }\n",
       "\n",
       "    .dataframe tbody tr th {\n",
       "        vertical-align: top;\n",
       "    }\n",
       "\n",
       "    .dataframe thead th {\n",
       "        text-align: right;\n",
       "    }\n",
       "</style>\n",
       "<table border=\"1\" class=\"dataframe\">\n",
       "  <thead>\n",
       "    <tr style=\"text-align: right;\">\n",
       "      <th></th>\n",
       "      <th>event_name</th>\n",
       "      <th>count_users</th>\n",
       "      <th>perc_user</th>\n",
       "      <th>perc_incr</th>\n",
       "    </tr>\n",
       "  </thead>\n",
       "  <tbody>\n",
       "    <tr>\n",
       "      <th>1</th>\n",
       "      <td>MainScreenAppear</td>\n",
       "      <td>7344</td>\n",
       "      <td>98.500</td>\n",
       "      <td>0.000</td>\n",
       "    </tr>\n",
       "    <tr>\n",
       "      <th>2</th>\n",
       "      <td>OffersScreenAppear</td>\n",
       "      <td>4517</td>\n",
       "      <td>60.600</td>\n",
       "      <td>61.506</td>\n",
       "    </tr>\n",
       "    <tr>\n",
       "      <th>0</th>\n",
       "      <td>CartScreenAppear</td>\n",
       "      <td>3658</td>\n",
       "      <td>49.100</td>\n",
       "      <td>80.983</td>\n",
       "    </tr>\n",
       "    <tr>\n",
       "      <th>3</th>\n",
       "      <td>PaymentScreenSuccessful</td>\n",
       "      <td>3463</td>\n",
       "      <td>46.500</td>\n",
       "      <td>94.669</td>\n",
       "    </tr>\n",
       "  </tbody>\n",
       "</table>\n",
       "</div>"
      ],
      "text/plain": [
       "                event_name  count_users  perc_user  perc_incr\n",
       "1         MainScreenAppear         7344     98.500      0.000\n",
       "2       OffersScreenAppear         4517     60.600     61.506\n",
       "0         CartScreenAppear         3658     49.100     80.983\n",
       "3  PaymentScreenSuccessful         3463     46.500     94.669"
      ]
     },
     "execution_count": 35,
     "metadata": {},
     "output_type": "execute_result"
    }
   ],
   "source": [
    "# посчитаем, сколько пользователей совершали каждое действие\n",
    "event_cnt_users = (\n",
    "    df_actual_data.loc[df_actual_data['event_name'] != 'Tutorial'].groupby('event_name', as_index=False)\n",
    "    .agg(count_users=('device_id_hash', 'nunique'))\n",
    "    .sort_values('count_users', ascending=False)\n",
    "    .assign(\n",
    "        perc_user=lambda x: (x['count_users'] / df_actual_data['device_id_hash'].nunique() * 100).round(1),\n",
    "        perc_incr=lambda x: 100- abs(x['count_users'].pct_change() * 100))\n",
    "    .fillna(0)\n",
    ")\n",
    "\n",
    "print(f\"Уникальных пользователей {df_actual_data['device_id_hash'].nunique()}\")\n",
    "event_cnt_users"
   ]
  },
  {
   "cell_type": "markdown",
   "metadata": {},
   "source": [
    "Примечательно, что 98.5% пользователей каким-то образом миновали главный экран приложения. Постотрим какие события у этих пользователей были"
   ]
  },
  {
   "cell_type": "code",
   "execution_count": 36,
   "metadata": {
    "scrolled": true
   },
   "outputs": [
    {
     "data": {
      "text/html": [
       "<div>\n",
       "<style scoped>\n",
       "    .dataframe tbody tr th:only-of-type {\n",
       "        vertical-align: middle;\n",
       "    }\n",
       "\n",
       "    .dataframe tbody tr th {\n",
       "        vertical-align: top;\n",
       "    }\n",
       "\n",
       "    .dataframe thead th {\n",
       "        text-align: right;\n",
       "    }\n",
       "</style>\n",
       "<table border=\"1\" class=\"dataframe\">\n",
       "  <thead>\n",
       "    <tr style=\"text-align: right;\">\n",
       "      <th></th>\n",
       "      <th>event_name</th>\n",
       "      <th>cnt_event</th>\n",
       "    </tr>\n",
       "  </thead>\n",
       "  <tbody>\n",
       "    <tr>\n",
       "      <th>1</th>\n",
       "      <td>OffersScreenAppear</td>\n",
       "      <td>922</td>\n",
       "    </tr>\n",
       "    <tr>\n",
       "      <th>0</th>\n",
       "      <td>CartScreenAppear</td>\n",
       "      <td>804</td>\n",
       "    </tr>\n",
       "    <tr>\n",
       "      <th>2</th>\n",
       "      <td>PaymentScreenSuccessful</td>\n",
       "      <td>645</td>\n",
       "    </tr>\n",
       "  </tbody>\n",
       "</table>\n",
       "</div>"
      ],
      "text/plain": [
       "                event_name  cnt_event\n",
       "1       OffersScreenAppear        922\n",
       "0         CartScreenAppear        804\n",
       "2  PaymentScreenSuccessful        645"
      ]
     },
     "execution_count": 36,
     "metadata": {},
     "output_type": "execute_result"
    }
   ],
   "source": [
    "users_msa = df_actual_data.loc[df_actual_data['event_name'] == 'MainScreenAppear', 'device_id_hash'].unique().tolist()\n",
    "(\n",
    "    df_actual_data.loc[~df_actual_data['device_id_hash'].isin(users_msa)]\n",
    "    .groupby('event_name', as_index=False)\n",
    "    .agg(cnt_event=('event_name', 'count'))\n",
    "    .sort_values('cnt_event', ascending=False)\n",
    ")"
   ]
  },
  {
   "cell_type": "markdown",
   "metadata": {},
   "source": [
    "Очень похоже на воронку событий приложения, но без события главного экрана. Возможно какие-то пользователи совершали событие формирования заказа перейдя по рекламной ссылке сразу в профиль товара, тем самым минуя событие главного экрана. Или это как-то связано с пользователями, совершившими аномально большое количество событий.\n",
    "\n",
    "Посмотрим на графики распределения пользователей по событиям"
   ]
  },
  {
   "cell_type": "code",
   "execution_count": 38,
   "metadata": {},
   "outputs": [
    {
     "data": {
      "application/vnd.plotly.v1+json": {
       "config": {
        "plotlyServerURL": "https://plot.ly"
       },
       "data": [
        {
         "opacity": 0.6,
         "textinfo": "value+percent previous",
         "textposition": "inside",
         "type": "funnel",
         "x": [
          7344,
          4517,
          3658,
          3463
         ],
         "y": [
          "MainScreenAppear",
          "OffersScreenAppear",
          "CartScreenAppear",
          "PaymentScreenSuccessful"
         ]
        }
       ],
       "layout": {
        "template": {
         "data": {
          "bar": [
           {
            "error_x": {
             "color": "#2a3f5f"
            },
            "error_y": {
             "color": "#2a3f5f"
            },
            "marker": {
             "line": {
              "color": "#E5ECF6",
              "width": 0.5
             },
             "pattern": {
              "fillmode": "overlay",
              "size": 10,
              "solidity": 0.2
             }
            },
            "type": "bar"
           }
          ],
          "barpolar": [
           {
            "marker": {
             "line": {
              "color": "#E5ECF6",
              "width": 0.5
             },
             "pattern": {
              "fillmode": "overlay",
              "size": 10,
              "solidity": 0.2
             }
            },
            "type": "barpolar"
           }
          ],
          "carpet": [
           {
            "aaxis": {
             "endlinecolor": "#2a3f5f",
             "gridcolor": "white",
             "linecolor": "white",
             "minorgridcolor": "white",
             "startlinecolor": "#2a3f5f"
            },
            "baxis": {
             "endlinecolor": "#2a3f5f",
             "gridcolor": "white",
             "linecolor": "white",
             "minorgridcolor": "white",
             "startlinecolor": "#2a3f5f"
            },
            "type": "carpet"
           }
          ],
          "choropleth": [
           {
            "colorbar": {
             "outlinewidth": 0,
             "ticks": ""
            },
            "type": "choropleth"
           }
          ],
          "contour": [
           {
            "colorbar": {
             "outlinewidth": 0,
             "ticks": ""
            },
            "colorscale": [
             [
              0,
              "#0d0887"
             ],
             [
              0.1111111111111111,
              "#46039f"
             ],
             [
              0.2222222222222222,
              "#7201a8"
             ],
             [
              0.3333333333333333,
              "#9c179e"
             ],
             [
              0.4444444444444444,
              "#bd3786"
             ],
             [
              0.5555555555555556,
              "#d8576b"
             ],
             [
              0.6666666666666666,
              "#ed7953"
             ],
             [
              0.7777777777777778,
              "#fb9f3a"
             ],
             [
              0.8888888888888888,
              "#fdca26"
             ],
             [
              1,
              "#f0f921"
             ]
            ],
            "type": "contour"
           }
          ],
          "contourcarpet": [
           {
            "colorbar": {
             "outlinewidth": 0,
             "ticks": ""
            },
            "type": "contourcarpet"
           }
          ],
          "heatmap": [
           {
            "colorbar": {
             "outlinewidth": 0,
             "ticks": ""
            },
            "colorscale": [
             [
              0,
              "#0d0887"
             ],
             [
              0.1111111111111111,
              "#46039f"
             ],
             [
              0.2222222222222222,
              "#7201a8"
             ],
             [
              0.3333333333333333,
              "#9c179e"
             ],
             [
              0.4444444444444444,
              "#bd3786"
             ],
             [
              0.5555555555555556,
              "#d8576b"
             ],
             [
              0.6666666666666666,
              "#ed7953"
             ],
             [
              0.7777777777777778,
              "#fb9f3a"
             ],
             [
              0.8888888888888888,
              "#fdca26"
             ],
             [
              1,
              "#f0f921"
             ]
            ],
            "type": "heatmap"
           }
          ],
          "heatmapgl": [
           {
            "colorbar": {
             "outlinewidth": 0,
             "ticks": ""
            },
            "colorscale": [
             [
              0,
              "#0d0887"
             ],
             [
              0.1111111111111111,
              "#46039f"
             ],
             [
              0.2222222222222222,
              "#7201a8"
             ],
             [
              0.3333333333333333,
              "#9c179e"
             ],
             [
              0.4444444444444444,
              "#bd3786"
             ],
             [
              0.5555555555555556,
              "#d8576b"
             ],
             [
              0.6666666666666666,
              "#ed7953"
             ],
             [
              0.7777777777777778,
              "#fb9f3a"
             ],
             [
              0.8888888888888888,
              "#fdca26"
             ],
             [
              1,
              "#f0f921"
             ]
            ],
            "type": "heatmapgl"
           }
          ],
          "histogram": [
           {
            "marker": {
             "pattern": {
              "fillmode": "overlay",
              "size": 10,
              "solidity": 0.2
             }
            },
            "type": "histogram"
           }
          ],
          "histogram2d": [
           {
            "colorbar": {
             "outlinewidth": 0,
             "ticks": ""
            },
            "colorscale": [
             [
              0,
              "#0d0887"
             ],
             [
              0.1111111111111111,
              "#46039f"
             ],
             [
              0.2222222222222222,
              "#7201a8"
             ],
             [
              0.3333333333333333,
              "#9c179e"
             ],
             [
              0.4444444444444444,
              "#bd3786"
             ],
             [
              0.5555555555555556,
              "#d8576b"
             ],
             [
              0.6666666666666666,
              "#ed7953"
             ],
             [
              0.7777777777777778,
              "#fb9f3a"
             ],
             [
              0.8888888888888888,
              "#fdca26"
             ],
             [
              1,
              "#f0f921"
             ]
            ],
            "type": "histogram2d"
           }
          ],
          "histogram2dcontour": [
           {
            "colorbar": {
             "outlinewidth": 0,
             "ticks": ""
            },
            "colorscale": [
             [
              0,
              "#0d0887"
             ],
             [
              0.1111111111111111,
              "#46039f"
             ],
             [
              0.2222222222222222,
              "#7201a8"
             ],
             [
              0.3333333333333333,
              "#9c179e"
             ],
             [
              0.4444444444444444,
              "#bd3786"
             ],
             [
              0.5555555555555556,
              "#d8576b"
             ],
             [
              0.6666666666666666,
              "#ed7953"
             ],
             [
              0.7777777777777778,
              "#fb9f3a"
             ],
             [
              0.8888888888888888,
              "#fdca26"
             ],
             [
              1,
              "#f0f921"
             ]
            ],
            "type": "histogram2dcontour"
           }
          ],
          "mesh3d": [
           {
            "colorbar": {
             "outlinewidth": 0,
             "ticks": ""
            },
            "type": "mesh3d"
           }
          ],
          "parcoords": [
           {
            "line": {
             "colorbar": {
              "outlinewidth": 0,
              "ticks": ""
             }
            },
            "type": "parcoords"
           }
          ],
          "pie": [
           {
            "automargin": true,
            "type": "pie"
           }
          ],
          "scatter": [
           {
            "marker": {
             "colorbar": {
              "outlinewidth": 0,
              "ticks": ""
             }
            },
            "type": "scatter"
           }
          ],
          "scatter3d": [
           {
            "line": {
             "colorbar": {
              "outlinewidth": 0,
              "ticks": ""
             }
            },
            "marker": {
             "colorbar": {
              "outlinewidth": 0,
              "ticks": ""
             }
            },
            "type": "scatter3d"
           }
          ],
          "scattercarpet": [
           {
            "marker": {
             "colorbar": {
              "outlinewidth": 0,
              "ticks": ""
             }
            },
            "type": "scattercarpet"
           }
          ],
          "scattergeo": [
           {
            "marker": {
             "colorbar": {
              "outlinewidth": 0,
              "ticks": ""
             }
            },
            "type": "scattergeo"
           }
          ],
          "scattergl": [
           {
            "marker": {
             "colorbar": {
              "outlinewidth": 0,
              "ticks": ""
             }
            },
            "type": "scattergl"
           }
          ],
          "scattermapbox": [
           {
            "marker": {
             "colorbar": {
              "outlinewidth": 0,
              "ticks": ""
             }
            },
            "type": "scattermapbox"
           }
          ],
          "scatterpolar": [
           {
            "marker": {
             "colorbar": {
              "outlinewidth": 0,
              "ticks": ""
             }
            },
            "type": "scatterpolar"
           }
          ],
          "scatterpolargl": [
           {
            "marker": {
             "colorbar": {
              "outlinewidth": 0,
              "ticks": ""
             }
            },
            "type": "scatterpolargl"
           }
          ],
          "scatterternary": [
           {
            "marker": {
             "colorbar": {
              "outlinewidth": 0,
              "ticks": ""
             }
            },
            "type": "scatterternary"
           }
          ],
          "surface": [
           {
            "colorbar": {
             "outlinewidth": 0,
             "ticks": ""
            },
            "colorscale": [
             [
              0,
              "#0d0887"
             ],
             [
              0.1111111111111111,
              "#46039f"
             ],
             [
              0.2222222222222222,
              "#7201a8"
             ],
             [
              0.3333333333333333,
              "#9c179e"
             ],
             [
              0.4444444444444444,
              "#bd3786"
             ],
             [
              0.5555555555555556,
              "#d8576b"
             ],
             [
              0.6666666666666666,
              "#ed7953"
             ],
             [
              0.7777777777777778,
              "#fb9f3a"
             ],
             [
              0.8888888888888888,
              "#fdca26"
             ],
             [
              1,
              "#f0f921"
             ]
            ],
            "type": "surface"
           }
          ],
          "table": [
           {
            "cells": {
             "fill": {
              "color": "#EBF0F8"
             },
             "line": {
              "color": "white"
             }
            },
            "header": {
             "fill": {
              "color": "#C8D4E3"
             },
             "line": {
              "color": "white"
             }
            },
            "type": "table"
           }
          ]
         },
         "layout": {
          "annotationdefaults": {
           "arrowcolor": "#2a3f5f",
           "arrowhead": 0,
           "arrowwidth": 1
          },
          "autotypenumbers": "strict",
          "coloraxis": {
           "colorbar": {
            "outlinewidth": 0,
            "ticks": ""
           }
          },
          "colorscale": {
           "diverging": [
            [
             0,
             "#8e0152"
            ],
            [
             0.1,
             "#c51b7d"
            ],
            [
             0.2,
             "#de77ae"
            ],
            [
             0.3,
             "#f1b6da"
            ],
            [
             0.4,
             "#fde0ef"
            ],
            [
             0.5,
             "#f7f7f7"
            ],
            [
             0.6,
             "#e6f5d0"
            ],
            [
             0.7,
             "#b8e186"
            ],
            [
             0.8,
             "#7fbc41"
            ],
            [
             0.9,
             "#4d9221"
            ],
            [
             1,
             "#276419"
            ]
           ],
           "sequential": [
            [
             0,
             "#0d0887"
            ],
            [
             0.1111111111111111,
             "#46039f"
            ],
            [
             0.2222222222222222,
             "#7201a8"
            ],
            [
             0.3333333333333333,
             "#9c179e"
            ],
            [
             0.4444444444444444,
             "#bd3786"
            ],
            [
             0.5555555555555556,
             "#d8576b"
            ],
            [
             0.6666666666666666,
             "#ed7953"
            ],
            [
             0.7777777777777778,
             "#fb9f3a"
            ],
            [
             0.8888888888888888,
             "#fdca26"
            ],
            [
             1,
             "#f0f921"
            ]
           ],
           "sequentialminus": [
            [
             0,
             "#0d0887"
            ],
            [
             0.1111111111111111,
             "#46039f"
            ],
            [
             0.2222222222222222,
             "#7201a8"
            ],
            [
             0.3333333333333333,
             "#9c179e"
            ],
            [
             0.4444444444444444,
             "#bd3786"
            ],
            [
             0.5555555555555556,
             "#d8576b"
            ],
            [
             0.6666666666666666,
             "#ed7953"
            ],
            [
             0.7777777777777778,
             "#fb9f3a"
            ],
            [
             0.8888888888888888,
             "#fdca26"
            ],
            [
             1,
             "#f0f921"
            ]
           ]
          },
          "colorway": [
           "#636efa",
           "#EF553B",
           "#00cc96",
           "#ab63fa",
           "#FFA15A",
           "#19d3f3",
           "#FF6692",
           "#B6E880",
           "#FF97FF",
           "#FECB52"
          ],
          "font": {
           "color": "#2a3f5f"
          },
          "geo": {
           "bgcolor": "white",
           "lakecolor": "white",
           "landcolor": "#E5ECF6",
           "showlakes": true,
           "showland": true,
           "subunitcolor": "white"
          },
          "hoverlabel": {
           "align": "left"
          },
          "hovermode": "closest",
          "mapbox": {
           "style": "light"
          },
          "paper_bgcolor": "white",
          "plot_bgcolor": "#E5ECF6",
          "polar": {
           "angularaxis": {
            "gridcolor": "white",
            "linecolor": "white",
            "ticks": ""
           },
           "bgcolor": "#E5ECF6",
           "radialaxis": {
            "gridcolor": "white",
            "linecolor": "white",
            "ticks": ""
           }
          },
          "scene": {
           "xaxis": {
            "backgroundcolor": "#E5ECF6",
            "gridcolor": "white",
            "gridwidth": 2,
            "linecolor": "white",
            "showbackground": true,
            "ticks": "",
            "zerolinecolor": "white"
           },
           "yaxis": {
            "backgroundcolor": "#E5ECF6",
            "gridcolor": "white",
            "gridwidth": 2,
            "linecolor": "white",
            "showbackground": true,
            "ticks": "",
            "zerolinecolor": "white"
           },
           "zaxis": {
            "backgroundcolor": "#E5ECF6",
            "gridcolor": "white",
            "gridwidth": 2,
            "linecolor": "white",
            "showbackground": true,
            "ticks": "",
            "zerolinecolor": "white"
           }
          },
          "shapedefaults": {
           "line": {
            "color": "#2a3f5f"
           }
          },
          "ternary": {
           "aaxis": {
            "gridcolor": "white",
            "linecolor": "white",
            "ticks": ""
           },
           "baxis": {
            "gridcolor": "white",
            "linecolor": "white",
            "ticks": ""
           },
           "bgcolor": "#E5ECF6",
           "caxis": {
            "gridcolor": "white",
            "linecolor": "white",
            "ticks": ""
           }
          },
          "title": {
           "x": 0.05
          },
          "xaxis": {
           "automargin": true,
           "gridcolor": "white",
           "linecolor": "white",
           "ticks": "",
           "title": {
            "standoff": 15
           },
           "zerolinecolor": "white",
           "zerolinewidth": 2
          },
          "yaxis": {
           "automargin": true,
           "gridcolor": "white",
           "linecolor": "white",
           "ticks": "",
           "title": {
            "standoff": 15
           },
           "zerolinecolor": "white",
           "zerolinewidth": 2
          }
         }
        },
        "title": {
         "text": "Воронка распределения пользователей совершивших событие",
         "x": 0.5
        }
       }
      },
      "text/html": [
       "<div>                            <div id=\"5e6c686c-d9fa-4f2c-af35-9c67f83754b2\" class=\"plotly-graph-div\" style=\"height:525px; width:100%;\"></div>            <script type=\"text/javascript\">                require([\"plotly\"], function(Plotly) {                    window.PLOTLYENV=window.PLOTLYENV || {};                                    if (document.getElementById(\"5e6c686c-d9fa-4f2c-af35-9c67f83754b2\")) {                    Plotly.newPlot(                        \"5e6c686c-d9fa-4f2c-af35-9c67f83754b2\",                        [{\"opacity\":0.6,\"textinfo\":\"value+percent previous\",\"textposition\":\"inside\",\"x\":[7344,4517,3658,3463],\"y\":[\"MainScreenAppear\",\"OffersScreenAppear\",\"CartScreenAppear\",\"PaymentScreenSuccessful\"],\"type\":\"funnel\"}],                        {\"template\":{\"data\":{\"bar\":[{\"error_x\":{\"color\":\"#2a3f5f\"},\"error_y\":{\"color\":\"#2a3f5f\"},\"marker\":{\"line\":{\"color\":\"#E5ECF6\",\"width\":0.5},\"pattern\":{\"fillmode\":\"overlay\",\"size\":10,\"solidity\":0.2}},\"type\":\"bar\"}],\"barpolar\":[{\"marker\":{\"line\":{\"color\":\"#E5ECF6\",\"width\":0.5},\"pattern\":{\"fillmode\":\"overlay\",\"size\":10,\"solidity\":0.2}},\"type\":\"barpolar\"}],\"carpet\":[{\"aaxis\":{\"endlinecolor\":\"#2a3f5f\",\"gridcolor\":\"white\",\"linecolor\":\"white\",\"minorgridcolor\":\"white\",\"startlinecolor\":\"#2a3f5f\"},\"baxis\":{\"endlinecolor\":\"#2a3f5f\",\"gridcolor\":\"white\",\"linecolor\":\"white\",\"minorgridcolor\":\"white\",\"startlinecolor\":\"#2a3f5f\"},\"type\":\"carpet\"}],\"choropleth\":[{\"colorbar\":{\"outlinewidth\":0,\"ticks\":\"\"},\"type\":\"choropleth\"}],\"contour\":[{\"colorbar\":{\"outlinewidth\":0,\"ticks\":\"\"},\"colorscale\":[[0.0,\"#0d0887\"],[0.1111111111111111,\"#46039f\"],[0.2222222222222222,\"#7201a8\"],[0.3333333333333333,\"#9c179e\"],[0.4444444444444444,\"#bd3786\"],[0.5555555555555556,\"#d8576b\"],[0.6666666666666666,\"#ed7953\"],[0.7777777777777778,\"#fb9f3a\"],[0.8888888888888888,\"#fdca26\"],[1.0,\"#f0f921\"]],\"type\":\"contour\"}],\"contourcarpet\":[{\"colorbar\":{\"outlinewidth\":0,\"ticks\":\"\"},\"type\":\"contourcarpet\"}],\"heatmap\":[{\"colorbar\":{\"outlinewidth\":0,\"ticks\":\"\"},\"colorscale\":[[0.0,\"#0d0887\"],[0.1111111111111111,\"#46039f\"],[0.2222222222222222,\"#7201a8\"],[0.3333333333333333,\"#9c179e\"],[0.4444444444444444,\"#bd3786\"],[0.5555555555555556,\"#d8576b\"],[0.6666666666666666,\"#ed7953\"],[0.7777777777777778,\"#fb9f3a\"],[0.8888888888888888,\"#fdca26\"],[1.0,\"#f0f921\"]],\"type\":\"heatmap\"}],\"heatmapgl\":[{\"colorbar\":{\"outlinewidth\":0,\"ticks\":\"\"},\"colorscale\":[[0.0,\"#0d0887\"],[0.1111111111111111,\"#46039f\"],[0.2222222222222222,\"#7201a8\"],[0.3333333333333333,\"#9c179e\"],[0.4444444444444444,\"#bd3786\"],[0.5555555555555556,\"#d8576b\"],[0.6666666666666666,\"#ed7953\"],[0.7777777777777778,\"#fb9f3a\"],[0.8888888888888888,\"#fdca26\"],[1.0,\"#f0f921\"]],\"type\":\"heatmapgl\"}],\"histogram\":[{\"marker\":{\"pattern\":{\"fillmode\":\"overlay\",\"size\":10,\"solidity\":0.2}},\"type\":\"histogram\"}],\"histogram2d\":[{\"colorbar\":{\"outlinewidth\":0,\"ticks\":\"\"},\"colorscale\":[[0.0,\"#0d0887\"],[0.1111111111111111,\"#46039f\"],[0.2222222222222222,\"#7201a8\"],[0.3333333333333333,\"#9c179e\"],[0.4444444444444444,\"#bd3786\"],[0.5555555555555556,\"#d8576b\"],[0.6666666666666666,\"#ed7953\"],[0.7777777777777778,\"#fb9f3a\"],[0.8888888888888888,\"#fdca26\"],[1.0,\"#f0f921\"]],\"type\":\"histogram2d\"}],\"histogram2dcontour\":[{\"colorbar\":{\"outlinewidth\":0,\"ticks\":\"\"},\"colorscale\":[[0.0,\"#0d0887\"],[0.1111111111111111,\"#46039f\"],[0.2222222222222222,\"#7201a8\"],[0.3333333333333333,\"#9c179e\"],[0.4444444444444444,\"#bd3786\"],[0.5555555555555556,\"#d8576b\"],[0.6666666666666666,\"#ed7953\"],[0.7777777777777778,\"#fb9f3a\"],[0.8888888888888888,\"#fdca26\"],[1.0,\"#f0f921\"]],\"type\":\"histogram2dcontour\"}],\"mesh3d\":[{\"colorbar\":{\"outlinewidth\":0,\"ticks\":\"\"},\"type\":\"mesh3d\"}],\"parcoords\":[{\"line\":{\"colorbar\":{\"outlinewidth\":0,\"ticks\":\"\"}},\"type\":\"parcoords\"}],\"pie\":[{\"automargin\":true,\"type\":\"pie\"}],\"scatter\":[{\"marker\":{\"colorbar\":{\"outlinewidth\":0,\"ticks\":\"\"}},\"type\":\"scatter\"}],\"scatter3d\":[{\"line\":{\"colorbar\":{\"outlinewidth\":0,\"ticks\":\"\"}},\"marker\":{\"colorbar\":{\"outlinewidth\":0,\"ticks\":\"\"}},\"type\":\"scatter3d\"}],\"scattercarpet\":[{\"marker\":{\"colorbar\":{\"outlinewidth\":0,\"ticks\":\"\"}},\"type\":\"scattercarpet\"}],\"scattergeo\":[{\"marker\":{\"colorbar\":{\"outlinewidth\":0,\"ticks\":\"\"}},\"type\":\"scattergeo\"}],\"scattergl\":[{\"marker\":{\"colorbar\":{\"outlinewidth\":0,\"ticks\":\"\"}},\"type\":\"scattergl\"}],\"scattermapbox\":[{\"marker\":{\"colorbar\":{\"outlinewidth\":0,\"ticks\":\"\"}},\"type\":\"scattermapbox\"}],\"scatterpolar\":[{\"marker\":{\"colorbar\":{\"outlinewidth\":0,\"ticks\":\"\"}},\"type\":\"scatterpolar\"}],\"scatterpolargl\":[{\"marker\":{\"colorbar\":{\"outlinewidth\":0,\"ticks\":\"\"}},\"type\":\"scatterpolargl\"}],\"scatterternary\":[{\"marker\":{\"colorbar\":{\"outlinewidth\":0,\"ticks\":\"\"}},\"type\":\"scatterternary\"}],\"surface\":[{\"colorbar\":{\"outlinewidth\":0,\"ticks\":\"\"},\"colorscale\":[[0.0,\"#0d0887\"],[0.1111111111111111,\"#46039f\"],[0.2222222222222222,\"#7201a8\"],[0.3333333333333333,\"#9c179e\"],[0.4444444444444444,\"#bd3786\"],[0.5555555555555556,\"#d8576b\"],[0.6666666666666666,\"#ed7953\"],[0.7777777777777778,\"#fb9f3a\"],[0.8888888888888888,\"#fdca26\"],[1.0,\"#f0f921\"]],\"type\":\"surface\"}],\"table\":[{\"cells\":{\"fill\":{\"color\":\"#EBF0F8\"},\"line\":{\"color\":\"white\"}},\"header\":{\"fill\":{\"color\":\"#C8D4E3\"},\"line\":{\"color\":\"white\"}},\"type\":\"table\"}]},\"layout\":{\"annotationdefaults\":{\"arrowcolor\":\"#2a3f5f\",\"arrowhead\":0,\"arrowwidth\":1},\"autotypenumbers\":\"strict\",\"coloraxis\":{\"colorbar\":{\"outlinewidth\":0,\"ticks\":\"\"}},\"colorscale\":{\"diverging\":[[0,\"#8e0152\"],[0.1,\"#c51b7d\"],[0.2,\"#de77ae\"],[0.3,\"#f1b6da\"],[0.4,\"#fde0ef\"],[0.5,\"#f7f7f7\"],[0.6,\"#e6f5d0\"],[0.7,\"#b8e186\"],[0.8,\"#7fbc41\"],[0.9,\"#4d9221\"],[1,\"#276419\"]],\"sequential\":[[0.0,\"#0d0887\"],[0.1111111111111111,\"#46039f\"],[0.2222222222222222,\"#7201a8\"],[0.3333333333333333,\"#9c179e\"],[0.4444444444444444,\"#bd3786\"],[0.5555555555555556,\"#d8576b\"],[0.6666666666666666,\"#ed7953\"],[0.7777777777777778,\"#fb9f3a\"],[0.8888888888888888,\"#fdca26\"],[1.0,\"#f0f921\"]],\"sequentialminus\":[[0.0,\"#0d0887\"],[0.1111111111111111,\"#46039f\"],[0.2222222222222222,\"#7201a8\"],[0.3333333333333333,\"#9c179e\"],[0.4444444444444444,\"#bd3786\"],[0.5555555555555556,\"#d8576b\"],[0.6666666666666666,\"#ed7953\"],[0.7777777777777778,\"#fb9f3a\"],[0.8888888888888888,\"#fdca26\"],[1.0,\"#f0f921\"]]},\"colorway\":[\"#636efa\",\"#EF553B\",\"#00cc96\",\"#ab63fa\",\"#FFA15A\",\"#19d3f3\",\"#FF6692\",\"#B6E880\",\"#FF97FF\",\"#FECB52\"],\"font\":{\"color\":\"#2a3f5f\"},\"geo\":{\"bgcolor\":\"white\",\"lakecolor\":\"white\",\"landcolor\":\"#E5ECF6\",\"showlakes\":true,\"showland\":true,\"subunitcolor\":\"white\"},\"hoverlabel\":{\"align\":\"left\"},\"hovermode\":\"closest\",\"mapbox\":{\"style\":\"light\"},\"paper_bgcolor\":\"white\",\"plot_bgcolor\":\"#E5ECF6\",\"polar\":{\"angularaxis\":{\"gridcolor\":\"white\",\"linecolor\":\"white\",\"ticks\":\"\"},\"bgcolor\":\"#E5ECF6\",\"radialaxis\":{\"gridcolor\":\"white\",\"linecolor\":\"white\",\"ticks\":\"\"}},\"scene\":{\"xaxis\":{\"backgroundcolor\":\"#E5ECF6\",\"gridcolor\":\"white\",\"gridwidth\":2,\"linecolor\":\"white\",\"showbackground\":true,\"ticks\":\"\",\"zerolinecolor\":\"white\"},\"yaxis\":{\"backgroundcolor\":\"#E5ECF6\",\"gridcolor\":\"white\",\"gridwidth\":2,\"linecolor\":\"white\",\"showbackground\":true,\"ticks\":\"\",\"zerolinecolor\":\"white\"},\"zaxis\":{\"backgroundcolor\":\"#E5ECF6\",\"gridcolor\":\"white\",\"gridwidth\":2,\"linecolor\":\"white\",\"showbackground\":true,\"ticks\":\"\",\"zerolinecolor\":\"white\"}},\"shapedefaults\":{\"line\":{\"color\":\"#2a3f5f\"}},\"ternary\":{\"aaxis\":{\"gridcolor\":\"white\",\"linecolor\":\"white\",\"ticks\":\"\"},\"baxis\":{\"gridcolor\":\"white\",\"linecolor\":\"white\",\"ticks\":\"\"},\"bgcolor\":\"#E5ECF6\",\"caxis\":{\"gridcolor\":\"white\",\"linecolor\":\"white\",\"ticks\":\"\"}},\"title\":{\"x\":0.05},\"xaxis\":{\"automargin\":true,\"gridcolor\":\"white\",\"linecolor\":\"white\",\"ticks\":\"\",\"title\":{\"standoff\":15},\"zerolinecolor\":\"white\",\"zerolinewidth\":2},\"yaxis\":{\"automargin\":true,\"gridcolor\":\"white\",\"linecolor\":\"white\",\"ticks\":\"\",\"title\":{\"standoff\":15},\"zerolinecolor\":\"white\",\"zerolinewidth\":2}}},\"title\":{\"text\":\"\\u0412\\u043e\\u0440\\u043e\\u043d\\u043a\\u0430 \\u0440\\u0430\\u0441\\u043f\\u0440\\u0435\\u0434\\u0435\\u043b\\u0435\\u043d\\u0438\\u044f \\u043f\\u043e\\u043b\\u044c\\u0437\\u043e\\u0432\\u0430\\u0442\\u0435\\u043b\\u0435\\u0439 \\u0441\\u043e\\u0432\\u0435\\u0440\\u0448\\u0438\\u0432\\u0448\\u0438\\u0445 \\u0441\\u043e\\u0431\\u044b\\u0442\\u0438\\u0435\",\"x\":0.5}},                        {\"responsive\": true}                    ).then(function(){\n",
       "                            \n",
       "var gd = document.getElementById('5e6c686c-d9fa-4f2c-af35-9c67f83754b2');\n",
       "var x = new MutationObserver(function (mutations, observer) {{\n",
       "        var display = window.getComputedStyle(gd).display;\n",
       "        if (!display || display === 'none') {{\n",
       "            console.log([gd, 'removed!']);\n",
       "            Plotly.purge(gd);\n",
       "            observer.disconnect();\n",
       "        }}\n",
       "}});\n",
       "\n",
       "// Listen for the removal of the full notebook cells\n",
       "var notebookContainer = gd.closest('#notebook-container');\n",
       "if (notebookContainer) {{\n",
       "    x.observe(notebookContainer, {childList: true});\n",
       "}}\n",
       "\n",
       "// Listen for the clearing of the current output cell\n",
       "var outputEl = gd.closest('.output');\n",
       "if (outputEl) {{\n",
       "    x.observe(outputEl, {childList: true});\n",
       "}}\n",
       "\n",
       "                        })                };                });            </script>        </div>"
      ]
     },
     "metadata": {},
     "output_type": "display_data"
    }
   ],
   "source": [
    "# построим воронку распределения пользователей совершивших действие\n",
    "funnel_graph(event_cnt_users, col='count_users', title_text='Воронка распределения пользователей совершивших событие')"
   ]
  },
  {
   "cell_type": "markdown",
   "metadata": {},
   "source": [
    "Из графиков мы видим, что наибольший процент потель пользователей происходит после события главного экрана. 62% пользователей, после захода в приложение переходит к формирорванию заказа. 81% после формирования заказа переходит к оформлению заказа, и 95% из оформивших заказ, оплачивают его.\n",
    "\n",
    "Мы знаем, что не все(хоть и подавляющее большинство) пользователи совершали событие главного экрана. Посчитаем, какая доля пользователей проходит от первого события до оплаты"
   ]
  },
  {
   "cell_type": "code",
   "execution_count": 39,
   "metadata": {
    "scrolled": true
   },
   "outputs": [
    {
     "name": "stdout",
     "output_type": "stream",
     "text": [
      "3463 пользователя, прошедших все этапы воронки. Это 47.2% от всех пользователей\n"
     ]
    }
   ],
   "source": [
    "# определим список пользователей, которые совершили действие оплаты\n",
    "users_pss = df_actual_data.loc[df_actual_data['event_name'] == 'PaymentScreenSuccessful', 'device_id_hash'].unique().tolist()\n",
    "\"\"\"этот код вообще не нужен\n",
    "# получим серию пользователей, которые вошли в список события главного экрана и список действия оплаты\n",
    "uniq_users_all_step = (\n",
    "                        len(\n",
    "                            df_actual_data['device_id_hash']\n",
    "                            .loc[(df_actual_data['device_id_hash']\n",
    "                                  .isin(users_msa)) \n",
    "                                 & (df_actual_data['device_id_hash']\n",
    "                                    .isin(users_pss))]\n",
    "                            .unique()\n",
    "                        )\n",
    "                    )\n",
    "\n",
    "#print(f\"{uniq_users_all_step} пользователь, прошедший все этапы воронки. Это {(uniq_users_all_step / df_actual_data['device_id_hash'].nunique() * 100):.1f}% от всех пользователей\")\n",
    "\"\"\"\n",
    "# UPDATE посмотрим на количество пользователей, прошедших через все этапы воронки\n",
    "print(f\"{len(users_pss)} пользователя, прошедших все этапы воронки. Это {(len(users_pss) / len(users_msa) * 100):.1f}% от всех пользователей\")"
   ]
  },
  {
   "cell_type": "markdown",
   "metadata": {},
   "source": [
    "<a id=\"analis_funnel1\"></a>\n",
    "### Выводы\n",
    "\n",
    "Изучив воронки событий и поведения пользователей, мы выяснили, что прохождение урока не обязательно для совершения покупки, а доля наступления этого события не превышает 0.4% всех событий. Что в свою очередь указывает на то, что приложение интуитивно понятно и не вызывает каких-либо сложностей в использовании. Основываясь на полученных данных в разделе, мы смогли составить воронку событий для приложения:\n",
    "\n",
    "* `MainScreenAppear` - событие главного экрана (открытие приложения)\n",
    "* `OffersScreenAppear` - событие формирования заказа (выбор товаров)\n",
    "* `CartScreenAppear` - событие оформления заказа\n",
    "* `PaymentScreenSuccessful` - событие оплаты заказа\n",
    "\n",
    "Эта воронка показывает путь пользователя от запуска приложения, до оплаты заказа. Мы выяснили, что после наступления события главного экрана только в 36% случаев наступает событие формирования заказа. Если наступает событие формирования заказа, то с вероятностью в 71% наступает событие оформления заказа. И если заказ оформлен, то в 76% наступает событие оплаты заказа. Составив воронку распределения пользователей, совершивших действие, мы выяснили, что наибольший процент потерь пользователей происходит после события главного экрана, их доля составляет порядка 38%. 62% пользователей, после захода в приложение переходит к формированию заказа. 81% после формирования заказа переходит к оформлению заказа, и 95% из оформивших заказ, оплачивают его. \n"
   ]
  },
  {
   "cell_type": "markdown",
   "metadata": {},
   "source": [
    "<a id=\"analis_exp\"></a>\n",
    "## Анализ результатов эксперимента"
   ]
  },
  {
   "cell_type": "markdown",
   "metadata": {},
   "source": [
    "В данном разделе мы проанализируем результаты экспериммента и ответим на следующие вопросы:\n",
    "* Сколько пользователей в каждой экспериментальной группе?\n",
    "* Есть 2 контрольные группы для А/А-эксперимента, чтобы проверить корректность всех механизмов и расчётов. Проверим, находят ли статистические критерии разницу между выборками 246 и 247;\n",
    "* Выберим самое популярное событие. Посчитаем число пользователей, совершивших это событие в каждой из контрольных групп. \n",
    "* Посчитаем долю пользователей, совершивших это событие. Проверим, будет ли отличие между группами статистически достоверным.   * Проделаем то же самое для всех других событий. Ответим на вопрос, можно ли сказать, что разбиение на группы работает корректно;\n",
    "* Аналогично поступим с группой с изменённым шрифтом. Сравним результаты с каждой из контрольных групп в отдельности по каждому событию. Сравним результаты с объединённой контрольной группой. Сформируем выводы из эксперимента;\n",
    "* Посчитаем, сколько проверок статистических гипотез мы сделали. При уровне значимости 0.1 в 10% случаев можно ошибочно отклонить нулевую гипотезу при условии, что она верна. \n",
    "* Ответим на вопрос, какой уровень значимости стоит применить."
   ]
  },
  {
   "cell_type": "code",
   "execution_count": 40,
   "metadata": {},
   "outputs": [
    {
     "data": {
      "text/html": [
       "<div>\n",
       "<style scoped>\n",
       "    .dataframe tbody tr th:only-of-type {\n",
       "        vertical-align: middle;\n",
       "    }\n",
       "\n",
       "    .dataframe tbody tr th {\n",
       "        vertical-align: top;\n",
       "    }\n",
       "\n",
       "    .dataframe thead th {\n",
       "        text-align: right;\n",
       "    }\n",
       "</style>\n",
       "<table border=\"1\" class=\"dataframe\">\n",
       "  <thead>\n",
       "    <tr style=\"text-align: right;\">\n",
       "      <th></th>\n",
       "      <th>exp_id</th>\n",
       "      <th>uniq_user</th>\n",
       "      <th>perc_group</th>\n",
       "    </tr>\n",
       "  </thead>\n",
       "  <tbody>\n",
       "    <tr>\n",
       "      <th>0</th>\n",
       "      <td>246</td>\n",
       "      <td>2455</td>\n",
       "      <td>32.935</td>\n",
       "    </tr>\n",
       "    <tr>\n",
       "      <th>1</th>\n",
       "      <td>247</td>\n",
       "      <td>2490</td>\n",
       "      <td>33.405</td>\n",
       "    </tr>\n",
       "    <tr>\n",
       "      <th>2</th>\n",
       "      <td>248</td>\n",
       "      <td>2509</td>\n",
       "      <td>33.660</td>\n",
       "    </tr>\n",
       "  </tbody>\n",
       "</table>\n",
       "</div>"
      ],
      "text/plain": [
       "   exp_id  uniq_user  perc_group\n",
       "0     246       2455      32.935\n",
       "1     247       2490      33.405\n",
       "2     248       2509      33.660"
      ]
     },
     "execution_count": 40,
     "metadata": {},
     "output_type": "execute_result"
    }
   ],
   "source": [
    "# Посмотрим на количество пользователей в каждой группе\n",
    "\n",
    "(\n",
    "    df_actual_data\n",
    "    .groupby('exp_id', as_index=False)\n",
    "    .agg(\n",
    "        uniq_user=('device_id_hash', 'nunique'))\n",
    ".assign(perc_group=lambda x: x['uniq_user'] / df_actual_data['device_id_hash'].nunique() * 100)\n",
    ")\n"
   ]
  },
  {
   "cell_type": "markdown",
   "metadata": {},
   "source": [
    "Одним из условий корректного проведения A/B, A/A/B-тестов является то, что каждый пользрователь на протяжении всего выполнениея теста должен входить только в одну группу. Проверим, есть ли пользователи, которые попали в несколь групп"
   ]
  },
  {
   "cell_type": "code",
   "execution_count": 41,
   "metadata": {
    "scrolled": true
   },
   "outputs": [
    {
     "name": "stdout",
     "output_type": "stream",
     "text": [
      "Количество пользователей, состоящих в более чем одной группе: 0\n"
     ]
    }
   ],
   "source": [
    "cnt_ov_one_group = len(df_actual_data.groupby('device_id_hash', as_index=False).filter(lambda x: x['exp_id'].nunique() > 1))\n",
    "print(f\"Количество пользователей, состоящих в более чем одной группе: {cnt_ov_one_group}\")"
   ]
  },
  {
   "cell_type": "markdown",
   "metadata": {},
   "source": [
    "<a id=\"analis_exp1\"></a>\n",
    "### Проверка на статистически значимое различие долей контрольных групп 246 и 247"
   ]
  },
  {
   "cell_type": "markdown",
   "metadata": {},
   "source": [
    "Мы выяснили, что каждый пользователь принадлежит только к одной группе. Одним из требований проведения A/A/B-теста, является условие, что контрольные группы (А/А) между собой не должны иметь статистически значимых различий. Проверим на различие в событиях между контрольными группами 246 и 247. Для этого проведем z-тест с коррекцией уровня значимости с помощью метода Бонферрони. Этот метод за счет контроля уровня значимости помогает избежать ошибок первого рода. Всего у нас получается 4 группы(246-247, 246-248, 247-248, 246/247-248) и в каждой группе по 4 события. Всего 16 гипотез. Передадим базовое значение уровня значимости alpha 0.05 с поправкой на количество тгипотез(тестов)\n",
    "\n",
    "Сформулируем две гипотезы для проверку двух контрольных групп:\n",
    "\n",
    "**Нулевая гипотеза ($H_0$)**: Статистически значимой разницы между долями контрольных групп 246 и 247 нет.\n",
    "\n",
    "**Альтернативная гипотеза ($H_1$)**: Статистически значимая разница между долями контрольных групп 246 и 247 есть."
   ]
  },
  {
   "cell_type": "code",
   "execution_count": 42,
   "metadata": {
    "scrolled": false
   },
   "outputs": [
    {
     "name": "stdout",
     "output_type": "stream",
     "text": [
      "\n",
      "Сравниваемое событие: MainScreenAppear\n",
      "р-значение равно 0.6674277103003372\n",
      "Не получилось отвергнуть нулевую гипотезу, нет оснований считать разницу между долями групп статистически значимой\n",
      "\n",
      "Сравниваемое событие: OffersScreenAppear\n",
      "р-значение равно 0.2767654959510515\n",
      "Не получилось отвергнуть нулевую гипотезу, нет оснований считать разницу между долями групп статистически значимой\n",
      "\n",
      "Сравниваемое событие: CartScreenAppear\n",
      "р-значение равно 0.2628160759054654\n",
      "Не получилось отвергнуть нулевую гипотезу, нет оснований считать разницу между долями групп статистически значимой\n",
      "\n",
      "Сравниваемое событие: PaymentScreenSuccessful\n",
      "р-значение равно 0.13574398826607448\n",
      "Не получилось отвергнуть нулевую гипотезу, нет оснований считать разницу между долями групп статистически значимой\n"
     ]
    }
   ],
   "source": [
    "# создадим три датафрейма с группами\n",
    "group_a = df_actual_data.loc[df_actual_data['exp_id'] == 246]\n",
    "group_a1 = df_actual_data.loc[df_actual_data['exp_id'] == 247]\n",
    "group_b = df_actual_data.loc[df_actual_data['exp_id'] == 248]\n",
    "\n",
    "# с помощью цикла обратимся к функции result_test_z, передавая данные групп 246 и 247\n",
    "for item in df_actual_data['event_name'].unique():\n",
    "    result_test_z(group_a, group_a1, item)"
   ]
  },
  {
   "cell_type": "code",
   "execution_count": 43,
   "metadata": {
    "scrolled": true
   },
   "outputs": [
    {
     "data": {
      "text/html": [
       "<style  type=\"text/css\" >\n",
       "#T_bf449_row3_col3{\n",
       "            background-color:  gold;\n",
       "        }</style><table id=\"T_bf449_\" ><thead>    <tr>        <th class=\"blank level0\" ></th>        <th class=\"col_heading level0 col0\" >event_name</th>        <th class=\"col_heading level0 col1\" >cnt_246</th>        <th class=\"col_heading level0 col2\" >cnt_247</th>        <th class=\"col_heading level0 col3\" >dif_perc</th>    </tr></thead><tbody>\n",
       "                <tr>\n",
       "                        <th id=\"T_bf449_level0_row0\" class=\"row_heading level0 row0\" >1</th>\n",
       "                        <td id=\"T_bf449_row0_col0\" class=\"data row0 col0\" >MainScreenAppear</td>\n",
       "                        <td id=\"T_bf449_row0_col1\" class=\"data row0 col1\" >2423</td>\n",
       "                        <td id=\"T_bf449_row0_col2\" class=\"data row0 col2\" >2454</td>\n",
       "                        <td id=\"T_bf449_row0_col3\" class=\"data row0 col3\" >1.263244</td>\n",
       "            </tr>\n",
       "            <tr>\n",
       "                        <th id=\"T_bf449_level0_row1\" class=\"row_heading level0 row1\" >2</th>\n",
       "                        <td id=\"T_bf449_row1_col0\" class=\"data row1 col0\" >OffersScreenAppear</td>\n",
       "                        <td id=\"T_bf449_row1_col1\" class=\"data row1 col1\" >1514</td>\n",
       "                        <td id=\"T_bf449_row1_col2\" class=\"data row1 col2\" >1498</td>\n",
       "                        <td id=\"T_bf449_row1_col3\" class=\"data row1 col3\" >1.068091</td>\n",
       "            </tr>\n",
       "            <tr>\n",
       "                        <th id=\"T_bf449_level0_row2\" class=\"row_heading level0 row2\" >0</th>\n",
       "                        <td id=\"T_bf449_row2_col0\" class=\"data row2 col0\" >CartScreenAppear</td>\n",
       "                        <td id=\"T_bf449_row2_col1\" class=\"data row2 col1\" >1238</td>\n",
       "                        <td id=\"T_bf449_row2_col2\" class=\"data row2 col2\" >1216</td>\n",
       "                        <td id=\"T_bf449_row2_col3\" class=\"data row2 col3\" >1.809211</td>\n",
       "            </tr>\n",
       "            <tr>\n",
       "                        <th id=\"T_bf449_level0_row3\" class=\"row_heading level0 row3\" >3</th>\n",
       "                        <td id=\"T_bf449_row3_col0\" class=\"data row3 col0\" >PaymentScreenSuccessful</td>\n",
       "                        <td id=\"T_bf449_row3_col1\" class=\"data row3 col1\" >1172</td>\n",
       "                        <td id=\"T_bf449_row3_col2\" class=\"data row3 col2\" >1136</td>\n",
       "                        <td id=\"T_bf449_row3_col3\" class=\"data row3 col3\" >3.169014</td>\n",
       "            </tr>\n",
       "    </tbody></table>"
      ],
      "text/plain": [
       "<pandas.io.formats.style.Styler at 0x7f4b508c4c40>"
      ]
     },
     "execution_count": 43,
     "metadata": {},
     "output_type": "execute_result"
    }
   ],
   "source": [
    "# посмотрим на фактическую разницу между группами 246 и 247 в событиях\n",
    "(\n",
    "    group_a.groupby('event_name', as_index=False).agg(cnt_246=('device_id_hash', 'nunique'))\n",
    "    .merge(\n",
    "    group_a1.groupby('event_name', as_index=False).agg(cnt_247=('device_id_hash', 'nunique')),\n",
    "        on='event_name'\n",
    "    ). assign(dif_perc=lambda x: abs(100 - x['cnt_246'] / x['cnt_247'] * 100))\n",
    "    .sort_values('cnt_246', ascending=False)\n",
    "    .style.highlight_max(color='gold', subset='dif_perc')\n",
    ")"
   ]
  },
  {
   "cell_type": "markdown",
   "metadata": {},
   "source": [
    "<a id=\"analis_exp2\"></a>\n",
    "#### Выводы\n",
    "\n",
    "По результатам проведения теста, нам не удалось опровергнуть гипотезу о том, что статистически значимой разницы между долями контрольных групп 246 и 247 нет. Следовательно, можно считать, что **разделение групп работает корректно** и можно переходить к анализу результатов контрольных групп(246 и 247) и экспериментальной(248).\n",
    "\n",
    "Из таблицы видно, что фактическая разница в количестве каждого события между группами не велика. Наибольшая разница составляет 3.16% в событии оплаты заказа(PaymentScreenSuccessful). Самым популярным событием в обоих группах, что вполне предсказуемо и ожидаемо, является событие главного экрана(MainScreenAppear)\n"
   ]
  },
  {
   "cell_type": "markdown",
   "metadata": {},
   "source": [
    "<a id=\"analis_exp3\"></a>\n",
    "### Проверка на статистически значимое различие долей между контрольными(246, 247) и экспериментальной(248) группами с поправкой Бонферрони"
   ]
  },
  {
   "cell_type": "markdown",
   "metadata": {},
   "source": [
    "Сравним каждую контрольную группу с экспериментальной, а затем объединенную контрольную группу с экспериментальной. Таким образом анализы результатов теста будут наиболее качествеными и надежными."
   ]
  },
  {
   "cell_type": "markdown",
   "metadata": {},
   "source": [
    "Сформулируем две гипотезы для групп 246 и 248:\n",
    "\n",
    "**Нулевая гипотеза ($H_0$)**: Статистически значимой разницы между долями групп 246 и 248 нет.\n",
    "\n",
    "**Альтернативная гипотеза ($H_1$)**: Статистически значимая разница между долями групп 246 и 248 есть."
   ]
  },
  {
   "cell_type": "code",
   "execution_count": 44,
   "metadata": {
    "scrolled": true
   },
   "outputs": [
    {
     "name": "stdout",
     "output_type": "stream",
     "text": [
      "\n",
      "Сравниваемое событие: MainScreenAppear\n",
      "р-значение равно 0.2814719389970719\n",
      "Не получилось отвергнуть нулевую гипотезу, нет оснований считать разницу между долями групп статистически значимой\n",
      "\n",
      "Сравниваемое событие: OffersScreenAppear\n",
      "р-значение равно 0.22374437294463578\n",
      "Не получилось отвергнуть нулевую гипотезу, нет оснований считать разницу между долями групп статистически значимой\n",
      "\n",
      "Сравниваемое событие: CartScreenAppear\n",
      "р-значение равно 0.08551270605955108\n",
      "Не получилось отвергнуть нулевую гипотезу, нет оснований считать разницу между долями групп статистически значимой\n",
      "\n",
      "Сравниваемое событие: PaymentScreenSuccessful\n",
      "р-значение равно 0.22875623127967426\n",
      "Не получилось отвергнуть нулевую гипотезу, нет оснований считать разницу между долями групп статистически значимой\n"
     ]
    }
   ],
   "source": [
    "#df_actual_data# event_name, device_id_hash, event_timestamp, exp_id, event_daytime, event_day\n",
    "# сравним группы 246 и 248\n",
    "for item in df_actual_data['event_name'].unique():\n",
    "    result_test_z(group_a, group_b, item)"
   ]
  },
  {
   "cell_type": "markdown",
   "metadata": {},
   "source": [
    "**Вывод:** ни по одному из совершенных событий не удалось опровергнуть гипотезу о статистически значимой разнице между контрольной группой 246 и экспериментальной группой 248. Иными словами, поведение пользователей обоих групп одинаково."
   ]
  },
  {
   "cell_type": "markdown",
   "metadata": {},
   "source": [
    "Сформулируем две гипотезы для групп 247 и 248:\n",
    "\n",
    "**Нулевая гипотеза ($H_0$)**: Статистически значимой разницы между долями групп 247 и 248 нет.\n",
    "\n",
    "**Альтернативная гипотеза ($H_1$)**: Статистически значимая разница между долями групп 247 и 248 есть."
   ]
  },
  {
   "cell_type": "code",
   "execution_count": 45,
   "metadata": {
    "scrolled": false
   },
   "outputs": [
    {
     "name": "stdout",
     "output_type": "stream",
     "text": [
      "\n",
      "Сравниваемое событие: MainScreenAppear\n",
      "р-значение равно 0.5151100783020421\n",
      "Не получилось отвергнуть нулевую гипотезу, нет оснований считать разницу между долями групп статистически значимой\n",
      "\n",
      "Сравниваемое событие: OffersScreenAppear\n",
      "р-значение равно 0.8985730856764382\n",
      "Не получилось отвергнуть нулевую гипотезу, нет оснований считать разницу между долями групп статистически значимой\n",
      "\n",
      "Сравниваемое событие: CartScreenAppear\n",
      "р-значение равно 0.5485507037235671\n",
      "Не получилось отвергнуть нулевую гипотезу, нет оснований считать разницу между долями групп статистически значимой\n",
      "\n",
      "Сравниваемое событие: PaymentScreenSuccessful\n",
      "р-значение равно 0.7701611050267243\n",
      "Не получилось отвергнуть нулевую гипотезу, нет оснований считать разницу между долями групп статистически значимой\n"
     ]
    }
   ],
   "source": [
    "#df_actual_data# event_name, device_id_hash, event_timestamp, exp_id, event_daytime, event_day\n",
    "# сравним группы 247 и 248\n",
    "for item in df_actual_data['event_name'].unique():\n",
    "    result_test_z(group_a1, group_b, item)"
   ]
  },
  {
   "cell_type": "markdown",
   "metadata": {},
   "source": [
    "**Вывод:** ни по одному из совершенных событий не удалось опровергнуть гипотезу о статистически значимой разнице между контрольной группой 247 и экспериментальной группой 248. Иными словами, поведение пользователей обоих групп одинаково."
   ]
  },
  {
   "cell_type": "markdown",
   "metadata": {},
   "source": [
    "Сформулируем две гипотезы для объединенной группы 246/247 и 248:\n",
    "\n",
    "**Нулевая гипотеза ($H_0$)**: Статистически значимой разницы между долями объединенной группы 246/247 и 248 нет.\n",
    "\n",
    "**Альтернативная гипотеза ($H_1$)**: Статистически значимая разница между долями объединенной группы 246/247 и 248 есть."
   ]
  },
  {
   "cell_type": "code",
   "execution_count": 46,
   "metadata": {
    "scrolled": true
   },
   "outputs": [
    {
     "name": "stdout",
     "output_type": "stream",
     "text": [
      "\n",
      "Сравниваемое событие: MainScreenAppear\n",
      "р-значение равно 0.3119454749745101\n",
      "Не получилось отвергнуть нулевую гипотезу, нет оснований считать разницу между долями групп статистически значимой\n",
      "\n",
      "Сравниваемое событие: OffersScreenAppear\n",
      "р-значение равно 0.43945868001043786\n",
      "Не получилось отвергнуть нулевую гипотезу, нет оснований считать разницу между долями групп статистически значимой\n",
      "\n",
      "Сравниваемое событие: CartScreenAppear\n",
      "р-значение равно 0.18112712794559194\n",
      "Не получилось отвергнуть нулевую гипотезу, нет оснований считать разницу между долями групп статистически значимой\n",
      "\n",
      "Сравниваемое событие: PaymentScreenSuccessful\n",
      "р-значение равно 0.6011006343280214\n",
      "Не получилось отвергнуть нулевую гипотезу, нет оснований считать разницу между долями групп статистически значимой\n"
     ]
    }
   ],
   "source": [
    "# сравним объединенную группу 246/247 и 248\n",
    "for item in df_actual_data['event_name'].unique():\n",
    "    result_test_z(pd.concat([group_a, group_a1], axis=0), group_b, item)"
   ]
  },
  {
   "cell_type": "markdown",
   "metadata": {},
   "source": [
    "**Вывод:** ни по одному из совершенных событий не удалось опровергнуть гипотезу о статистически значимой разнице между объединенной контрольной группой 246/247 и экспериментальной группой 248. Иными словами, поведение пользователей обоих групп одинаково."
   ]
  },
  {
   "cell_type": "code",
   "execution_count": 47,
   "metadata": {},
   "outputs": [
    {
     "data": {
      "text/html": [
       "<style  type=\"text/css\" >\n",
       "#T_98af7_row2_col4,#T_98af7_row3_col5{\n",
       "            background-color:  gold;\n",
       "        }</style><table id=\"T_98af7_\" ><thead>    <tr>        <th class=\"blank level0\" ></th>        <th class=\"col_heading level0 col0\" >event_name</th>        <th class=\"col_heading level0 col1\" >cnt_246</th>        <th class=\"col_heading level0 col2\" >cnt_247</th>        <th class=\"col_heading level0 col3\" >cnt_248</th>        <th class=\"col_heading level0 col4\" >dif_perc_246_248</th>        <th class=\"col_heading level0 col5\" >dif_perc_247_248</th>    </tr></thead><tbody>\n",
       "                <tr>\n",
       "                        <th id=\"T_98af7_level0_row0\" class=\"row_heading level0 row0\" >1</th>\n",
       "                        <td id=\"T_98af7_row0_col0\" class=\"data row0 col0\" >MainScreenAppear</td>\n",
       "                        <td id=\"T_98af7_row0_col1\" class=\"data row0 col1\" >2423</td>\n",
       "                        <td id=\"T_98af7_row0_col2\" class=\"data row0 col2\" >2454</td>\n",
       "                        <td id=\"T_98af7_row0_col3\" class=\"data row0 col3\" >2467</td>\n",
       "                        <td id=\"T_98af7_row0_col4\" class=\"data row0 col4\" >1.783543</td>\n",
       "                        <td id=\"T_98af7_row0_col5\" class=\"data row0 col5\" >0.526956</td>\n",
       "            </tr>\n",
       "            <tr>\n",
       "                        <th id=\"T_98af7_level0_row1\" class=\"row_heading level0 row1\" >2</th>\n",
       "                        <td id=\"T_98af7_row1_col0\" class=\"data row1 col0\" >OffersScreenAppear</td>\n",
       "                        <td id=\"T_98af7_row1_col1\" class=\"data row1 col1\" >1514</td>\n",
       "                        <td id=\"T_98af7_row1_col2\" class=\"data row1 col2\" >1498</td>\n",
       "                        <td id=\"T_98af7_row1_col3\" class=\"data row1 col3\" >1505</td>\n",
       "                        <td id=\"T_98af7_row1_col4\" class=\"data row1 col4\" >0.598007</td>\n",
       "                        <td id=\"T_98af7_row1_col5\" class=\"data row1 col5\" >0.465116</td>\n",
       "            </tr>\n",
       "            <tr>\n",
       "                        <th id=\"T_98af7_level0_row2\" class=\"row_heading level0 row2\" >0</th>\n",
       "                        <td id=\"T_98af7_row2_col0\" class=\"data row2 col0\" >CartScreenAppear</td>\n",
       "                        <td id=\"T_98af7_row2_col1\" class=\"data row2 col1\" >1238</td>\n",
       "                        <td id=\"T_98af7_row2_col2\" class=\"data row2 col2\" >1216</td>\n",
       "                        <td id=\"T_98af7_row2_col3\" class=\"data row2 col3\" >1204</td>\n",
       "                        <td id=\"T_98af7_row2_col4\" class=\"data row2 col4\" >2.823920</td>\n",
       "                        <td id=\"T_98af7_row2_col5\" class=\"data row2 col5\" >0.996678</td>\n",
       "            </tr>\n",
       "            <tr>\n",
       "                        <th id=\"T_98af7_level0_row3\" class=\"row_heading level0 row3\" >3</th>\n",
       "                        <td id=\"T_98af7_row3_col0\" class=\"data row3 col0\" >PaymentScreenSuccessful</td>\n",
       "                        <td id=\"T_98af7_row3_col1\" class=\"data row3 col1\" >1172</td>\n",
       "                        <td id=\"T_98af7_row3_col2\" class=\"data row3 col2\" >1136</td>\n",
       "                        <td id=\"T_98af7_row3_col3\" class=\"data row3 col3\" >1155</td>\n",
       "                        <td id=\"T_98af7_row3_col4\" class=\"data row3 col4\" >1.471861</td>\n",
       "                        <td id=\"T_98af7_row3_col5\" class=\"data row3 col5\" >1.645022</td>\n",
       "            </tr>\n",
       "    </tbody></table>"
      ],
      "text/plain": [
       "<pandas.io.formats.style.Styler at 0x7f4b5081b0d0>"
      ]
     },
     "execution_count": 47,
     "metadata": {},
     "output_type": "execute_result"
    }
   ],
   "source": [
    "# посмотрим на фактическую разницу между группами 246, 247 и 248 в событиях\n",
    "(\n",
    "    group_a.groupby('event_name', as_index=False).agg(cnt_246=('device_id_hash', 'nunique'))\n",
    "    .merge(\n",
    "    group_a1.groupby('event_name', as_index=False).agg(cnt_247=('device_id_hash', 'nunique')),\n",
    "        on='event_name'\n",
    "    )\n",
    "    .merge(\n",
    "    group_b.groupby('event_name', as_index=False).agg(cnt_248=('device_id_hash', 'nunique')),\n",
    "        on='event_name'\n",
    "    )\n",
    "    .assign(\n",
    "        dif_perc_246_248=lambda x: abs(100 - x['cnt_246'] / x['cnt_248'] * 100), \n",
    "        dif_perc_247_248=lambda x: abs(100 - x['cnt_247'] / x['cnt_248'] * 100))\n",
    "    .sort_values('cnt_246', ascending=False)\n",
    "    .style.highlight_max(color='gold', subset=['dif_perc_246_248', 'dif_perc_247_248'])\n",
    "\n",
    ")"
   ]
  },
  {
   "cell_type": "markdown",
   "metadata": {},
   "source": [
    "Из таблицы видно, что фактическая разница в количестве каждого события между контрольными группами и экспериментальной не велика. Наибольшая разница составляет 2.8% в событии оформления заказа(CartScreenAppear) между группами 246 и 248. Самым популярным событием в всех группах, что вполне предсказуемо и ожидаемо, является событие главного экрана(MainScreenAppear). По результатам проведения теста, можно сделать вывод, что статистически значимой разницы между долями контрольных групп 246, 247 и экспериментальной 248 нет."
   ]
  },
  {
   "cell_type": "markdown",
   "metadata": {},
   "source": [
    "<a id=\"analis_exp4\"></a>\n",
    "#### Выводы\n",
    "Проверка на статистически значимое различие с поправкой Бонферрони между контрольными и экспериментальной группами не показала какое-либо различие между ними. При проведении 16 тестов, нам ни разу не удалось опровергнуть нулевую гипотезу о равенстве групп"
   ]
  },
  {
   "cell_type": "markdown",
   "metadata": {},
   "source": [
    "<a id=\"analis_exp5\"></a>\n",
    "### Проверка на статистически значимое различие долей между контрольными(246, 247) и экспериментальной(248) группами без поправки Бонферрони"
   ]
  },
  {
   "cell_type": "markdown",
   "metadata": {},
   "source": [
    "Выше мы провели тесты на статистически значимое различие долей между контрольными(246, 247) и экспериментальной(248) группами. Там мы использовали поправку Бонферрони. Эта поправка рекомендуется при проведении множественных тестов для снижения вероятности появления ошибки первого рода. Однако, чрезмерное снижение коэффициента значимости может снижать мощность теста и увеличивать вероятность появления ошибка второго рода. Проведем еще раз тесты на статистически значимое различие между группами, но без поправки Бонферрони и с коэффициеентом значимости alpha = 0.1\n",
    "\n",
    "Сформулируем две гипотезы для проверки двух контрольных групп:\n",
    "\n",
    "**Нулевая гипотеза ($H_0$)**: Статистически значимой разницы между долями контрольных групп 246 и 247 нет.\n",
    "\n",
    "**Альтернативная гипотеза ($H_1$)**: Статистически значимая разница между долями контрольных групп 246 и 247 есть."
   ]
  },
  {
   "cell_type": "code",
   "execution_count": 48,
   "metadata": {
    "scrolled": true
   },
   "outputs": [
    {
     "name": "stdout",
     "output_type": "stream",
     "text": [
      "\n",
      "Сравниваемое событие: MainScreenAppear\n",
      "р-значение равно 0.6674277103003372\n",
      "Не получилось отвергнуть нулевую гипотезу, нет оснований считать разницу между долями групп статистически значимой\n",
      "\n",
      "Сравниваемое событие: OffersScreenAppear\n",
      "р-значение равно 0.2767654959510515\n",
      "Не получилось отвергнуть нулевую гипотезу, нет оснований считать разницу между долями групп статистически значимой\n",
      "\n",
      "Сравниваемое событие: CartScreenAppear\n",
      "р-значение равно 0.2628160759054654\n",
      "Не получилось отвергнуть нулевую гипотезу, нет оснований считать разницу между долями групп статистически значимой\n",
      "\n",
      "Сравниваемое событие: PaymentScreenSuccessful\n",
      "р-значение равно 0.13574398826607448\n",
      "Не получилось отвергнуть нулевую гипотезу, нет оснований считать разницу между долями групп статистически значимой\n"
     ]
    }
   ],
   "source": [
    "# с помощью цикла обратимся к функции result_test_z, передавая данные групп 246 и 247\n",
    "for item in df_actual_data['event_name'].unique():\n",
    "    result_test_z(group_a, group_a1, item, alpha=0.1, k_bonf=1)"
   ]
  },
  {
   "cell_type": "markdown",
   "metadata": {},
   "source": [
    "Сформулируем две гипотезы для групп 246 и 248:\n",
    "\n",
    "**Нулевая гипотеза ($H_0$)**: Статистически значимой разницы между долями групп 246 и 248 нет.\n",
    "\n",
    "**Альтернативная гипотеза ($H_1$)**: Статистически значимая разница между долями групп 246 и 248 есть."
   ]
  },
  {
   "cell_type": "code",
   "execution_count": 49,
   "metadata": {
    "scrolled": false
   },
   "outputs": [
    {
     "name": "stdout",
     "output_type": "stream",
     "text": [
      "\n",
      "Сравниваемое событие: MainScreenAppear\n",
      "р-значение равно 0.2814719389970719\n",
      "Не получилось отвергнуть нулевую гипотезу, нет оснований считать разницу между долями групп статистически значимой\n",
      "\n",
      "Сравниваемое событие: OffersScreenAppear\n",
      "р-значение равно 0.22374437294463578\n",
      "Не получилось отвергнуть нулевую гипотезу, нет оснований считать разницу между долями групп статистически значимой\n",
      "\n",
      "Сравниваемое событие: CartScreenAppear\n",
      "р-значение равно 0.08551270605955108\n",
      "Отвергаем нулевую гипотезу: разница между долями групп статистически значима\n",
      "\n",
      "Сравниваемое событие: PaymentScreenSuccessful\n",
      "р-значение равно 0.22875623127967426\n",
      "Не получилось отвергнуть нулевую гипотезу, нет оснований считать разницу между долями групп статистически значимой\n"
     ]
    }
   ],
   "source": [
    "# сравним группы 246 и 248\n",
    "for item in df_actual_data['event_name'].unique():\n",
    "    result_test_z(group_a, group_b, item, alpha=0.1, k_bonf=1)"
   ]
  },
  {
   "cell_type": "markdown",
   "metadata": {},
   "source": [
    "Сформулируем две гипотезы для групп 247 и 248:\n",
    "\n",
    "**Нулевая гипотеза ($H_0$)**: Статистически значимой разницы между долями групп 247 и 248 нет.\n",
    "\n",
    "**Альтернативная гипотеза ($H_1$)**: Статистически значимая разница между долями групп 247 и 248 есть."
   ]
  },
  {
   "cell_type": "code",
   "execution_count": 50,
   "metadata": {
    "scrolled": false
   },
   "outputs": [
    {
     "name": "stdout",
     "output_type": "stream",
     "text": [
      "\n",
      "Сравниваемое событие: MainScreenAppear\n",
      "р-значение равно 0.5151100783020421\n",
      "Не получилось отвергнуть нулевую гипотезу, нет оснований считать разницу между долями групп статистически значимой\n",
      "\n",
      "Сравниваемое событие: OffersScreenAppear\n",
      "р-значение равно 0.8985730856764382\n",
      "Не получилось отвергнуть нулевую гипотезу, нет оснований считать разницу между долями групп статистически значимой\n",
      "\n",
      "Сравниваемое событие: CartScreenAppear\n",
      "р-значение равно 0.5485507037235671\n",
      "Не получилось отвергнуть нулевую гипотезу, нет оснований считать разницу между долями групп статистически значимой\n",
      "\n",
      "Сравниваемое событие: PaymentScreenSuccessful\n",
      "р-значение равно 0.7701611050267243\n",
      "Не получилось отвергнуть нулевую гипотезу, нет оснований считать разницу между долями групп статистически значимой\n"
     ]
    }
   ],
   "source": [
    "# сравним группы 246 и 248\n",
    "for item in df_actual_data['event_name'].unique():\n",
    "    result_test_z(group_a1, group_b, item, alpha=0.1, k_bonf=1)"
   ]
  },
  {
   "cell_type": "markdown",
   "metadata": {},
   "source": [
    "Сформулируем две гипотезы для объединенной группы 246/247 и 248:\n",
    "\n",
    "**Нулевая гипотеза ($H_0$)**: Статистически значимой разницы между долями объединенной группы 246/247 и 248 нет.\n",
    "\n",
    "**Альтернативная гипотеза ($H_1$)**: Статистически значимая разница между долями объединенной группы 246/247 и 248 есть."
   ]
  },
  {
   "cell_type": "code",
   "execution_count": 51,
   "metadata": {
    "scrolled": false
   },
   "outputs": [
    {
     "name": "stdout",
     "output_type": "stream",
     "text": [
      "\n",
      "Сравниваемое событие: MainScreenAppear\n",
      "р-значение равно 0.3119454749745101\n",
      "Не получилось отвергнуть нулевую гипотезу, нет оснований считать разницу между долями групп статистически значимой\n",
      "\n",
      "Сравниваемое событие: OffersScreenAppear\n",
      "р-значение равно 0.43945868001043786\n",
      "Не получилось отвергнуть нулевую гипотезу, нет оснований считать разницу между долями групп статистически значимой\n",
      "\n",
      "Сравниваемое событие: CartScreenAppear\n",
      "р-значение равно 0.18112712794559194\n",
      "Не получилось отвергнуть нулевую гипотезу, нет оснований считать разницу между долями групп статистически значимой\n",
      "\n",
      "Сравниваемое событие: PaymentScreenSuccessful\n",
      "р-значение равно 0.6011006343280214\n",
      "Не получилось отвергнуть нулевую гипотезу, нет оснований считать разницу между долями групп статистически значимой\n"
     ]
    }
   ],
   "source": [
    "# сравним объединенную группу 246/247 и 248\n",
    "for item in df_actual_data['event_name'].unique():\n",
    "    result_test_z(pd.concat([group_a, group_a1], axis=0), group_b, item, alpha=0.1, k_bonf=1)"
   ]
  },
  {
   "cell_type": "markdown",
   "metadata": {},
   "source": [
    "<a id=\"analis_exp6\"></a>\n",
    "#### Выводы\n",
    "\n",
    "Как и при проведении тестов с поправкой Бонферрони, ни в одном из 4 тестов нам не удалось опровергнуть гипотезу о том, что статистически значимой разницы между долями контрольных групп 246 и 247 нет.\n",
    "\n",
    "Из проведенных 12 тестов в сравнениях контрольных и экспериментальной групп, удалось опровергнуть гипотезу о том, что статистически значимой разницы между долями контрольных групп только в одном тесте. Речь идет о событии **CartScreenAppear** при сравнении контрольной группы 246 и экспериментальной 248.\n",
    "\n",
    "Учитывая все проведенные ранее тесты с разными показателями уровня значимости, можно утверждать, что разницы в поведении пользователей между тремя группами нет."
   ]
  },
  {
   "cell_type": "markdown",
   "metadata": {},
   "source": [
    "<a id=\"conclusion_project\"></a>\n",
    "## Общие выводы по исследованию"
   ]
  },
  {
   "cell_type": "markdown",
   "metadata": {},
   "source": [
    "В проекте, перед исследованием и анализом данных была проведена их предварительная обработка. Предобработка данных, это критически важный и необходимый этап, который важно провести перед началом анализа данных. Данный этап существенно повышает качество последующего анализа и что гораздо более важно – предотвращает получение искаженных, неверных данных и как следствие, формирование ошибочных выводов всего исследования. В процессе предобработки были обнаружены дубликаты данных в количестве 413 строк, что составляло 0.2% от всех данных. Эти строки были удалены. Так же была проведена проверка типов данных на соответствие их значениям, поиск не явных дубликатов и проверка на пропуски в данных.\n",
    "\n",
    "**Изучение и проверка данных**. Изучив и проверив, данные мы выяснили, что в предоставленном датафрейме присутствует 243713 событий за период с 2019-07-25 по 2019-08-07, и 7551 пользователь. При изучении данных в разрезе времени мы обнаружили, несмотря на то, что в нашем распоряжении были данные за 14 дней (с 2019-07-25 по 2019-08-07), релевантными являются данные только за последние 7 дней, в период с 2019-08-01 по 2019-08-07. Данные по 2019-07-31включительно было решено удалить. \n",
    "\n",
    "При расчете среднего значения событий на пользователя, нами были обнаружены 76 пользователей, которые совершили аномально высокое количество событий(от  200 до 2300). Данные с этими пользователями так же было решено удалить.\n",
    "\n",
    "В результате изучения и проверки данных в датафрейме осталось 243713 событий и 7458 пользователей.\n",
    "\n",
    "\n",
    "**Изучение воронки событий**. Изучив воронки событий и поведения пользователей, мы выяснили, что прохождение урока не обязательно для совершения покупки, а доля наступления этого события не превышает 0.4% всех событий. Что в свою очередь указывает на то, что приложение интуитивно понятно и не вызывает каких-либо сложностей в использовании. Основываясь на полученных данных в разделе, мы смогли составить воронку событий для приложения:\n",
    "\n",
    "* `MainScreenAppear` - событие главного экрана (открытие приложения)\n",
    "* `OffersScreenAppear` - событие формирования заказа (выбор товаров)\n",
    "* `CartScreenAppear` - событие оформления заказа\n",
    "* `PaymentScreenSuccessful` - событие оплаты заказа\n",
    "\n",
    "Эта воронка показывает путь пользователя от запуска приложения, до оплаты заказа. Мы выяснили, что после наступления события главного экрана только в 39% случаев наступает событие формирования заказа. Если наступает событие формирования заказа, то с вероятностью в 91% наступает событие оформления заказа. И если заказ оформлен, то в 80% наступает событие оплаты заказа. Составив воронку распределения пользователей, совершивших действие, мы выяснили, что наибольший процент потерь пользователей происходит после события главного экрана, их доля составляет порядка 38%. 62% пользователей, после захода в приложение переходит к формированию заказа. 81% после формирования заказа переходит к оформлению заказа, и 95% из оформивших заказ, оплачивают его.\n",
    "\n",
    "**Анализ результатов эксперимента**. Перед тем, как ответить на главный вопрос проекта, повлияло ли изменение шрифтов в приложении на поведение пользователей, была проведена проверка на корректность всех расчетов. В частности мы проверили, что каждый пользователь относится только к одной группе, что нет статистически значимых различий между контрольными группами. \n",
    "Анализ результатов эксперимента проводился в два этапа. На первом этапе мы сравнили каждую контрольную группу с экспериментальной, затем объединенную контрольную группу с экспериментальной с поправкой Бонферрони. На втором, проделали все тоже самое, но уже без поправки Бонферрони и с увеличенным до 0.1 коэффициентом уровня значимости.\n",
    "\n",
    "Всего было проведено 30 тестов на статистически значимое различие долей между контрольными и экспериментальной группами. Опровергнуть гипотезу об отсутствии статистически значимых различиях между группами удалось только в одном случае, когда был увеличен коэффициент  уровня значимости.\n",
    "\n",
    "Резюмируя все выше сказанное, можно сделать вывод, что новые шрифты, которые показывались экспериментальной группе, никак не повлияли на поведение пользователей.\n"
   ]
  }
 ],
 "metadata": {
  "ExecuteTimeLog": [
   {
    "duration": 77,
    "start_time": "2024-12-23T16:15:05.619Z"
   },
   {
    "duration": 1327,
    "start_time": "2024-12-23T16:31:44.912Z"
   },
   {
    "duration": 6,
    "start_time": "2024-12-23T16:31:46.241Z"
   },
   {
    "duration": 15,
    "start_time": "2024-12-23T16:31:46.248Z"
   },
   {
    "duration": 5,
    "start_time": "2024-12-23T16:31:46.265Z"
   },
   {
    "duration": 871,
    "start_time": "2024-12-23T16:31:46.271Z"
   },
   {
    "duration": 99,
    "start_time": "2024-12-23T16:31:47.143Z"
   },
   {
    "duration": 8,
    "start_time": "2024-12-23T16:31:55.596Z"
   },
   {
    "duration": 11,
    "start_time": "2024-12-23T16:32:03.901Z"
   },
   {
    "duration": 4,
    "start_time": "2024-12-23T16:33:56.174Z"
   },
   {
    "duration": 4,
    "start_time": "2024-12-23T16:34:00.345Z"
   },
   {
    "duration": 12,
    "start_time": "2024-12-23T16:34:11.011Z"
   },
   {
    "duration": 158,
    "start_time": "2024-12-23T16:35:23.472Z"
   },
   {
    "duration": 1079,
    "start_time": "2024-12-23T16:35:27.172Z"
   },
   {
    "duration": 3,
    "start_time": "2024-12-23T16:35:28.253Z"
   },
   {
    "duration": 6,
    "start_time": "2024-12-23T16:35:28.258Z"
   },
   {
    "duration": 6,
    "start_time": "2024-12-23T16:35:28.265Z"
   },
   {
    "duration": 159,
    "start_time": "2024-12-23T16:35:28.272Z"
   },
   {
    "duration": 3,
    "start_time": "2024-12-23T16:35:28.433Z"
   },
   {
    "duration": 15,
    "start_time": "2024-12-23T16:35:28.438Z"
   },
   {
    "duration": 1100,
    "start_time": "2024-12-23T16:38:44.257Z"
   },
   {
    "duration": 3,
    "start_time": "2024-12-23T16:38:45.359Z"
   },
   {
    "duration": 17,
    "start_time": "2024-12-23T16:38:45.363Z"
   },
   {
    "duration": 10,
    "start_time": "2024-12-23T16:38:45.381Z"
   },
   {
    "duration": 192,
    "start_time": "2024-12-23T16:38:45.393Z"
   },
   {
    "duration": 3,
    "start_time": "2024-12-23T16:38:45.586Z"
   },
   {
    "duration": 37,
    "start_time": "2024-12-23T16:38:45.591Z"
   },
   {
    "duration": 1078,
    "start_time": "2024-12-23T16:41:26.293Z"
   },
   {
    "duration": 4,
    "start_time": "2024-12-23T16:41:27.373Z"
   },
   {
    "duration": 12,
    "start_time": "2024-12-23T16:41:27.379Z"
   },
   {
    "duration": 6,
    "start_time": "2024-12-23T16:41:27.393Z"
   },
   {
    "duration": 168,
    "start_time": "2024-12-23T16:41:27.400Z"
   },
   {
    "duration": 3,
    "start_time": "2024-12-23T16:41:27.570Z"
   },
   {
    "duration": 14,
    "start_time": "2024-12-23T16:41:27.575Z"
   },
   {
    "duration": 1064,
    "start_time": "2024-12-23T16:58:35.403Z"
   },
   {
    "duration": 3,
    "start_time": "2024-12-23T16:58:36.469Z"
   },
   {
    "duration": 16,
    "start_time": "2024-12-23T16:58:36.474Z"
   },
   {
    "duration": 61,
    "start_time": "2024-12-23T16:58:36.491Z"
   },
   {
    "duration": 0,
    "start_time": "2024-12-23T16:58:36.553Z"
   },
   {
    "duration": 0,
    "start_time": "2024-12-23T16:58:36.554Z"
   },
   {
    "duration": 0,
    "start_time": "2024-12-23T16:58:36.555Z"
   },
   {
    "duration": 1096,
    "start_time": "2024-12-23T16:58:46.457Z"
   },
   {
    "duration": 3,
    "start_time": "2024-12-23T16:58:47.555Z"
   },
   {
    "duration": 15,
    "start_time": "2024-12-23T16:58:47.559Z"
   },
   {
    "duration": 4,
    "start_time": "2024-12-23T16:58:47.576Z"
   },
   {
    "duration": 159,
    "start_time": "2024-12-23T16:58:47.581Z"
   },
   {
    "duration": 3,
    "start_time": "2024-12-23T16:58:47.741Z"
   },
   {
    "duration": 14,
    "start_time": "2024-12-23T16:58:47.745Z"
   },
   {
    "duration": 1130,
    "start_time": "2024-12-23T17:00:19.512Z"
   },
   {
    "duration": 4,
    "start_time": "2024-12-23T17:00:20.646Z"
   },
   {
    "duration": 5,
    "start_time": "2024-12-23T17:00:20.651Z"
   },
   {
    "duration": 6,
    "start_time": "2024-12-23T17:00:20.658Z"
   },
   {
    "duration": 160,
    "start_time": "2024-12-23T17:00:20.665Z"
   },
   {
    "duration": 3,
    "start_time": "2024-12-23T17:00:20.827Z"
   },
   {
    "duration": 19,
    "start_time": "2024-12-23T17:00:20.831Z"
   },
   {
    "duration": 173,
    "start_time": "2024-12-23T17:14:41.138Z"
   },
   {
    "duration": 1112,
    "start_time": "2024-12-23T18:34:21.355Z"
   },
   {
    "duration": 3,
    "start_time": "2024-12-23T18:34:22.469Z"
   },
   {
    "duration": 16,
    "start_time": "2024-12-23T18:34:22.473Z"
   },
   {
    "duration": 5,
    "start_time": "2024-12-23T18:34:22.491Z"
   },
   {
    "duration": 168,
    "start_time": "2024-12-23T18:34:22.497Z"
   },
   {
    "duration": 228,
    "start_time": "2024-12-23T18:34:22.667Z"
   },
   {
    "duration": 4,
    "start_time": "2024-12-23T18:34:22.897Z"
   },
   {
    "duration": 15,
    "start_time": "2024-12-23T18:34:22.904Z"
   },
   {
    "duration": 3,
    "start_time": "2024-12-23T18:35:52.915Z"
   },
   {
    "duration": 1273,
    "start_time": "2024-12-23T18:35:58.213Z"
   },
   {
    "duration": 4,
    "start_time": "2024-12-23T18:35:59.488Z"
   },
   {
    "duration": 10,
    "start_time": "2024-12-23T18:35:59.494Z"
   },
   {
    "duration": 8,
    "start_time": "2024-12-23T18:35:59.506Z"
   },
   {
    "duration": 154,
    "start_time": "2024-12-23T18:35:59.515Z"
   },
   {
    "duration": 3,
    "start_time": "2024-12-23T18:35:59.670Z"
   },
   {
    "duration": 290,
    "start_time": "2024-12-23T18:35:59.675Z"
   },
   {
    "duration": 10,
    "start_time": "2024-12-23T18:35:59.967Z"
   },
   {
    "duration": 1150,
    "start_time": "2024-12-23T18:36:58.012Z"
   },
   {
    "duration": 3,
    "start_time": "2024-12-23T18:36:59.164Z"
   },
   {
    "duration": 15,
    "start_time": "2024-12-23T18:36:59.169Z"
   },
   {
    "duration": 8,
    "start_time": "2024-12-23T18:36:59.186Z"
   },
   {
    "duration": 155,
    "start_time": "2024-12-23T18:36:59.195Z"
   },
   {
    "duration": 2,
    "start_time": "2024-12-23T18:36:59.352Z"
   },
   {
    "duration": 209,
    "start_time": "2024-12-23T18:36:59.356Z"
   },
   {
    "duration": 9,
    "start_time": "2024-12-23T18:36:59.567Z"
   },
   {
    "duration": 1139,
    "start_time": "2024-12-23T18:37:34.627Z"
   },
   {
    "duration": 5,
    "start_time": "2024-12-23T18:37:35.768Z"
   },
   {
    "duration": 25,
    "start_time": "2024-12-23T18:37:35.774Z"
   },
   {
    "duration": 6,
    "start_time": "2024-12-23T18:37:35.801Z"
   },
   {
    "duration": 165,
    "start_time": "2024-12-23T18:37:35.808Z"
   },
   {
    "duration": 205,
    "start_time": "2024-12-23T18:37:35.975Z"
   },
   {
    "duration": 3,
    "start_time": "2024-12-23T18:37:36.183Z"
   },
   {
    "duration": 36,
    "start_time": "2024-12-23T18:37:36.188Z"
   },
   {
    "duration": 8,
    "start_time": "2024-12-23T18:41:17.047Z"
   },
   {
    "duration": 8,
    "start_time": "2024-12-23T18:42:01.322Z"
   },
   {
    "duration": 5,
    "start_time": "2024-12-23T18:43:38.744Z"
   },
   {
    "duration": 1081,
    "start_time": "2024-12-23T18:43:42.367Z"
   },
   {
    "duration": 3,
    "start_time": "2024-12-23T18:43:43.450Z"
   },
   {
    "duration": 5,
    "start_time": "2024-12-23T18:43:43.455Z"
   },
   {
    "duration": 5,
    "start_time": "2024-12-23T18:43:43.462Z"
   },
   {
    "duration": 154,
    "start_time": "2024-12-23T18:43:43.468Z"
   },
   {
    "duration": 244,
    "start_time": "2024-12-23T18:43:43.623Z"
   },
   {
    "duration": 8,
    "start_time": "2024-12-23T18:43:43.869Z"
   },
   {
    "duration": 1140,
    "start_time": "2024-12-23T18:44:54.232Z"
   },
   {
    "duration": 5,
    "start_time": "2024-12-23T18:44:55.374Z"
   },
   {
    "duration": 9,
    "start_time": "2024-12-23T18:44:55.380Z"
   },
   {
    "duration": 12,
    "start_time": "2024-12-23T18:44:55.390Z"
   },
   {
    "duration": 153,
    "start_time": "2024-12-23T18:44:55.403Z"
   },
   {
    "duration": 250,
    "start_time": "2024-12-23T18:44:55.558Z"
   },
   {
    "duration": 8,
    "start_time": "2024-12-23T18:44:55.809Z"
   },
   {
    "duration": 1121,
    "start_time": "2024-12-23T18:45:14.327Z"
   },
   {
    "duration": 4,
    "start_time": "2024-12-23T18:45:15.450Z"
   },
   {
    "duration": 17,
    "start_time": "2024-12-23T18:45:15.455Z"
   },
   {
    "duration": 26,
    "start_time": "2024-12-23T18:45:15.474Z"
   },
   {
    "duration": 172,
    "start_time": "2024-12-23T18:45:15.502Z"
   },
   {
    "duration": 249,
    "start_time": "2024-12-23T18:45:15.676Z"
   },
   {
    "duration": 7,
    "start_time": "2024-12-23T18:45:15.927Z"
   },
   {
    "duration": 96,
    "start_time": "2024-12-23T18:52:51.299Z"
   },
   {
    "duration": 8,
    "start_time": "2024-12-23T18:52:58.366Z"
   },
   {
    "duration": 62,
    "start_time": "2024-12-23T18:55:34.663Z"
   },
   {
    "duration": 59,
    "start_time": "2024-12-23T18:55:40.864Z"
   },
   {
    "duration": 72,
    "start_time": "2024-12-23T18:56:01.900Z"
   },
   {
    "duration": 60,
    "start_time": "2024-12-23T18:56:15.264Z"
   },
   {
    "duration": 75,
    "start_time": "2024-12-23T18:57:27.197Z"
   },
   {
    "duration": 64,
    "start_time": "2024-12-23T18:57:32.912Z"
   },
   {
    "duration": 57,
    "start_time": "2024-12-23T18:57:33.878Z"
   },
   {
    "duration": 106,
    "start_time": "2024-12-23T18:58:20.457Z"
   },
   {
    "duration": 97,
    "start_time": "2024-12-23T19:00:10.296Z"
   },
   {
    "duration": 18,
    "start_time": "2024-12-23T19:01:42.517Z"
   },
   {
    "duration": 19,
    "start_time": "2024-12-23T19:01:59.212Z"
   },
   {
    "duration": 1065,
    "start_time": "2024-12-23T19:05:51.393Z"
   },
   {
    "duration": 4,
    "start_time": "2024-12-23T19:05:52.460Z"
   },
   {
    "duration": 30,
    "start_time": "2024-12-23T19:05:52.465Z"
   },
   {
    "duration": 6,
    "start_time": "2024-12-23T19:05:52.497Z"
   },
   {
    "duration": 154,
    "start_time": "2024-12-23T19:05:52.504Z"
   },
   {
    "duration": 286,
    "start_time": "2024-12-23T19:05:52.660Z"
   },
   {
    "duration": 8,
    "start_time": "2024-12-23T19:05:52.947Z"
   },
   {
    "duration": 146,
    "start_time": "2024-12-23T19:05:52.957Z"
   },
   {
    "duration": 19,
    "start_time": "2024-12-23T19:05:53.105Z"
   },
   {
    "duration": 88,
    "start_time": "2024-12-23T19:22:53.191Z"
   },
   {
    "duration": 103,
    "start_time": "2024-12-23T19:23:02.067Z"
   },
   {
    "duration": 85,
    "start_time": "2024-12-23T19:25:52.203Z"
   },
   {
    "duration": 80,
    "start_time": "2024-12-23T19:26:45.205Z"
   },
   {
    "duration": 160,
    "start_time": "2024-12-23T19:27:03.196Z"
   },
   {
    "duration": 83,
    "start_time": "2024-12-23T19:27:14.181Z"
   },
   {
    "duration": 1083,
    "start_time": "2024-12-23T19:27:43.681Z"
   },
   {
    "duration": 4,
    "start_time": "2024-12-23T19:27:44.765Z"
   },
   {
    "duration": 5,
    "start_time": "2024-12-23T19:27:44.770Z"
   },
   {
    "duration": 4,
    "start_time": "2024-12-23T19:27:44.777Z"
   },
   {
    "duration": 160,
    "start_time": "2024-12-23T19:27:44.782Z"
   },
   {
    "duration": 247,
    "start_time": "2024-12-23T19:27:44.945Z"
   },
   {
    "duration": 8,
    "start_time": "2024-12-23T19:27:45.193Z"
   },
   {
    "duration": 145,
    "start_time": "2024-12-23T19:27:45.202Z"
   },
   {
    "duration": 55,
    "start_time": "2024-12-23T19:27:45.349Z"
   },
   {
    "duration": 18,
    "start_time": "2024-12-23T19:27:45.407Z"
   },
   {
    "duration": 90,
    "start_time": "2024-12-23T19:27:45.426Z"
   },
   {
    "duration": 72,
    "start_time": "2024-12-23T19:28:54.038Z"
   },
   {
    "duration": 87,
    "start_time": "2024-12-23T19:30:08.581Z"
   },
   {
    "duration": 1092,
    "start_time": "2024-12-23T19:30:41.240Z"
   },
   {
    "duration": 4,
    "start_time": "2024-12-23T19:30:42.334Z"
   },
   {
    "duration": 21,
    "start_time": "2024-12-23T19:30:42.339Z"
   },
   {
    "duration": 9,
    "start_time": "2024-12-23T19:30:42.362Z"
   },
   {
    "duration": 165,
    "start_time": "2024-12-23T19:30:42.373Z"
   },
   {
    "duration": 274,
    "start_time": "2024-12-23T19:30:42.540Z"
   },
   {
    "duration": 7,
    "start_time": "2024-12-23T19:30:42.815Z"
   },
   {
    "duration": 140,
    "start_time": "2024-12-23T19:30:42.824Z"
   },
   {
    "duration": 58,
    "start_time": "2024-12-23T19:30:42.966Z"
   },
   {
    "duration": 33,
    "start_time": "2024-12-23T19:30:43.026Z"
   },
   {
    "duration": 68,
    "start_time": "2024-12-23T19:30:43.061Z"
   },
   {
    "duration": 58,
    "start_time": "2024-12-23T19:41:49.826Z"
   },
   {
    "duration": 3,
    "start_time": "2024-12-23T19:42:05.059Z"
   },
   {
    "duration": 9,
    "start_time": "2024-12-23T19:43:59.786Z"
   },
   {
    "duration": 60,
    "start_time": "2024-12-23T19:46:00.888Z"
   },
   {
    "duration": 103,
    "start_time": "2024-12-23T19:46:12.570Z"
   },
   {
    "duration": 10,
    "start_time": "2024-12-23T19:47:20.594Z"
   },
   {
    "duration": 10,
    "start_time": "2024-12-23T19:47:42.068Z"
   },
   {
    "duration": 11,
    "start_time": "2024-12-23T20:09:32.825Z"
   },
   {
    "duration": 24,
    "start_time": "2024-12-23T20:13:27.655Z"
   },
   {
    "duration": 46,
    "start_time": "2024-12-23T20:15:05.697Z"
   },
   {
    "duration": 48,
    "start_time": "2024-12-23T20:15:39.146Z"
   },
   {
    "duration": 44,
    "start_time": "2024-12-23T20:16:55.862Z"
   },
   {
    "duration": 45,
    "start_time": "2024-12-23T20:17:06.328Z"
   },
   {
    "duration": 663,
    "start_time": "2024-12-23T20:35:17.593Z"
   },
   {
    "duration": 913,
    "start_time": "2024-12-23T20:35:51.991Z"
   },
   {
    "duration": 233,
    "start_time": "2024-12-23T20:36:29.923Z"
   },
   {
    "duration": 535,
    "start_time": "2024-12-23T20:37:20.350Z"
   },
   {
    "duration": 30,
    "start_time": "2024-12-23T20:38:41.215Z"
   },
   {
    "duration": 29,
    "start_time": "2024-12-23T20:39:24.979Z"
   },
   {
    "duration": 37,
    "start_time": "2024-12-23T20:45:05.895Z"
   },
   {
    "duration": 486,
    "start_time": "2024-12-23T20:45:24.950Z"
   },
   {
    "duration": 377,
    "start_time": "2024-12-23T20:47:52.198Z"
   },
   {
    "duration": 512,
    "start_time": "2024-12-23T20:49:35.422Z"
   },
   {
    "duration": 23,
    "start_time": "2024-12-23T20:52:18.106Z"
   },
   {
    "duration": 16,
    "start_time": "2024-12-23T20:52:50.838Z"
   },
   {
    "duration": 16,
    "start_time": "2024-12-23T20:53:10.362Z"
   },
   {
    "duration": 18,
    "start_time": "2024-12-23T20:53:45.467Z"
   },
   {
    "duration": 19,
    "start_time": "2024-12-23T20:53:53.917Z"
   },
   {
    "duration": 20,
    "start_time": "2024-12-23T20:54:32.340Z"
   },
   {
    "duration": 22,
    "start_time": "2024-12-23T20:55:00.624Z"
   },
   {
    "duration": 22,
    "start_time": "2024-12-23T20:55:44.979Z"
   },
   {
    "duration": 171,
    "start_time": "2024-12-23T21:08:59.919Z"
   },
   {
    "duration": 463,
    "start_time": "2024-12-23T21:09:38.221Z"
   },
   {
    "duration": 377,
    "start_time": "2024-12-23T21:17:13.663Z"
   },
   {
    "duration": 397,
    "start_time": "2024-12-23T21:22:51.136Z"
   },
   {
    "duration": 409,
    "start_time": "2024-12-23T21:24:05.744Z"
   },
   {
    "duration": 393,
    "start_time": "2024-12-23T21:24:25.964Z"
   },
   {
    "duration": 375,
    "start_time": "2024-12-23T21:25:00.188Z"
   },
   {
    "duration": 43,
    "start_time": "2024-12-23T21:45:14.305Z"
   },
   {
    "duration": 47,
    "start_time": "2024-12-23T21:56:24.979Z"
   },
   {
    "duration": 12,
    "start_time": "2024-12-23T22:01:07.083Z"
   },
   {
    "duration": 42,
    "start_time": "2024-12-23T22:01:40.934Z"
   },
   {
    "duration": 10,
    "start_time": "2024-12-23T22:03:49.752Z"
   },
   {
    "duration": 711,
    "start_time": "2024-12-23T22:08:28.284Z"
   },
   {
    "duration": 587,
    "start_time": "2024-12-23T22:09:42.944Z"
   },
   {
    "duration": 810,
    "start_time": "2024-12-23T22:10:21.526Z"
   },
   {
    "duration": 138,
    "start_time": "2024-12-23T22:10:33.223Z"
   },
   {
    "duration": 133,
    "start_time": "2024-12-23T22:11:02.230Z"
   },
   {
    "duration": 328,
    "start_time": "2024-12-23T22:12:57.255Z"
   },
   {
    "duration": 724,
    "start_time": "2024-12-23T22:13:17.300Z"
   },
   {
    "duration": 390,
    "start_time": "2024-12-23T22:16:26.378Z"
   },
   {
    "duration": 471,
    "start_time": "2024-12-23T22:17:16.159Z"
   },
   {
    "duration": 374,
    "start_time": "2024-12-23T22:23:40.497Z"
   },
   {
    "duration": 22,
    "start_time": "2024-12-23T22:25:47.366Z"
   },
   {
    "duration": 391,
    "start_time": "2024-12-23T22:30:32.307Z"
   },
   {
    "duration": 372,
    "start_time": "2024-12-23T22:35:08.828Z"
   },
   {
    "duration": 375,
    "start_time": "2024-12-23T22:35:21.536Z"
   },
   {
    "duration": 27,
    "start_time": "2024-12-23T22:57:25.337Z"
   },
   {
    "duration": 11,
    "start_time": "2024-12-23T22:57:32.058Z"
   },
   {
    "duration": 8,
    "start_time": "2024-12-23T22:58:19.805Z"
   },
   {
    "duration": 28,
    "start_time": "2024-12-23T22:58:24.875Z"
   },
   {
    "duration": 14,
    "start_time": "2024-12-23T22:58:25.299Z"
   },
   {
    "duration": 15,
    "start_time": "2024-12-23T22:58:39.781Z"
   },
   {
    "duration": 3,
    "start_time": "2024-12-23T23:01:45.779Z"
   },
   {
    "duration": 3,
    "start_time": "2024-12-23T23:03:02.936Z"
   },
   {
    "duration": 60,
    "start_time": "2024-12-23T23:04:34.779Z"
   },
   {
    "duration": 4,
    "start_time": "2024-12-23T23:04:39.979Z"
   },
   {
    "duration": 4,
    "start_time": "2024-12-23T23:04:48.158Z"
   },
   {
    "duration": 3,
    "start_time": "2024-12-23T23:05:41.176Z"
   },
   {
    "duration": 3,
    "start_time": "2024-12-23T23:05:53.802Z"
   },
   {
    "duration": 3,
    "start_time": "2024-12-23T23:06:12.837Z"
   },
   {
    "duration": 3,
    "start_time": "2024-12-23T23:06:18.537Z"
   },
   {
    "duration": 3,
    "start_time": "2024-12-23T23:06:23.174Z"
   },
   {
    "duration": 3,
    "start_time": "2024-12-23T23:06:28.651Z"
   },
   {
    "duration": 3,
    "start_time": "2024-12-23T23:06:55.303Z"
   },
   {
    "duration": 3,
    "start_time": "2024-12-23T23:07:00.630Z"
   },
   {
    "duration": 22,
    "start_time": "2024-12-23T23:10:07.216Z"
   },
   {
    "duration": 21,
    "start_time": "2024-12-23T23:18:12.402Z"
   },
   {
    "duration": 55,
    "start_time": "2024-12-23T23:20:19.703Z"
   },
   {
    "duration": 55,
    "start_time": "2024-12-23T23:20:26.798Z"
   },
   {
    "duration": 24,
    "start_time": "2024-12-23T23:20:53.452Z"
   },
   {
    "duration": 10,
    "start_time": "2024-12-23T23:26:19.602Z"
   },
   {
    "duration": 3,
    "start_time": "2024-12-23T23:28:46.264Z"
   },
   {
    "duration": 3,
    "start_time": "2024-12-23T23:29:02.616Z"
   },
   {
    "duration": 18,
    "start_time": "2024-12-23T23:31:18.636Z"
   },
   {
    "duration": 15,
    "start_time": "2024-12-23T23:31:58.303Z"
   },
   {
    "duration": 12,
    "start_time": "2024-12-23T23:32:25.163Z"
   },
   {
    "duration": 16,
    "start_time": "2024-12-23T23:32:36.607Z"
   },
   {
    "duration": 18,
    "start_time": "2024-12-23T23:32:43.462Z"
   },
   {
    "duration": 68,
    "start_time": "2024-12-24T09:12:43.636Z"
   },
   {
    "duration": 1298,
    "start_time": "2024-12-24T09:12:50.320Z"
   },
   {
    "duration": 4,
    "start_time": "2024-12-24T09:12:51.620Z"
   },
   {
    "duration": 15,
    "start_time": "2024-12-24T09:12:51.625Z"
   },
   {
    "duration": 11,
    "start_time": "2024-12-24T09:12:51.642Z"
   },
   {
    "duration": 825,
    "start_time": "2024-12-24T09:12:51.655Z"
   },
   {
    "duration": 236,
    "start_time": "2024-12-24T09:12:52.481Z"
   },
   {
    "duration": 8,
    "start_time": "2024-12-24T09:12:52.719Z"
   },
   {
    "duration": 144,
    "start_time": "2024-12-24T09:12:52.729Z"
   },
   {
    "duration": 62,
    "start_time": "2024-12-24T09:12:52.875Z"
   },
   {
    "duration": 32,
    "start_time": "2024-12-24T09:12:52.939Z"
   },
   {
    "duration": 86,
    "start_time": "2024-12-24T09:12:52.973Z"
   },
   {
    "duration": 14,
    "start_time": "2024-12-24T09:12:53.060Z"
   },
   {
    "duration": 28,
    "start_time": "2024-12-24T09:12:53.076Z"
   },
   {
    "duration": 493,
    "start_time": "2024-12-24T09:12:53.107Z"
   },
   {
    "duration": 28,
    "start_time": "2024-12-24T09:12:53.602Z"
   },
   {
    "duration": 493,
    "start_time": "2024-12-24T09:12:53.631Z"
   },
   {
    "duration": 62,
    "start_time": "2024-12-24T09:12:54.126Z"
   },
   {
    "duration": 3,
    "start_time": "2024-12-24T09:12:54.190Z"
   },
   {
    "duration": 33,
    "start_time": "2024-12-24T09:12:54.195Z"
   },
   {
    "duration": 40,
    "start_time": "2024-12-24T09:12:54.230Z"
   },
   {
    "duration": 96,
    "start_time": "2024-12-24T09:15:08.271Z"
   },
   {
    "duration": 62,
    "start_time": "2024-12-24T09:16:24.556Z"
   },
   {
    "duration": 50,
    "start_time": "2024-12-24T09:19:11.419Z"
   },
   {
    "duration": 128,
    "start_time": "2024-12-24T09:37:36.974Z"
   },
   {
    "duration": 37,
    "start_time": "2024-12-24T09:37:47.029Z"
   },
   {
    "duration": 52,
    "start_time": "2024-12-24T09:40:05.161Z"
   },
   {
    "duration": 37,
    "start_time": "2024-12-24T09:40:14.666Z"
   },
   {
    "duration": 38,
    "start_time": "2024-12-24T09:40:42.494Z"
   },
   {
    "duration": 43,
    "start_time": "2024-12-24T09:43:57.796Z"
   },
   {
    "duration": 50,
    "start_time": "2024-12-24T10:13:13.271Z"
   },
   {
    "duration": 1121,
    "start_time": "2024-12-24T10:13:41.234Z"
   },
   {
    "duration": 3,
    "start_time": "2024-12-24T10:13:42.357Z"
   },
   {
    "duration": 36,
    "start_time": "2024-12-24T10:13:42.362Z"
   },
   {
    "duration": 20,
    "start_time": "2024-12-24T10:13:42.399Z"
   },
   {
    "duration": 190,
    "start_time": "2024-12-24T10:13:42.421Z"
   },
   {
    "duration": 297,
    "start_time": "2024-12-24T10:13:42.612Z"
   },
   {
    "duration": 8,
    "start_time": "2024-12-24T10:13:42.910Z"
   },
   {
    "duration": 145,
    "start_time": "2024-12-24T10:13:42.920Z"
   },
   {
    "duration": 67,
    "start_time": "2024-12-24T10:13:43.067Z"
   },
   {
    "duration": 34,
    "start_time": "2024-12-24T10:13:43.135Z"
   },
   {
    "duration": 99,
    "start_time": "2024-12-24T10:13:43.170Z"
   },
   {
    "duration": 21,
    "start_time": "2024-12-24T10:13:43.271Z"
   },
   {
    "duration": 38,
    "start_time": "2024-12-24T10:13:43.294Z"
   },
   {
    "duration": 443,
    "start_time": "2024-12-24T10:13:43.334Z"
   },
   {
    "duration": 28,
    "start_time": "2024-12-24T10:13:43.778Z"
   },
   {
    "duration": 482,
    "start_time": "2024-12-24T10:13:43.807Z"
   },
   {
    "duration": 45,
    "start_time": "2024-12-24T10:13:44.290Z"
   },
   {
    "duration": 15,
    "start_time": "2024-12-24T10:13:44.337Z"
   },
   {
    "duration": 28,
    "start_time": "2024-12-24T10:13:44.354Z"
   },
   {
    "duration": 46,
    "start_time": "2024-12-24T10:13:44.384Z"
   },
   {
    "duration": 18,
    "start_time": "2024-12-24T10:20:10.110Z"
   },
   {
    "duration": 22,
    "start_time": "2024-12-24T10:20:10.287Z"
   },
   {
    "duration": 416,
    "start_time": "2024-12-24T10:20:10.455Z"
   },
   {
    "duration": 36,
    "start_time": "2024-12-24T10:20:11.054Z"
   },
   {
    "duration": 432,
    "start_time": "2024-12-24T10:20:11.296Z"
   },
   {
    "duration": 35,
    "start_time": "2024-12-24T10:20:12.063Z"
   },
   {
    "duration": 3,
    "start_time": "2024-12-24T10:20:12.375Z"
   },
   {
    "duration": 18,
    "start_time": "2024-12-24T10:20:12.679Z"
   },
   {
    "duration": 41,
    "start_time": "2024-12-24T10:20:14.215Z"
   },
   {
    "duration": 1114,
    "start_time": "2024-12-24T10:31:30.745Z"
   },
   {
    "duration": 3,
    "start_time": "2024-12-24T10:31:31.861Z"
   },
   {
    "duration": 55,
    "start_time": "2024-12-24T10:31:31.866Z"
   },
   {
    "duration": 27,
    "start_time": "2024-12-24T10:31:31.924Z"
   },
   {
    "duration": 157,
    "start_time": "2024-12-24T10:31:31.953Z"
   },
   {
    "duration": 255,
    "start_time": "2024-12-24T10:31:32.111Z"
   },
   {
    "duration": 8,
    "start_time": "2024-12-24T10:31:32.367Z"
   },
   {
    "duration": 160,
    "start_time": "2024-12-24T10:31:32.376Z"
   },
   {
    "duration": 57,
    "start_time": "2024-12-24T10:31:32.538Z"
   },
   {
    "duration": 21,
    "start_time": "2024-12-24T10:31:32.597Z"
   },
   {
    "duration": 81,
    "start_time": "2024-12-24T10:31:32.620Z"
   },
   {
    "duration": 11,
    "start_time": "2024-12-24T10:31:32.703Z"
   },
   {
    "duration": 33,
    "start_time": "2024-12-24T10:31:32.715Z"
   },
   {
    "duration": 404,
    "start_time": "2024-12-24T10:31:32.753Z"
   },
   {
    "duration": 27,
    "start_time": "2024-12-24T10:31:33.158Z"
   },
   {
    "duration": 433,
    "start_time": "2024-12-24T10:31:33.186Z"
   },
   {
    "duration": 48,
    "start_time": "2024-12-24T10:31:33.620Z"
   },
   {
    "duration": 3,
    "start_time": "2024-12-24T10:31:33.670Z"
   },
   {
    "duration": 54,
    "start_time": "2024-12-24T10:31:33.674Z"
   },
   {
    "duration": 47,
    "start_time": "2024-12-24T10:31:33.729Z"
   },
   {
    "duration": 1120,
    "start_time": "2024-12-24T16:28:22.896Z"
   },
   {
    "duration": 3,
    "start_time": "2024-12-24T16:28:24.018Z"
   },
   {
    "duration": 11,
    "start_time": "2024-12-24T16:28:24.023Z"
   },
   {
    "duration": 30,
    "start_time": "2024-12-24T16:28:24.036Z"
   },
   {
    "duration": 172,
    "start_time": "2024-12-24T16:28:24.068Z"
   },
   {
    "duration": 263,
    "start_time": "2024-12-24T16:28:24.242Z"
   },
   {
    "duration": 8,
    "start_time": "2024-12-24T16:28:24.507Z"
   },
   {
    "duration": 166,
    "start_time": "2024-12-24T16:28:24.517Z"
   },
   {
    "duration": 69,
    "start_time": "2024-12-24T16:28:24.685Z"
   },
   {
    "duration": 20,
    "start_time": "2024-12-24T16:28:24.756Z"
   },
   {
    "duration": 101,
    "start_time": "2024-12-24T16:28:24.778Z"
   },
   {
    "duration": 14,
    "start_time": "2024-12-24T16:28:24.880Z"
   },
   {
    "duration": 27,
    "start_time": "2024-12-24T16:28:24.895Z"
   },
   {
    "duration": 420,
    "start_time": "2024-12-24T16:28:24.923Z"
   },
   {
    "duration": 26,
    "start_time": "2024-12-24T16:28:25.344Z"
   },
   {
    "duration": 428,
    "start_time": "2024-12-24T16:28:25.372Z"
   },
   {
    "duration": 52,
    "start_time": "2024-12-24T16:28:25.801Z"
   },
   {
    "duration": 3,
    "start_time": "2024-12-24T16:28:25.854Z"
   },
   {
    "duration": 44,
    "start_time": "2024-12-24T16:28:25.858Z"
   },
   {
    "duration": 55,
    "start_time": "2024-12-24T16:28:25.903Z"
   },
   {
    "duration": 2,
    "start_time": "2024-12-24T16:28:25.959Z"
   },
   {
    "duration": 156,
    "start_time": "2024-12-24T16:29:35.398Z"
   },
   {
    "duration": 101,
    "start_time": "2024-12-24T16:29:51.848Z"
   },
   {
    "duration": 22,
    "start_time": "2024-12-24T16:30:09.196Z"
   },
   {
    "duration": 26,
    "start_time": "2024-12-24T16:30:43.092Z"
   },
   {
    "duration": 24,
    "start_time": "2024-12-24T16:35:21.633Z"
   },
   {
    "duration": 24,
    "start_time": "2024-12-24T16:35:30.386Z"
   },
   {
    "duration": 25,
    "start_time": "2024-12-24T16:36:03.830Z"
   },
   {
    "duration": 24,
    "start_time": "2024-12-24T16:46:56.645Z"
   },
   {
    "duration": 71,
    "start_time": "2024-12-24T17:43:49.164Z"
   },
   {
    "duration": 60,
    "start_time": "2024-12-24T17:44:41.915Z"
   },
   {
    "duration": 11,
    "start_time": "2024-12-24T18:08:45.006Z"
   },
   {
    "duration": 46,
    "start_time": "2024-12-24T18:09:00.425Z"
   },
   {
    "duration": 79,
    "start_time": "2024-12-24T18:09:01.297Z"
   },
   {
    "duration": 224,
    "start_time": "2024-12-24T18:09:02.360Z"
   },
   {
    "duration": 215,
    "start_time": "2024-12-24T18:09:14.274Z"
   },
   {
    "duration": 128,
    "start_time": "2024-12-24T18:11:22.579Z"
   },
   {
    "duration": 121,
    "start_time": "2024-12-24T18:12:36.063Z"
   },
   {
    "duration": 1150,
    "start_time": "2024-12-24T18:30:53.703Z"
   },
   {
    "duration": 4,
    "start_time": "2024-12-24T18:30:54.854Z"
   },
   {
    "duration": 9,
    "start_time": "2024-12-24T18:30:54.860Z"
   },
   {
    "duration": 6,
    "start_time": "2024-12-24T18:30:54.871Z"
   },
   {
    "duration": 5,
    "start_time": "2024-12-24T18:30:54.879Z"
   },
   {
    "duration": 159,
    "start_time": "2024-12-24T18:30:54.885Z"
   },
   {
    "duration": 288,
    "start_time": "2024-12-24T18:30:55.045Z"
   },
   {
    "duration": 8,
    "start_time": "2024-12-24T18:30:55.334Z"
   },
   {
    "duration": 146,
    "start_time": "2024-12-24T18:30:55.344Z"
   },
   {
    "duration": 78,
    "start_time": "2024-12-24T18:30:55.493Z"
   },
   {
    "duration": 21,
    "start_time": "2024-12-24T18:30:55.573Z"
   },
   {
    "duration": 92,
    "start_time": "2024-12-24T18:30:55.595Z"
   },
   {
    "duration": 16,
    "start_time": "2024-12-24T18:30:55.689Z"
   },
   {
    "duration": 36,
    "start_time": "2024-12-24T18:30:55.707Z"
   },
   {
    "duration": 419,
    "start_time": "2024-12-24T18:30:55.745Z"
   },
   {
    "duration": 28,
    "start_time": "2024-12-24T18:30:56.166Z"
   },
   {
    "duration": 438,
    "start_time": "2024-12-24T18:30:56.196Z"
   },
   {
    "duration": 47,
    "start_time": "2024-12-24T18:30:56.636Z"
   },
   {
    "duration": 3,
    "start_time": "2024-12-24T18:30:56.685Z"
   },
   {
    "duration": 24,
    "start_time": "2024-12-24T18:30:56.689Z"
   },
   {
    "duration": 66,
    "start_time": "2024-12-24T18:30:56.715Z"
   },
   {
    "duration": 26,
    "start_time": "2024-12-24T18:30:56.782Z"
   },
   {
    "duration": 97,
    "start_time": "2024-12-24T18:30:56.810Z"
   },
   {
    "duration": 128,
    "start_time": "2024-12-24T18:30:56.909Z"
   },
   {
    "duration": 125,
    "start_time": "2024-12-24T18:30:57.039Z"
   },
   {
    "duration": 185,
    "start_time": "2024-12-24T18:31:14.589Z"
   },
   {
    "duration": 1180,
    "start_time": "2024-12-24T18:32:05.188Z"
   },
   {
    "duration": 4,
    "start_time": "2024-12-24T18:32:06.370Z"
   },
   {
    "duration": 41,
    "start_time": "2024-12-24T18:32:06.375Z"
   },
   {
    "duration": 12,
    "start_time": "2024-12-24T18:32:06.418Z"
   },
   {
    "duration": 8,
    "start_time": "2024-12-24T18:32:06.432Z"
   },
   {
    "duration": 211,
    "start_time": "2024-12-24T18:32:06.441Z"
   },
   {
    "duration": 326,
    "start_time": "2024-12-24T18:32:06.654Z"
   },
   {
    "duration": 10,
    "start_time": "2024-12-24T18:32:06.982Z"
   },
   {
    "duration": 154,
    "start_time": "2024-12-24T18:32:06.994Z"
   },
   {
    "duration": 74,
    "start_time": "2024-12-24T18:32:07.154Z"
   },
   {
    "duration": 33,
    "start_time": "2024-12-24T18:32:07.230Z"
   },
   {
    "duration": 102,
    "start_time": "2024-12-24T18:32:07.265Z"
   },
   {
    "duration": 20,
    "start_time": "2024-12-24T18:32:07.369Z"
   },
   {
    "duration": 27,
    "start_time": "2024-12-24T18:32:07.391Z"
   },
   {
    "duration": 471,
    "start_time": "2024-12-24T18:32:07.420Z"
   },
   {
    "duration": 29,
    "start_time": "2024-12-24T18:32:07.892Z"
   },
   {
    "duration": 476,
    "start_time": "2024-12-24T18:32:07.922Z"
   },
   {
    "duration": 41,
    "start_time": "2024-12-24T18:32:08.400Z"
   },
   {
    "duration": 16,
    "start_time": "2024-12-24T18:32:08.442Z"
   },
   {
    "duration": 28,
    "start_time": "2024-12-24T18:32:08.467Z"
   },
   {
    "duration": 72,
    "start_time": "2024-12-24T18:32:08.497Z"
   },
   {
    "duration": 28,
    "start_time": "2024-12-24T18:32:08.571Z"
   },
   {
    "duration": 92,
    "start_time": "2024-12-24T18:32:08.601Z"
   },
   {
    "duration": 142,
    "start_time": "2024-12-24T18:32:08.695Z"
   },
   {
    "duration": 197,
    "start_time": "2024-12-24T18:32:08.839Z"
   },
   {
    "duration": 9,
    "start_time": "2024-12-24T18:34:09.593Z"
   },
   {
    "duration": 6,
    "start_time": "2024-12-24T18:42:29.164Z"
   },
   {
    "duration": 6,
    "start_time": "2024-12-24T18:42:43.042Z"
   },
   {
    "duration": 16,
    "start_time": "2024-12-24T18:42:53.921Z"
   },
   {
    "duration": 8,
    "start_time": "2024-12-24T18:42:56.451Z"
   },
   {
    "duration": 10,
    "start_time": "2024-12-24T18:43:20.093Z"
   },
   {
    "duration": 1111,
    "start_time": "2024-12-24T18:44:06.846Z"
   },
   {
    "duration": 4,
    "start_time": "2024-12-24T18:44:07.959Z"
   },
   {
    "duration": 7,
    "start_time": "2024-12-24T18:44:07.964Z"
   },
   {
    "duration": 17,
    "start_time": "2024-12-24T18:44:07.973Z"
   },
   {
    "duration": 66,
    "start_time": "2024-12-24T18:44:07.991Z"
   },
   {
    "duration": 41,
    "start_time": "2024-12-24T18:44:08.059Z"
   },
   {
    "duration": 225,
    "start_time": "2024-12-24T18:44:08.102Z"
   },
   {
    "duration": 261,
    "start_time": "2024-12-24T18:44:08.329Z"
   },
   {
    "duration": 8,
    "start_time": "2024-12-24T18:44:08.591Z"
   },
   {
    "duration": 200,
    "start_time": "2024-12-24T18:44:08.601Z"
   },
   {
    "duration": 81,
    "start_time": "2024-12-24T18:44:08.803Z"
   },
   {
    "duration": 22,
    "start_time": "2024-12-24T18:44:08.885Z"
   },
   {
    "duration": 117,
    "start_time": "2024-12-24T18:44:08.909Z"
   },
   {
    "duration": 27,
    "start_time": "2024-12-24T18:44:09.027Z"
   },
   {
    "duration": 22,
    "start_time": "2024-12-24T18:44:09.055Z"
   },
   {
    "duration": 391,
    "start_time": "2024-12-24T18:44:09.078Z"
   },
   {
    "duration": 26,
    "start_time": "2024-12-24T18:44:09.471Z"
   },
   {
    "duration": 478,
    "start_time": "2024-12-24T18:44:09.499Z"
   },
   {
    "duration": 43,
    "start_time": "2024-12-24T18:44:09.978Z"
   },
   {
    "duration": 17,
    "start_time": "2024-12-24T18:44:10.023Z"
   },
   {
    "duration": 68,
    "start_time": "2024-12-24T18:44:10.042Z"
   },
   {
    "duration": 139,
    "start_time": "2024-12-24T18:44:10.112Z"
   },
   {
    "duration": 39,
    "start_time": "2024-12-24T18:44:10.253Z"
   },
   {
    "duration": 92,
    "start_time": "2024-12-24T18:44:10.294Z"
   },
   {
    "duration": 136,
    "start_time": "2024-12-24T18:44:10.388Z"
   },
   {
    "duration": 183,
    "start_time": "2024-12-24T18:44:10.525Z"
   },
   {
    "duration": 1184,
    "start_time": "2024-12-24T18:45:25.040Z"
   },
   {
    "duration": 4,
    "start_time": "2024-12-24T18:45:26.225Z"
   },
   {
    "duration": 7,
    "start_time": "2024-12-24T18:45:26.231Z"
   },
   {
    "duration": 5,
    "start_time": "2024-12-24T18:45:26.252Z"
   },
   {
    "duration": 10,
    "start_time": "2024-12-24T18:45:26.259Z"
   },
   {
    "duration": 11,
    "start_time": "2024-12-24T18:45:26.271Z"
   },
   {
    "duration": 207,
    "start_time": "2024-12-24T18:45:26.283Z"
   },
   {
    "duration": 283,
    "start_time": "2024-12-24T18:45:26.492Z"
   },
   {
    "duration": 10,
    "start_time": "2024-12-24T18:45:26.778Z"
   },
   {
    "duration": 149,
    "start_time": "2024-12-24T18:45:26.791Z"
   },
   {
    "duration": 70,
    "start_time": "2024-12-24T18:45:26.942Z"
   },
   {
    "duration": 39,
    "start_time": "2024-12-24T18:45:27.014Z"
   },
   {
    "duration": 77,
    "start_time": "2024-12-24T18:45:27.054Z"
   },
   {
    "duration": 32,
    "start_time": "2024-12-24T18:45:27.133Z"
   },
   {
    "duration": 67,
    "start_time": "2024-12-24T18:45:27.166Z"
   },
   {
    "duration": 474,
    "start_time": "2024-12-24T18:45:27.235Z"
   },
   {
    "duration": 52,
    "start_time": "2024-12-24T18:45:27.711Z"
   },
   {
    "duration": 439,
    "start_time": "2024-12-24T18:45:27.765Z"
   },
   {
    "duration": 50,
    "start_time": "2024-12-24T18:45:28.206Z"
   },
   {
    "duration": 3,
    "start_time": "2024-12-24T18:45:28.258Z"
   },
   {
    "duration": 28,
    "start_time": "2024-12-24T18:45:28.263Z"
   },
   {
    "duration": 75,
    "start_time": "2024-12-24T18:45:28.292Z"
   },
   {
    "duration": 26,
    "start_time": "2024-12-24T18:45:28.369Z"
   },
   {
    "duration": 95,
    "start_time": "2024-12-24T18:45:28.397Z"
   },
   {
    "duration": 129,
    "start_time": "2024-12-24T18:45:28.494Z"
   },
   {
    "duration": 147,
    "start_time": "2024-12-24T18:45:28.624Z"
   },
   {
    "duration": 1210,
    "start_time": "2024-12-24T18:46:06.340Z"
   },
   {
    "duration": 16,
    "start_time": "2024-12-24T18:46:07.552Z"
   },
   {
    "duration": 12,
    "start_time": "2024-12-24T18:46:07.575Z"
   },
   {
    "duration": 29,
    "start_time": "2024-12-24T18:46:07.588Z"
   },
   {
    "duration": 3,
    "start_time": "2024-12-24T18:46:07.619Z"
   },
   {
    "duration": 6,
    "start_time": "2024-12-24T18:46:07.624Z"
   },
   {
    "duration": 196,
    "start_time": "2024-12-24T18:46:07.631Z"
   },
   {
    "duration": 286,
    "start_time": "2024-12-24T18:46:07.829Z"
   },
   {
    "duration": 8,
    "start_time": "2024-12-24T18:46:08.117Z"
   },
   {
    "duration": 164,
    "start_time": "2024-12-24T18:46:08.128Z"
   },
   {
    "duration": 77,
    "start_time": "2024-12-24T18:46:08.294Z"
   },
   {
    "duration": 21,
    "start_time": "2024-12-24T18:46:08.373Z"
   },
   {
    "duration": 107,
    "start_time": "2024-12-24T18:46:08.396Z"
   },
   {
    "duration": 22,
    "start_time": "2024-12-24T18:46:08.505Z"
   },
   {
    "duration": 42,
    "start_time": "2024-12-24T18:46:08.530Z"
   },
   {
    "duration": 453,
    "start_time": "2024-12-24T18:46:08.574Z"
   },
   {
    "duration": 35,
    "start_time": "2024-12-24T18:46:09.029Z"
   },
   {
    "duration": 453,
    "start_time": "2024-12-24T18:46:09.065Z"
   },
   {
    "duration": 66,
    "start_time": "2024-12-24T18:46:09.520Z"
   },
   {
    "duration": 4,
    "start_time": "2024-12-24T18:46:09.588Z"
   },
   {
    "duration": 50,
    "start_time": "2024-12-24T18:46:09.594Z"
   },
   {
    "duration": 48,
    "start_time": "2024-12-24T18:46:09.645Z"
   },
   {
    "duration": 28,
    "start_time": "2024-12-24T18:46:09.695Z"
   },
   {
    "duration": 125,
    "start_time": "2024-12-24T18:46:09.725Z"
   },
   {
    "duration": 155,
    "start_time": "2024-12-24T18:46:09.852Z"
   },
   {
    "duration": 199,
    "start_time": "2024-12-24T18:46:10.010Z"
   },
   {
    "duration": 15,
    "start_time": "2024-12-24T18:50:07.548Z"
   },
   {
    "duration": 1173,
    "start_time": "2024-12-24T18:50:11.252Z"
   },
   {
    "duration": 4,
    "start_time": "2024-12-24T18:50:12.427Z"
   },
   {
    "duration": 9,
    "start_time": "2024-12-24T18:50:12.432Z"
   },
   {
    "duration": 12,
    "start_time": "2024-12-24T18:50:12.452Z"
   },
   {
    "duration": 9,
    "start_time": "2024-12-24T18:50:12.467Z"
   },
   {
    "duration": 5,
    "start_time": "2024-12-24T18:50:12.478Z"
   },
   {
    "duration": 186,
    "start_time": "2024-12-24T18:50:12.486Z"
   },
   {
    "duration": 322,
    "start_time": "2024-12-24T18:50:12.674Z"
   },
   {
    "duration": 9,
    "start_time": "2024-12-24T18:50:12.998Z"
   },
   {
    "duration": 178,
    "start_time": "2024-12-24T18:50:13.011Z"
   },
   {
    "duration": 112,
    "start_time": "2024-12-24T18:50:13.191Z"
   },
   {
    "duration": 35,
    "start_time": "2024-12-24T18:50:13.305Z"
   },
   {
    "duration": 101,
    "start_time": "2024-12-24T18:50:13.354Z"
   },
   {
    "duration": 21,
    "start_time": "2024-12-24T18:50:13.457Z"
   },
   {
    "duration": 32,
    "start_time": "2024-12-24T18:50:13.480Z"
   },
   {
    "duration": 555,
    "start_time": "2024-12-24T18:50:13.514Z"
   },
   {
    "duration": 48,
    "start_time": "2024-12-24T18:50:14.071Z"
   },
   {
    "duration": 511,
    "start_time": "2024-12-24T18:50:14.121Z"
   },
   {
    "duration": 60,
    "start_time": "2024-12-24T18:50:14.634Z"
   },
   {
    "duration": 3,
    "start_time": "2024-12-24T18:50:14.696Z"
   },
   {
    "duration": 29,
    "start_time": "2024-12-24T18:50:14.701Z"
   },
   {
    "duration": 75,
    "start_time": "2024-12-24T18:50:14.732Z"
   },
   {
    "duration": 26,
    "start_time": "2024-12-24T18:50:14.808Z"
   },
   {
    "duration": 103,
    "start_time": "2024-12-24T18:50:14.836Z"
   },
   {
    "duration": 146,
    "start_time": "2024-12-24T18:50:14.941Z"
   },
   {
    "duration": 190,
    "start_time": "2024-12-24T18:50:15.089Z"
   },
   {
    "duration": 1208,
    "start_time": "2024-12-24T18:50:41.405Z"
   },
   {
    "duration": 4,
    "start_time": "2024-12-24T18:50:42.615Z"
   },
   {
    "duration": 22,
    "start_time": "2024-12-24T18:50:42.620Z"
   },
   {
    "duration": 20,
    "start_time": "2024-12-24T18:50:42.644Z"
   },
   {
    "duration": 17,
    "start_time": "2024-12-24T18:50:42.666Z"
   },
   {
    "duration": 15,
    "start_time": "2024-12-24T18:50:42.685Z"
   },
   {
    "duration": 187,
    "start_time": "2024-12-24T18:50:42.702Z"
   },
   {
    "duration": 295,
    "start_time": "2024-12-24T18:50:42.891Z"
   },
   {
    "duration": 8,
    "start_time": "2024-12-24T18:50:43.188Z"
   },
   {
    "duration": 147,
    "start_time": "2024-12-24T18:50:43.200Z"
   },
   {
    "duration": 105,
    "start_time": "2024-12-24T18:50:43.353Z"
   },
   {
    "duration": 33,
    "start_time": "2024-12-24T18:50:43.460Z"
   },
   {
    "duration": 151,
    "start_time": "2024-12-24T18:50:43.495Z"
   },
   {
    "duration": 19,
    "start_time": "2024-12-24T18:50:43.653Z"
   },
   {
    "duration": 28,
    "start_time": "2024-12-24T18:50:43.674Z"
   },
   {
    "duration": 550,
    "start_time": "2024-12-24T18:50:43.703Z"
   },
   {
    "duration": 31,
    "start_time": "2024-12-24T18:50:44.255Z"
   },
   {
    "duration": 509,
    "start_time": "2024-12-24T18:50:44.288Z"
   },
   {
    "duration": 54,
    "start_time": "2024-12-24T18:50:44.799Z"
   },
   {
    "duration": 4,
    "start_time": "2024-12-24T18:50:44.855Z"
   },
   {
    "duration": 27,
    "start_time": "2024-12-24T18:50:44.861Z"
   },
   {
    "duration": 71,
    "start_time": "2024-12-24T18:50:44.891Z"
   },
   {
    "duration": 26,
    "start_time": "2024-12-24T18:50:44.964Z"
   },
   {
    "duration": 94,
    "start_time": "2024-12-24T18:50:44.992Z"
   },
   {
    "duration": 136,
    "start_time": "2024-12-24T18:50:45.087Z"
   },
   {
    "duration": 177,
    "start_time": "2024-12-24T18:50:45.225Z"
   },
   {
    "duration": 5,
    "start_time": "2024-12-24T18:51:00.597Z"
   },
   {
    "duration": 11,
    "start_time": "2024-12-24T18:51:06.213Z"
   },
   {
    "duration": 6,
    "start_time": "2024-12-24T18:51:17.563Z"
   },
   {
    "duration": 1303,
    "start_time": "2024-12-24T18:51:21.053Z"
   },
   {
    "duration": 5,
    "start_time": "2024-12-24T18:51:22.359Z"
   },
   {
    "duration": 15,
    "start_time": "2024-12-24T18:51:22.366Z"
   },
   {
    "duration": 7,
    "start_time": "2024-12-24T18:51:22.383Z"
   },
   {
    "duration": 19,
    "start_time": "2024-12-24T18:51:22.392Z"
   },
   {
    "duration": 5,
    "start_time": "2024-12-24T18:51:22.413Z"
   },
   {
    "duration": 274,
    "start_time": "2024-12-24T18:51:22.420Z"
   },
   {
    "duration": 415,
    "start_time": "2024-12-24T18:51:22.696Z"
   },
   {
    "duration": 8,
    "start_time": "2024-12-24T18:51:23.112Z"
   },
   {
    "duration": 181,
    "start_time": "2024-12-24T18:51:23.124Z"
   },
   {
    "duration": 90,
    "start_time": "2024-12-24T18:51:23.307Z"
   },
   {
    "duration": 18,
    "start_time": "2024-12-24T18:51:23.399Z"
   },
   {
    "duration": 90,
    "start_time": "2024-12-24T18:51:23.419Z"
   },
   {
    "duration": 13,
    "start_time": "2024-12-24T18:51:23.511Z"
   },
   {
    "duration": 47,
    "start_time": "2024-12-24T18:51:23.526Z"
   },
   {
    "duration": 492,
    "start_time": "2024-12-24T18:51:23.575Z"
   },
   {
    "duration": 28,
    "start_time": "2024-12-24T18:51:24.070Z"
   },
   {
    "duration": 477,
    "start_time": "2024-12-24T18:51:24.099Z"
   },
   {
    "duration": 59,
    "start_time": "2024-12-24T18:51:24.578Z"
   },
   {
    "duration": 4,
    "start_time": "2024-12-24T18:51:24.652Z"
   },
   {
    "duration": 34,
    "start_time": "2024-12-24T18:51:24.659Z"
   },
   {
    "duration": 59,
    "start_time": "2024-12-24T18:51:24.695Z"
   },
   {
    "duration": 28,
    "start_time": "2024-12-24T18:51:24.756Z"
   },
   {
    "duration": 120,
    "start_time": "2024-12-24T18:51:24.786Z"
   },
   {
    "duration": 163,
    "start_time": "2024-12-24T18:51:24.908Z"
   },
   {
    "duration": 145,
    "start_time": "2024-12-24T18:51:25.072Z"
   },
   {
    "duration": 1201,
    "start_time": "2024-12-24T18:52:32.129Z"
   },
   {
    "duration": 4,
    "start_time": "2024-12-24T18:52:33.332Z"
   },
   {
    "duration": 15,
    "start_time": "2024-12-24T18:52:33.338Z"
   },
   {
    "duration": 25,
    "start_time": "2024-12-24T18:52:33.355Z"
   },
   {
    "duration": 23,
    "start_time": "2024-12-24T18:52:33.382Z"
   },
   {
    "duration": 32,
    "start_time": "2024-12-24T18:52:33.407Z"
   },
   {
    "duration": 213,
    "start_time": "2024-12-24T18:52:33.442Z"
   },
   {
    "duration": 362,
    "start_time": "2024-12-24T18:52:33.657Z"
   },
   {
    "duration": 17,
    "start_time": "2024-12-24T18:52:34.021Z"
   },
   {
    "duration": 265,
    "start_time": "2024-12-24T18:52:34.045Z"
   },
   {
    "duration": 114,
    "start_time": "2024-12-24T18:52:34.313Z"
   },
   {
    "duration": 36,
    "start_time": "2024-12-24T18:52:34.429Z"
   },
   {
    "duration": 147,
    "start_time": "2024-12-24T18:52:34.467Z"
   },
   {
    "duration": 22,
    "start_time": "2024-12-24T18:52:34.615Z"
   },
   {
    "duration": 34,
    "start_time": "2024-12-24T18:52:34.654Z"
   },
   {
    "duration": 471,
    "start_time": "2024-12-24T18:52:34.689Z"
   },
   {
    "duration": 29,
    "start_time": "2024-12-24T18:52:35.162Z"
   },
   {
    "duration": 500,
    "start_time": "2024-12-24T18:52:35.193Z"
   },
   {
    "duration": 66,
    "start_time": "2024-12-24T18:52:35.694Z"
   },
   {
    "duration": 6,
    "start_time": "2024-12-24T18:52:35.771Z"
   },
   {
    "duration": 103,
    "start_time": "2024-12-24T18:52:35.780Z"
   },
   {
    "duration": 52,
    "start_time": "2024-12-24T18:52:35.885Z"
   },
   {
    "duration": 64,
    "start_time": "2024-12-24T18:52:35.939Z"
   },
   {
    "duration": 179,
    "start_time": "2024-12-24T18:52:36.005Z"
   },
   {
    "duration": 164,
    "start_time": "2024-12-24T18:52:36.187Z"
   },
   {
    "duration": 156,
    "start_time": "2024-12-24T18:52:36.353Z"
   },
   {
    "duration": 180,
    "start_time": "2024-12-24T18:54:54.785Z"
   },
   {
    "duration": 11,
    "start_time": "2024-12-24T18:55:29.922Z"
   },
   {
    "duration": 1231,
    "start_time": "2024-12-24T18:55:45.440Z"
   },
   {
    "duration": 1204,
    "start_time": "2024-12-24T18:57:30.728Z"
   },
   {
    "duration": 3,
    "start_time": "2024-12-24T18:57:31.934Z"
   },
   {
    "duration": 23,
    "start_time": "2024-12-24T18:57:31.938Z"
   },
   {
    "duration": 11,
    "start_time": "2024-12-24T18:57:31.964Z"
   },
   {
    "duration": 30,
    "start_time": "2024-12-24T18:57:31.978Z"
   },
   {
    "duration": 7,
    "start_time": "2024-12-24T18:57:32.009Z"
   },
   {
    "duration": 193,
    "start_time": "2024-12-24T18:57:32.018Z"
   },
   {
    "duration": 314,
    "start_time": "2024-12-24T18:57:32.212Z"
   },
   {
    "duration": 8,
    "start_time": "2024-12-24T18:57:32.528Z"
   },
   {
    "duration": 187,
    "start_time": "2024-12-24T18:57:32.538Z"
   },
   {
    "duration": 70,
    "start_time": "2024-12-24T18:57:32.726Z"
   },
   {
    "duration": 34,
    "start_time": "2024-12-24T18:57:32.799Z"
   },
   {
    "duration": 90,
    "start_time": "2024-12-24T18:57:32.835Z"
   },
   {
    "duration": 13,
    "start_time": "2024-12-24T18:57:32.926Z"
   },
   {
    "duration": 40,
    "start_time": "2024-12-24T18:57:32.941Z"
   },
   {
    "duration": 428,
    "start_time": "2024-12-24T18:57:32.983Z"
   },
   {
    "duration": 28,
    "start_time": "2024-12-24T18:57:33.413Z"
   },
   {
    "duration": 507,
    "start_time": "2024-12-24T18:57:33.443Z"
   },
   {
    "duration": 59,
    "start_time": "2024-12-24T18:57:33.952Z"
   },
   {
    "duration": 16,
    "start_time": "2024-12-24T18:57:34.013Z"
   },
   {
    "duration": 39,
    "start_time": "2024-12-24T18:57:34.048Z"
   },
   {
    "duration": 78,
    "start_time": "2024-12-24T18:57:34.088Z"
   },
   {
    "duration": 28,
    "start_time": "2024-12-24T18:57:34.168Z"
   },
   {
    "duration": 144,
    "start_time": "2024-12-24T18:57:34.198Z"
   },
   {
    "duration": 164,
    "start_time": "2024-12-24T18:57:34.343Z"
   },
   {
    "duration": 171,
    "start_time": "2024-12-24T18:57:34.509Z"
   },
   {
    "duration": 176,
    "start_time": "2024-12-24T18:57:34.682Z"
   },
   {
    "duration": 16,
    "start_time": "2024-12-24T18:57:34.862Z"
   },
   {
    "duration": 10,
    "start_time": "2024-12-24T19:05:24.441Z"
   },
   {
    "duration": 12,
    "start_time": "2024-12-24T19:08:43.306Z"
   },
   {
    "duration": 9,
    "start_time": "2024-12-24T19:26:34.204Z"
   },
   {
    "duration": 8,
    "start_time": "2024-12-24T19:26:50.566Z"
   },
   {
    "duration": 11,
    "start_time": "2024-12-24T19:27:58.900Z"
   },
   {
    "duration": 6,
    "start_time": "2024-12-24T19:30:09.928Z"
   },
   {
    "duration": 1030,
    "start_time": "2024-12-24T19:38:10.112Z"
   },
   {
    "duration": 4,
    "start_time": "2024-12-24T19:38:11.143Z"
   },
   {
    "duration": 29,
    "start_time": "2024-12-24T19:38:11.148Z"
   },
   {
    "duration": 4,
    "start_time": "2024-12-24T19:38:11.179Z"
   },
   {
    "duration": 23,
    "start_time": "2024-12-24T19:38:11.185Z"
   },
   {
    "duration": 8,
    "start_time": "2024-12-24T19:38:11.210Z"
   },
   {
    "duration": 180,
    "start_time": "2024-12-24T19:38:11.219Z"
   },
   {
    "duration": 264,
    "start_time": "2024-12-24T19:38:11.401Z"
   },
   {
    "duration": 8,
    "start_time": "2024-12-24T19:38:11.666Z"
   },
   {
    "duration": 138,
    "start_time": "2024-12-24T19:38:11.676Z"
   },
   {
    "duration": 65,
    "start_time": "2024-12-24T19:38:11.815Z"
   },
   {
    "duration": 18,
    "start_time": "2024-12-24T19:38:11.881Z"
   },
   {
    "duration": 82,
    "start_time": "2024-12-24T19:38:11.901Z"
   },
   {
    "duration": 11,
    "start_time": "2024-12-24T19:38:11.984Z"
   },
   {
    "duration": 42,
    "start_time": "2024-12-24T19:38:11.997Z"
   },
   {
    "duration": 423,
    "start_time": "2024-12-24T19:38:12.041Z"
   },
   {
    "duration": 29,
    "start_time": "2024-12-24T19:38:12.465Z"
   },
   {
    "duration": 428,
    "start_time": "2024-12-24T19:38:12.495Z"
   },
   {
    "duration": 52,
    "start_time": "2024-12-24T19:38:12.925Z"
   },
   {
    "duration": 3,
    "start_time": "2024-12-24T19:38:12.979Z"
   },
   {
    "duration": 21,
    "start_time": "2024-12-24T19:38:12.984Z"
   },
   {
    "duration": 71,
    "start_time": "2024-12-24T19:38:13.006Z"
   },
   {
    "duration": 25,
    "start_time": "2024-12-24T19:38:13.079Z"
   },
   {
    "duration": 128,
    "start_time": "2024-12-24T19:38:13.106Z"
   },
   {
    "duration": 148,
    "start_time": "2024-12-24T19:38:13.236Z"
   },
   {
    "duration": 122,
    "start_time": "2024-12-24T19:38:13.385Z"
   },
   {
    "duration": 167,
    "start_time": "2024-12-24T19:38:13.509Z"
   },
   {
    "duration": 8,
    "start_time": "2024-12-24T19:38:13.679Z"
   },
   {
    "duration": 6,
    "start_time": "2024-12-24T19:38:13.689Z"
   },
   {
    "duration": 1051,
    "start_time": "2024-12-24T21:03:46.664Z"
   },
   {
    "duration": 4,
    "start_time": "2024-12-24T21:03:47.717Z"
   },
   {
    "duration": 18,
    "start_time": "2024-12-24T21:03:47.722Z"
   },
   {
    "duration": 9,
    "start_time": "2024-12-24T21:03:47.742Z"
   },
   {
    "duration": 4,
    "start_time": "2024-12-24T21:03:47.752Z"
   },
   {
    "duration": 12,
    "start_time": "2024-12-24T21:03:47.757Z"
   },
   {
    "duration": 153,
    "start_time": "2024-12-24T21:03:47.771Z"
   },
   {
    "duration": 241,
    "start_time": "2024-12-24T21:03:47.926Z"
   },
   {
    "duration": 6,
    "start_time": "2024-12-24T21:03:48.169Z"
   },
   {
    "duration": 152,
    "start_time": "2024-12-24T21:03:48.179Z"
   },
   {
    "duration": 72,
    "start_time": "2024-12-24T21:03:48.333Z"
   },
   {
    "duration": 20,
    "start_time": "2024-12-24T21:03:48.407Z"
   },
   {
    "duration": 89,
    "start_time": "2024-12-24T21:03:48.428Z"
   },
   {
    "duration": 13,
    "start_time": "2024-12-24T21:03:48.519Z"
   },
   {
    "duration": 35,
    "start_time": "2024-12-24T21:03:48.534Z"
   },
   {
    "duration": 393,
    "start_time": "2024-12-24T21:03:48.570Z"
   },
   {
    "duration": 25,
    "start_time": "2024-12-24T21:03:48.964Z"
   },
   {
    "duration": 408,
    "start_time": "2024-12-24T21:03:48.991Z"
   },
   {
    "duration": 39,
    "start_time": "2024-12-24T21:03:49.401Z"
   },
   {
    "duration": 11,
    "start_time": "2024-12-24T21:03:49.442Z"
   },
   {
    "duration": 21,
    "start_time": "2024-12-24T21:03:49.455Z"
   },
   {
    "duration": 46,
    "start_time": "2024-12-24T21:03:49.478Z"
   },
   {
    "duration": 40,
    "start_time": "2024-12-24T21:03:49.526Z"
   },
   {
    "duration": 127,
    "start_time": "2024-12-24T21:03:49.567Z"
   },
   {
    "duration": 137,
    "start_time": "2024-12-24T21:03:49.695Z"
   },
   {
    "duration": 141,
    "start_time": "2024-12-24T21:03:49.833Z"
   },
   {
    "duration": 151,
    "start_time": "2024-12-24T21:03:49.976Z"
   },
   {
    "duration": 10,
    "start_time": "2024-12-24T21:03:50.130Z"
   },
   {
    "duration": 50,
    "start_time": "2024-12-24T21:03:50.141Z"
   },
   {
    "duration": 32,
    "start_time": "2024-12-24T21:03:50.193Z"
   },
   {
    "duration": 19,
    "start_time": "2024-12-24T21:06:34.047Z"
   },
   {
    "duration": 18,
    "start_time": "2024-12-24T21:20:37.711Z"
   },
   {
    "duration": 1452,
    "start_time": "2024-12-25T17:51:01.259Z"
   },
   {
    "duration": 3,
    "start_time": "2024-12-25T17:51:02.713Z"
   },
   {
    "duration": 38,
    "start_time": "2024-12-25T17:51:02.718Z"
   },
   {
    "duration": 133,
    "start_time": "2024-12-25T17:51:02.758Z"
   },
   {
    "duration": 28,
    "start_time": "2024-12-25T17:51:02.893Z"
   },
   {
    "duration": 36,
    "start_time": "2024-12-25T17:51:02.923Z"
   },
   {
    "duration": 298,
    "start_time": "2024-12-25T17:51:02.960Z"
   },
   {
    "duration": 288,
    "start_time": "2024-12-25T17:51:03.259Z"
   },
   {
    "duration": 8,
    "start_time": "2024-12-25T17:51:03.549Z"
   },
   {
    "duration": 159,
    "start_time": "2024-12-25T17:51:03.572Z"
   },
   {
    "duration": 84,
    "start_time": "2024-12-25T17:51:03.732Z"
   },
   {
    "duration": 21,
    "start_time": "2024-12-25T17:51:03.818Z"
   },
   {
    "duration": 158,
    "start_time": "2024-12-25T17:51:03.841Z"
   },
   {
    "duration": 14,
    "start_time": "2024-12-25T17:51:04.001Z"
   },
   {
    "duration": 28,
    "start_time": "2024-12-25T17:51:04.017Z"
   },
   {
    "duration": 538,
    "start_time": "2024-12-25T17:51:04.046Z"
   },
   {
    "duration": 35,
    "start_time": "2024-12-25T17:51:04.586Z"
   },
   {
    "duration": 531,
    "start_time": "2024-12-25T17:51:04.623Z"
   },
   {
    "duration": 51,
    "start_time": "2024-12-25T17:51:05.156Z"
   },
   {
    "duration": 6,
    "start_time": "2024-12-25T17:51:05.208Z"
   },
   {
    "duration": 51,
    "start_time": "2024-12-25T17:51:05.215Z"
   },
   {
    "duration": 52,
    "start_time": "2024-12-25T17:51:05.267Z"
   },
   {
    "duration": 21,
    "start_time": "2024-12-25T17:51:05.320Z"
   },
   {
    "duration": 60,
    "start_time": "2024-12-25T17:51:05.343Z"
   },
   {
    "duration": 170,
    "start_time": "2024-12-25T17:51:05.405Z"
   },
   {
    "duration": 160,
    "start_time": "2024-12-25T17:51:05.577Z"
   },
   {
    "duration": 169,
    "start_time": "2024-12-25T17:51:05.740Z"
   },
   {
    "duration": 178,
    "start_time": "2024-12-25T17:51:05.912Z"
   },
   {
    "duration": 10,
    "start_time": "2024-12-25T17:51:06.092Z"
   },
   {
    "duration": 46,
    "start_time": "2024-12-25T17:51:06.104Z"
   },
   {
    "duration": 100,
    "start_time": "2024-12-25T18:12:07.081Z"
   },
   {
    "duration": 86,
    "start_time": "2024-12-25T18:12:32.826Z"
   },
   {
    "duration": 75,
    "start_time": "2024-12-25T18:12:47.530Z"
   },
   {
    "duration": 66,
    "start_time": "2024-12-25T18:13:05.383Z"
   },
   {
    "duration": 67,
    "start_time": "2024-12-25T18:16:06.148Z"
   },
   {
    "duration": 42,
    "start_time": "2024-12-25T18:21:26.541Z"
   },
   {
    "duration": 23,
    "start_time": "2024-12-25T20:10:06.076Z"
   },
   {
    "duration": 128,
    "start_time": "2024-12-25T20:11:27.367Z"
   },
   {
    "duration": 34,
    "start_time": "2024-12-25T20:12:26.171Z"
   },
   {
    "duration": 33,
    "start_time": "2024-12-25T20:14:18.712Z"
   },
   {
    "duration": 49,
    "start_time": "2024-12-25T20:16:38.812Z"
   },
   {
    "duration": 36,
    "start_time": "2024-12-25T20:17:04.244Z"
   },
   {
    "duration": 40,
    "start_time": "2024-12-25T20:18:46.741Z"
   },
   {
    "duration": 46,
    "start_time": "2024-12-25T20:25:08.838Z"
   },
   {
    "duration": 12,
    "start_time": "2024-12-25T20:37:38.910Z"
   },
   {
    "duration": 1721,
    "start_time": "2024-12-25T20:39:59.581Z"
   },
   {
    "duration": 269,
    "start_time": "2024-12-25T20:40:31.563Z"
   },
   {
    "duration": 47,
    "start_time": "2024-12-25T20:41:38.984Z"
   },
   {
    "duration": 19,
    "start_time": "2024-12-25T20:42:08.466Z"
   },
   {
    "duration": 48,
    "start_time": "2024-12-25T20:46:59.601Z"
   },
   {
    "duration": 47,
    "start_time": "2024-12-25T20:48:19.119Z"
   },
   {
    "duration": 50,
    "start_time": "2024-12-25T20:49:06.219Z"
   },
   {
    "duration": 51,
    "start_time": "2024-12-25T20:53:28.920Z"
   },
   {
    "duration": 127,
    "start_time": "2024-12-25T20:54:55.764Z"
   },
   {
    "duration": 40,
    "start_time": "2024-12-25T20:55:24.922Z"
   },
   {
    "duration": 123,
    "start_time": "2024-12-25T20:55:31.351Z"
   },
   {
    "duration": 10,
    "start_time": "2024-12-25T20:55:38.531Z"
   },
   {
    "duration": 119,
    "start_time": "2024-12-25T20:56:15.057Z"
   },
   {
    "duration": 86,
    "start_time": "2024-12-25T20:56:23.293Z"
   },
   {
    "duration": 120,
    "start_time": "2024-12-25T20:59:41.145Z"
   },
   {
    "duration": 116,
    "start_time": "2024-12-25T21:00:00.105Z"
   },
   {
    "duration": 119,
    "start_time": "2024-12-25T21:08:23.677Z"
   },
   {
    "duration": 121,
    "start_time": "2024-12-25T21:08:38.322Z"
   },
   {
    "duration": 11,
    "start_time": "2024-12-25T21:09:45.944Z"
   },
   {
    "duration": 15,
    "start_time": "2024-12-25T21:09:59.866Z"
   },
   {
    "duration": 52,
    "start_time": "2024-12-25T21:21:21.927Z"
   },
   {
    "duration": 38,
    "start_time": "2024-12-25T21:33:00.424Z"
   },
   {
    "duration": 37,
    "start_time": "2024-12-25T21:33:53.678Z"
   },
   {
    "duration": 33,
    "start_time": "2024-12-25T21:33:58.810Z"
   },
   {
    "duration": 22,
    "start_time": "2024-12-25T21:34:04.909Z"
   },
   {
    "duration": 23,
    "start_time": "2024-12-25T21:34:09.935Z"
   },
   {
    "duration": 9,
    "start_time": "2024-12-25T21:34:42.611Z"
   },
   {
    "duration": 137,
    "start_time": "2024-12-25T21:40:24.246Z"
   },
   {
    "duration": 83,
    "start_time": "2024-12-25T21:40:50.964Z"
   },
   {
    "duration": 113,
    "start_time": "2024-12-25T21:41:09.679Z"
   },
   {
    "duration": 64,
    "start_time": "2024-12-25T22:02:24.504Z"
   },
   {
    "duration": 62,
    "start_time": "2024-12-25T22:03:07.247Z"
   },
   {
    "duration": 56,
    "start_time": "2024-12-25T22:03:27.728Z"
   },
   {
    "duration": 33,
    "start_time": "2024-12-25T22:08:15.460Z"
   },
   {
    "duration": 32,
    "start_time": "2024-12-25T22:09:33.304Z"
   },
   {
    "duration": 34,
    "start_time": "2024-12-25T22:13:11.191Z"
   },
   {
    "duration": 41,
    "start_time": "2024-12-25T22:13:43.654Z"
   },
   {
    "duration": 1179,
    "start_time": "2024-12-25T22:14:52.691Z"
   },
   {
    "duration": 7,
    "start_time": "2024-12-25T22:14:53.873Z"
   },
   {
    "duration": 37,
    "start_time": "2024-12-25T22:14:53.882Z"
   },
   {
    "duration": 11,
    "start_time": "2024-12-25T22:14:53.921Z"
   },
   {
    "duration": 5,
    "start_time": "2024-12-25T22:14:53.934Z"
   },
   {
    "duration": 22,
    "start_time": "2024-12-25T22:14:53.940Z"
   },
   {
    "duration": 236,
    "start_time": "2024-12-25T22:14:53.964Z"
   },
   {
    "duration": 327,
    "start_time": "2024-12-25T22:14:54.202Z"
   },
   {
    "duration": 9,
    "start_time": "2024-12-25T22:14:54.531Z"
   },
   {
    "duration": 149,
    "start_time": "2024-12-25T22:14:54.542Z"
   },
   {
    "duration": 60,
    "start_time": "2024-12-25T22:14:54.694Z"
   },
   {
    "duration": 32,
    "start_time": "2024-12-25T22:14:54.756Z"
   },
   {
    "duration": 171,
    "start_time": "2024-12-25T22:14:54.790Z"
   },
   {
    "duration": 19,
    "start_time": "2024-12-25T22:14:54.964Z"
   },
   {
    "duration": 34,
    "start_time": "2024-12-25T22:14:54.985Z"
   },
   {
    "duration": 502,
    "start_time": "2024-12-25T22:14:55.021Z"
   },
   {
    "duration": 48,
    "start_time": "2024-12-25T22:14:55.525Z"
   },
   {
    "duration": 547,
    "start_time": "2024-12-25T22:14:55.576Z"
   },
   {
    "duration": 57,
    "start_time": "2024-12-25T22:14:56.125Z"
   },
   {
    "duration": 23,
    "start_time": "2024-12-25T22:14:56.184Z"
   },
   {
    "duration": 28,
    "start_time": "2024-12-25T22:14:56.208Z"
   },
   {
    "duration": 61,
    "start_time": "2024-12-25T22:14:56.238Z"
   },
   {
    "duration": 20,
    "start_time": "2024-12-25T22:14:56.302Z"
   },
   {
    "duration": 52,
    "start_time": "2024-12-25T22:14:56.324Z"
   },
   {
    "duration": 152,
    "start_time": "2024-12-25T22:14:56.378Z"
   },
   {
    "duration": 188,
    "start_time": "2024-12-25T22:14:56.532Z"
   },
   {
    "duration": 158,
    "start_time": "2024-12-25T22:14:56.722Z"
   },
   {
    "duration": 14,
    "start_time": "2024-12-25T22:14:56.882Z"
   },
   {
    "duration": 212,
    "start_time": "2024-12-25T22:14:56.898Z"
   },
   {
    "duration": 39,
    "start_time": "2024-12-25T22:14:57.111Z"
   },
   {
    "duration": 151,
    "start_time": "2024-12-25T22:14:57.152Z"
   },
   {
    "duration": 11,
    "start_time": "2024-12-25T22:14:57.304Z"
   },
   {
    "duration": 77,
    "start_time": "2024-12-25T22:14:57.316Z"
   },
   {
    "duration": 1385,
    "start_time": "2024-12-26T07:04:51.390Z"
   },
   {
    "duration": 5,
    "start_time": "2024-12-26T07:04:52.777Z"
   },
   {
    "duration": 39,
    "start_time": "2024-12-26T07:04:52.783Z"
   },
   {
    "duration": 10,
    "start_time": "2024-12-26T07:04:52.824Z"
   },
   {
    "duration": 18,
    "start_time": "2024-12-26T07:04:52.835Z"
   },
   {
    "duration": 14,
    "start_time": "2024-12-26T07:04:52.855Z"
   },
   {
    "duration": 293,
    "start_time": "2024-12-26T07:04:52.871Z"
   },
   {
    "duration": 269,
    "start_time": "2024-12-26T07:04:53.166Z"
   },
   {
    "duration": 8,
    "start_time": "2024-12-26T07:04:53.437Z"
   },
   {
    "duration": 151,
    "start_time": "2024-12-26T07:04:53.448Z"
   },
   {
    "duration": 74,
    "start_time": "2024-12-26T07:04:53.601Z"
   },
   {
    "duration": 18,
    "start_time": "2024-12-26T07:04:53.676Z"
   },
   {
    "duration": 130,
    "start_time": "2024-12-26T07:04:53.696Z"
   },
   {
    "duration": 13,
    "start_time": "2024-12-26T07:04:53.828Z"
   },
   {
    "duration": 69,
    "start_time": "2024-12-26T07:04:53.843Z"
   },
   {
    "duration": 497,
    "start_time": "2024-12-26T07:04:53.914Z"
   },
   {
    "duration": 33,
    "start_time": "2024-12-26T07:04:54.412Z"
   },
   {
    "duration": 477,
    "start_time": "2024-12-26T07:04:54.447Z"
   },
   {
    "duration": 44,
    "start_time": "2024-12-26T07:04:54.926Z"
   },
   {
    "duration": 3,
    "start_time": "2024-12-26T07:04:54.972Z"
   },
   {
    "duration": 24,
    "start_time": "2024-12-26T07:04:54.976Z"
   },
   {
    "duration": 74,
    "start_time": "2024-12-26T07:04:55.002Z"
   },
   {
    "duration": 20,
    "start_time": "2024-12-26T07:04:55.077Z"
   },
   {
    "duration": 48,
    "start_time": "2024-12-26T07:04:55.098Z"
   },
   {
    "duration": 130,
    "start_time": "2024-12-26T07:04:55.147Z"
   },
   {
    "duration": 152,
    "start_time": "2024-12-26T07:04:55.279Z"
   },
   {
    "duration": 110,
    "start_time": "2024-12-26T07:04:55.432Z"
   },
   {
    "duration": 10,
    "start_time": "2024-12-26T07:04:55.545Z"
   },
   {
    "duration": 161,
    "start_time": "2024-12-26T07:04:55.557Z"
   },
   {
    "duration": 47,
    "start_time": "2024-12-26T07:04:55.721Z"
   },
   {
    "duration": 136,
    "start_time": "2024-12-26T07:04:55.770Z"
   },
   {
    "duration": 10,
    "start_time": "2024-12-26T07:04:55.907Z"
   },
   {
    "duration": 178,
    "start_time": "2024-12-26T07:04:55.919Z"
   },
   {
    "duration": 0,
    "start_time": "2024-12-26T07:04:56.099Z"
   },
   {
    "duration": 37,
    "start_time": "2024-12-26T07:05:22.980Z"
   },
   {
    "duration": 11,
    "start_time": "2024-12-26T07:58:58.699Z"
   },
   {
    "duration": 56,
    "start_time": "2024-12-26T07:59:10.172Z"
   },
   {
    "duration": 4,
    "start_time": "2024-12-26T08:03:46.973Z"
   },
   {
    "duration": 43,
    "start_time": "2024-12-26T08:03:55.614Z"
   },
   {
    "duration": 16,
    "start_time": "2024-12-26T11:15:34.886Z"
   },
   {
    "duration": 1334,
    "start_time": "2024-12-26T11:16:18.557Z"
   },
   {
    "duration": 13,
    "start_time": "2024-12-26T11:16:46.921Z"
   },
   {
    "duration": 86,
    "start_time": "2024-12-26T11:17:20.709Z"
   },
   {
    "duration": 11,
    "start_time": "2024-12-26T11:17:52.785Z"
   },
   {
    "duration": 14,
    "start_time": "2024-12-26T11:18:40.841Z"
   },
   {
    "duration": 18,
    "start_time": "2024-12-26T11:22:14.027Z"
   },
   {
    "duration": 429,
    "start_time": "2024-12-26T11:25:42.141Z"
   },
   {
    "duration": 5,
    "start_time": "2024-12-26T11:26:35.139Z"
   },
   {
    "duration": 12,
    "start_time": "2024-12-26T11:27:30.175Z"
   },
   {
    "duration": 11,
    "start_time": "2024-12-26T11:29:14.308Z"
   },
   {
    "duration": 15,
    "start_time": "2024-12-26T11:30:32.329Z"
   },
   {
    "duration": 19,
    "start_time": "2024-12-26T11:30:57.801Z"
   },
   {
    "duration": 11,
    "start_time": "2024-12-26T11:31:57.801Z"
   },
   {
    "duration": 46,
    "start_time": "2024-12-26T11:34:35.155Z"
   },
   {
    "duration": 103,
    "start_time": "2024-12-26T11:39:39.938Z"
   },
   {
    "duration": 1568,
    "start_time": "2024-12-26T11:39:46.396Z"
   },
   {
    "duration": 1604,
    "start_time": "2024-12-26T11:48:43.056Z"
   },
   {
    "duration": 1592,
    "start_time": "2024-12-26T11:48:59.415Z"
   },
   {
    "duration": 1594,
    "start_time": "2024-12-26T11:52:27.248Z"
   },
   {
    "duration": 19,
    "start_time": "2024-12-26T12:34:35.280Z"
   },
   {
    "duration": 65,
    "start_time": "2024-12-26T12:38:52.821Z"
   },
   {
    "duration": 1167,
    "start_time": "2024-12-26T12:39:32.676Z"
   },
   {
    "duration": 4,
    "start_time": "2024-12-26T12:39:33.845Z"
   },
   {
    "duration": 9,
    "start_time": "2024-12-26T12:39:33.851Z"
   },
   {
    "duration": 4,
    "start_time": "2024-12-26T12:39:33.862Z"
   },
   {
    "duration": 6,
    "start_time": "2024-12-26T12:39:33.868Z"
   },
   {
    "duration": 30,
    "start_time": "2024-12-26T12:39:33.876Z"
   },
   {
    "duration": 288,
    "start_time": "2024-12-26T12:39:33.908Z"
   },
   {
    "duration": 287,
    "start_time": "2024-12-26T12:39:34.198Z"
   },
   {
    "duration": 9,
    "start_time": "2024-12-26T12:39:34.487Z"
   },
   {
    "duration": 163,
    "start_time": "2024-12-26T12:39:34.498Z"
   },
   {
    "duration": 67,
    "start_time": "2024-12-26T12:39:34.663Z"
   },
   {
    "duration": 19,
    "start_time": "2024-12-26T12:39:34.732Z"
   },
   {
    "duration": 101,
    "start_time": "2024-12-26T12:39:34.752Z"
   },
   {
    "duration": 13,
    "start_time": "2024-12-26T12:39:34.855Z"
   },
   {
    "duration": 24,
    "start_time": "2024-12-26T12:39:34.869Z"
   },
   {
    "duration": 500,
    "start_time": "2024-12-26T12:39:34.895Z"
   },
   {
    "duration": 33,
    "start_time": "2024-12-26T12:39:35.396Z"
   },
   {
    "duration": 548,
    "start_time": "2024-12-26T12:39:35.431Z"
   },
   {
    "duration": 62,
    "start_time": "2024-12-26T12:39:35.981Z"
   },
   {
    "duration": 5,
    "start_time": "2024-12-26T12:39:36.046Z"
   },
   {
    "duration": 35,
    "start_time": "2024-12-26T12:39:36.054Z"
   },
   {
    "duration": 75,
    "start_time": "2024-12-26T12:39:36.092Z"
   },
   {
    "duration": 19,
    "start_time": "2024-12-26T12:39:36.169Z"
   },
   {
    "duration": 59,
    "start_time": "2024-12-26T12:39:36.189Z"
   },
   {
    "duration": 129,
    "start_time": "2024-12-26T12:39:36.250Z"
   },
   {
    "duration": 144,
    "start_time": "2024-12-26T12:39:36.380Z"
   },
   {
    "duration": 122,
    "start_time": "2024-12-26T12:39:36.530Z"
   },
   {
    "duration": 10,
    "start_time": "2024-12-26T12:39:36.656Z"
   },
   {
    "duration": 150,
    "start_time": "2024-12-26T12:39:36.667Z"
   },
   {
    "duration": 46,
    "start_time": "2024-12-26T12:39:36.819Z"
   },
   {
    "duration": 134,
    "start_time": "2024-12-26T12:39:36.866Z"
   },
   {
    "duration": 10,
    "start_time": "2024-12-26T12:39:37.001Z"
   },
   {
    "duration": 49,
    "start_time": "2024-12-26T12:39:37.013Z"
   },
   {
    "duration": 43,
    "start_time": "2024-12-26T12:39:37.064Z"
   },
   {
    "duration": 1723,
    "start_time": "2024-12-26T12:39:37.109Z"
   },
   {
    "duration": 18,
    "start_time": "2024-12-26T12:39:38.834Z"
   },
   {
    "duration": 1481,
    "start_time": "2024-12-26T12:47:00.891Z"
   },
   {
    "duration": 44,
    "start_time": "2024-12-26T12:47:49.427Z"
   },
   {
    "duration": 1175,
    "start_time": "2024-12-26T12:50:32.164Z"
   },
   {
    "duration": 4,
    "start_time": "2024-12-26T12:50:33.341Z"
   },
   {
    "duration": 34,
    "start_time": "2024-12-26T12:50:33.347Z"
   },
   {
    "duration": 70,
    "start_time": "2024-12-26T12:50:33.383Z"
   },
   {
    "duration": 40,
    "start_time": "2024-12-26T12:50:33.455Z"
   },
   {
    "duration": 245,
    "start_time": "2024-12-26T12:50:33.496Z"
   },
   {
    "duration": 210,
    "start_time": "2024-12-26T12:50:33.743Z"
   },
   {
    "duration": 283,
    "start_time": "2024-12-26T12:50:33.955Z"
   },
   {
    "duration": 8,
    "start_time": "2024-12-26T12:50:34.240Z"
   },
   {
    "duration": 155,
    "start_time": "2024-12-26T12:50:34.250Z"
   },
   {
    "duration": 73,
    "start_time": "2024-12-26T12:50:34.407Z"
   },
   {
    "duration": 19,
    "start_time": "2024-12-26T12:50:34.482Z"
   },
   {
    "duration": 156,
    "start_time": "2024-12-26T12:50:34.503Z"
   },
   {
    "duration": 16,
    "start_time": "2024-12-26T12:50:34.660Z"
   },
   {
    "duration": 25,
    "start_time": "2024-12-26T12:50:34.678Z"
   },
   {
    "duration": 487,
    "start_time": "2024-12-26T12:50:34.704Z"
   },
   {
    "duration": 34,
    "start_time": "2024-12-26T12:50:35.192Z"
   },
   {
    "duration": 485,
    "start_time": "2024-12-26T12:50:35.228Z"
   },
   {
    "duration": 47,
    "start_time": "2024-12-26T12:50:35.715Z"
   },
   {
    "duration": 3,
    "start_time": "2024-12-26T12:50:35.764Z"
   },
   {
    "duration": 76,
    "start_time": "2024-12-26T12:50:35.768Z"
   },
   {
    "duration": 84,
    "start_time": "2024-12-26T12:50:35.846Z"
   },
   {
    "duration": 81,
    "start_time": "2024-12-26T12:50:35.931Z"
   },
   {
    "duration": 111,
    "start_time": "2024-12-26T12:50:36.016Z"
   },
   {
    "duration": 144,
    "start_time": "2024-12-26T12:50:36.128Z"
   },
   {
    "duration": 147,
    "start_time": "2024-12-26T12:50:36.273Z"
   },
   {
    "duration": 124,
    "start_time": "2024-12-26T12:50:36.422Z"
   },
   {
    "duration": 11,
    "start_time": "2024-12-26T12:50:36.550Z"
   },
   {
    "duration": 152,
    "start_time": "2024-12-26T12:50:36.563Z"
   },
   {
    "duration": 43,
    "start_time": "2024-12-26T12:50:36.717Z"
   },
   {
    "duration": 137,
    "start_time": "2024-12-26T12:50:36.761Z"
   },
   {
    "duration": 12,
    "start_time": "2024-12-26T12:50:36.900Z"
   },
   {
    "duration": 50,
    "start_time": "2024-12-26T12:50:36.914Z"
   },
   {
    "duration": 54,
    "start_time": "2024-12-26T12:50:36.966Z"
   },
   {
    "duration": 1747,
    "start_time": "2024-12-26T12:50:37.021Z"
   },
   {
    "duration": 42,
    "start_time": "2024-12-26T12:50:38.770Z"
   },
   {
    "duration": 5,
    "start_time": "2024-12-26T12:50:38.831Z"
   },
   {
    "duration": 50,
    "start_time": "2024-12-26T12:54:51.999Z"
   },
   {
    "duration": 45,
    "start_time": "2024-12-26T12:55:26.348Z"
   },
   {
    "duration": 44,
    "start_time": "2024-12-26T12:56:05.082Z"
   },
   {
    "duration": 137,
    "start_time": "2024-12-26T12:57:20.147Z"
   },
   {
    "duration": 139,
    "start_time": "2024-12-26T12:57:55.250Z"
   },
   {
    "duration": 150,
    "start_time": "2024-12-26T13:02:09.414Z"
   },
   {
    "duration": 142,
    "start_time": "2024-12-26T13:22:50.040Z"
   },
   {
    "duration": 1156,
    "start_time": "2024-12-26T13:38:31.075Z"
   },
   {
    "duration": 3,
    "start_time": "2024-12-26T13:38:32.233Z"
   },
   {
    "duration": 16,
    "start_time": "2024-12-26T13:38:32.238Z"
   },
   {
    "duration": 11,
    "start_time": "2024-12-26T13:38:32.256Z"
   },
   {
    "duration": 31,
    "start_time": "2024-12-26T13:38:32.269Z"
   },
   {
    "duration": 6,
    "start_time": "2024-12-26T13:38:32.302Z"
   },
   {
    "duration": 33,
    "start_time": "2024-12-26T13:38:32.310Z"
   },
   {
    "duration": 193,
    "start_time": "2024-12-26T13:38:32.345Z"
   },
   {
    "duration": 285,
    "start_time": "2024-12-26T13:38:32.540Z"
   },
   {
    "duration": 8,
    "start_time": "2024-12-26T13:38:32.829Z"
   },
   {
    "duration": 178,
    "start_time": "2024-12-26T13:38:32.838Z"
   },
   {
    "duration": 60,
    "start_time": "2024-12-26T13:38:33.018Z"
   },
   {
    "duration": 18,
    "start_time": "2024-12-26T13:38:33.080Z"
   },
   {
    "duration": 125,
    "start_time": "2024-12-26T13:38:33.100Z"
   },
   {
    "duration": 15,
    "start_time": "2024-12-26T13:38:33.226Z"
   },
   {
    "duration": 23,
    "start_time": "2024-12-26T13:38:33.243Z"
   },
   {
    "duration": 439,
    "start_time": "2024-12-26T13:38:33.268Z"
   },
   {
    "duration": 34,
    "start_time": "2024-12-26T13:38:33.709Z"
   },
   {
    "duration": 532,
    "start_time": "2024-12-26T13:38:33.744Z"
   },
   {
    "duration": 56,
    "start_time": "2024-12-26T13:38:34.278Z"
   },
   {
    "duration": 11,
    "start_time": "2024-12-26T13:38:34.335Z"
   },
   {
    "duration": 48,
    "start_time": "2024-12-26T13:38:34.347Z"
   },
   {
    "duration": 82,
    "start_time": "2024-12-26T13:38:34.397Z"
   },
   {
    "duration": 32,
    "start_time": "2024-12-26T13:38:34.481Z"
   },
   {
    "duration": 63,
    "start_time": "2024-12-26T13:38:34.514Z"
   },
   {
    "duration": 137,
    "start_time": "2024-12-26T13:38:34.578Z"
   },
   {
    "duration": 141,
    "start_time": "2024-12-26T13:38:34.716Z"
   },
   {
    "duration": 116,
    "start_time": "2024-12-26T13:38:34.860Z"
   },
   {
    "duration": 59,
    "start_time": "2024-12-26T13:38:34.978Z"
   },
   {
    "duration": 125,
    "start_time": "2024-12-26T13:38:35.039Z"
   },
   {
    "duration": 38,
    "start_time": "2024-12-26T13:38:35.165Z"
   },
   {
    "duration": 133,
    "start_time": "2024-12-26T13:38:35.205Z"
   },
   {
    "duration": 10,
    "start_time": "2024-12-26T13:38:35.339Z"
   },
   {
    "duration": 34,
    "start_time": "2024-12-26T13:38:35.351Z"
   },
   {
    "duration": 73,
    "start_time": "2024-12-26T13:38:35.387Z"
   },
   {
    "duration": 1737,
    "start_time": "2024-12-26T13:38:35.462Z"
   },
   {
    "duration": 144,
    "start_time": "2024-12-26T13:38:37.200Z"
   },
   {
    "duration": 2,
    "start_time": "2024-12-26T13:38:37.346Z"
   },
   {
    "duration": 120,
    "start_time": "2024-12-26T13:40:19.552Z"
   },
   {
    "duration": 1231,
    "start_time": "2024-12-26T13:40:26.102Z"
   },
   {
    "duration": 3,
    "start_time": "2024-12-26T13:40:27.335Z"
   },
   {
    "duration": 11,
    "start_time": "2024-12-26T13:40:27.339Z"
   },
   {
    "duration": 11,
    "start_time": "2024-12-26T13:40:27.352Z"
   },
   {
    "duration": 10,
    "start_time": "2024-12-26T13:40:27.364Z"
   },
   {
    "duration": 21,
    "start_time": "2024-12-26T13:40:27.376Z"
   },
   {
    "duration": 6,
    "start_time": "2024-12-26T13:40:27.399Z"
   },
   {
    "duration": 187,
    "start_time": "2024-12-26T13:40:27.406Z"
   },
   {
    "duration": 293,
    "start_time": "2024-12-26T13:40:27.594Z"
   },
   {
    "duration": 8,
    "start_time": "2024-12-26T13:40:27.890Z"
   },
   {
    "duration": 232,
    "start_time": "2024-12-26T13:40:27.899Z"
   },
   {
    "duration": 58,
    "start_time": "2024-12-26T13:40:28.132Z"
   },
   {
    "duration": 18,
    "start_time": "2024-12-26T13:40:28.191Z"
   },
   {
    "duration": 187,
    "start_time": "2024-12-26T13:40:28.211Z"
   },
   {
    "duration": 15,
    "start_time": "2024-12-26T13:40:28.400Z"
   },
   {
    "duration": 27,
    "start_time": "2024-12-26T13:40:28.416Z"
   },
   {
    "duration": 430,
    "start_time": "2024-12-26T13:40:28.445Z"
   },
   {
    "duration": 35,
    "start_time": "2024-12-26T13:40:28.876Z"
   },
   {
    "duration": 475,
    "start_time": "2024-12-26T13:40:28.913Z"
   },
   {
    "duration": 53,
    "start_time": "2024-12-26T13:40:29.389Z"
   },
   {
    "duration": 3,
    "start_time": "2024-12-26T13:40:29.444Z"
   },
   {
    "duration": 35,
    "start_time": "2024-12-26T13:40:29.449Z"
   },
   {
    "duration": 57,
    "start_time": "2024-12-26T13:40:29.486Z"
   },
   {
    "duration": 20,
    "start_time": "2024-12-26T13:40:29.544Z"
   },
   {
    "duration": 30,
    "start_time": "2024-12-26T13:40:29.565Z"
   },
   {
    "duration": 144,
    "start_time": "2024-12-26T13:40:29.596Z"
   },
   {
    "duration": 140,
    "start_time": "2024-12-26T13:40:29.742Z"
   },
   {
    "duration": 166,
    "start_time": "2024-12-26T13:40:29.886Z"
   },
   {
    "duration": 10,
    "start_time": "2024-12-26T13:40:30.054Z"
   },
   {
    "duration": 164,
    "start_time": "2024-12-26T13:40:30.066Z"
   },
   {
    "duration": 37,
    "start_time": "2024-12-26T13:40:30.232Z"
   },
   {
    "duration": 151,
    "start_time": "2024-12-26T13:40:30.270Z"
   },
   {
    "duration": 14,
    "start_time": "2024-12-26T13:40:30.423Z"
   },
   {
    "duration": 47,
    "start_time": "2024-12-26T13:40:30.438Z"
   },
   {
    "duration": 48,
    "start_time": "2024-12-26T13:40:30.486Z"
   },
   {
    "duration": 1726,
    "start_time": "2024-12-26T13:40:30.536Z"
   },
   {
    "duration": 144,
    "start_time": "2024-12-26T13:40:32.264Z"
   },
   {
    "duration": 3,
    "start_time": "2024-12-26T13:40:32.410Z"
   },
   {
    "duration": 110,
    "start_time": "2024-12-26T13:49:00.154Z"
   },
   {
    "duration": 1145,
    "start_time": "2024-12-26T13:49:05.965Z"
   },
   {
    "duration": 3,
    "start_time": "2024-12-26T13:49:07.112Z"
   },
   {
    "duration": 23,
    "start_time": "2024-12-26T13:49:07.117Z"
   },
   {
    "duration": 9,
    "start_time": "2024-12-26T13:49:07.142Z"
   },
   {
    "duration": 12,
    "start_time": "2024-12-26T13:49:07.153Z"
   },
   {
    "duration": 37,
    "start_time": "2024-12-26T13:49:07.166Z"
   },
   {
    "duration": 41,
    "start_time": "2024-12-26T13:49:07.205Z"
   },
   {
    "duration": 205,
    "start_time": "2024-12-26T13:49:07.247Z"
   },
   {
    "duration": 276,
    "start_time": "2024-12-26T13:49:07.454Z"
   },
   {
    "duration": 8,
    "start_time": "2024-12-26T13:49:07.732Z"
   },
   {
    "duration": 173,
    "start_time": "2024-12-26T13:49:07.742Z"
   },
   {
    "duration": 171,
    "start_time": "2024-12-26T13:49:07.917Z"
   },
   {
    "duration": 24,
    "start_time": "2024-12-26T13:49:08.091Z"
   },
   {
    "duration": 103,
    "start_time": "2024-12-26T13:49:08.117Z"
   },
   {
    "duration": 14,
    "start_time": "2024-12-26T13:49:08.222Z"
   },
   {
    "duration": 21,
    "start_time": "2024-12-26T13:49:08.238Z"
   },
   {
    "duration": 510,
    "start_time": "2024-12-26T13:49:08.261Z"
   },
   {
    "duration": 32,
    "start_time": "2024-12-26T13:49:08.773Z"
   },
   {
    "duration": 462,
    "start_time": "2024-12-26T13:49:08.807Z"
   },
   {
    "duration": 45,
    "start_time": "2024-12-26T13:49:09.271Z"
   },
   {
    "duration": 13,
    "start_time": "2024-12-26T13:49:09.317Z"
   },
   {
    "duration": 26,
    "start_time": "2024-12-26T13:49:09.332Z"
   },
   {
    "duration": 52,
    "start_time": "2024-12-26T13:49:09.360Z"
   },
   {
    "duration": 20,
    "start_time": "2024-12-26T13:49:09.429Z"
   },
   {
    "duration": 51,
    "start_time": "2024-12-26T13:49:09.451Z"
   },
   {
    "duration": 144,
    "start_time": "2024-12-26T13:49:09.503Z"
   },
   {
    "duration": 146,
    "start_time": "2024-12-26T13:49:09.650Z"
   },
   {
    "duration": 163,
    "start_time": "2024-12-26T13:49:09.800Z"
   },
   {
    "duration": 10,
    "start_time": "2024-12-26T13:49:09.964Z"
   },
   {
    "duration": 212,
    "start_time": "2024-12-26T13:49:09.975Z"
   },
   {
    "duration": 42,
    "start_time": "2024-12-26T13:49:10.189Z"
   },
   {
    "duration": 122,
    "start_time": "2024-12-26T13:49:10.232Z"
   },
   {
    "duration": 11,
    "start_time": "2024-12-26T13:49:10.355Z"
   },
   {
    "duration": 35,
    "start_time": "2024-12-26T13:49:10.368Z"
   },
   {
    "duration": 65,
    "start_time": "2024-12-26T13:49:10.405Z"
   },
   {
    "duration": 1717,
    "start_time": "2024-12-26T13:49:10.472Z"
   },
   {
    "duration": 114,
    "start_time": "2024-12-26T13:49:12.191Z"
   },
   {
    "duration": 3,
    "start_time": "2024-12-26T13:49:12.306Z"
   },
   {
    "duration": 30,
    "start_time": "2024-12-26T13:55:34.739Z"
   },
   {
    "duration": 52,
    "start_time": "2024-12-26T13:57:19.896Z"
   },
   {
    "duration": 51,
    "start_time": "2024-12-26T13:57:45.212Z"
   },
   {
    "duration": 47,
    "start_time": "2024-12-26T13:59:51.677Z"
   },
   {
    "duration": 51,
    "start_time": "2024-12-26T14:00:12.081Z"
   },
   {
    "duration": 175,
    "start_time": "2024-12-26T14:04:35.948Z"
   },
   {
    "duration": 49,
    "start_time": "2024-12-26T14:04:44.954Z"
   },
   {
    "duration": 90,
    "start_time": "2024-12-26T14:17:03.072Z"
   },
   {
    "duration": 57,
    "start_time": "2024-12-26T14:20:33.293Z"
   },
   {
    "duration": 52,
    "start_time": "2024-12-26T14:21:06.617Z"
   },
   {
    "duration": 52,
    "start_time": "2024-12-26T14:21:59.721Z"
   },
   {
    "duration": 52,
    "start_time": "2024-12-26T14:22:18.690Z"
   },
   {
    "duration": 53,
    "start_time": "2024-12-26T14:22:25.023Z"
   },
   {
    "duration": 51,
    "start_time": "2024-12-26T14:22:35.008Z"
   },
   {
    "duration": 102,
    "start_time": "2024-12-26T14:22:47.186Z"
   },
   {
    "duration": 50,
    "start_time": "2024-12-26T14:22:52.531Z"
   },
   {
    "duration": 51,
    "start_time": "2024-12-26T14:23:07.620Z"
   },
   {
    "duration": 51,
    "start_time": "2024-12-26T14:23:12.670Z"
   },
   {
    "duration": 53,
    "start_time": "2024-12-26T14:23:33.272Z"
   },
   {
    "duration": 53,
    "start_time": "2024-12-26T14:24:00.101Z"
   },
   {
    "duration": 51,
    "start_time": "2024-12-26T14:24:34.678Z"
   },
   {
    "duration": 53,
    "start_time": "2024-12-26T14:25:00.272Z"
   },
   {
    "duration": 63,
    "start_time": "2024-12-26T14:30:01.953Z"
   },
   {
    "duration": 49,
    "start_time": "2024-12-26T14:32:32.886Z"
   },
   {
    "duration": 51,
    "start_time": "2024-12-26T14:33:37.813Z"
   },
   {
    "duration": 51,
    "start_time": "2024-12-26T14:33:54.435Z"
   },
   {
    "duration": 52,
    "start_time": "2024-12-26T14:34:15.488Z"
   },
   {
    "duration": 50,
    "start_time": "2024-12-26T14:34:34.224Z"
   },
   {
    "duration": 52,
    "start_time": "2024-12-26T14:34:48.682Z"
   },
   {
    "duration": 1170,
    "start_time": "2024-12-26T14:43:40.455Z"
   },
   {
    "duration": 4,
    "start_time": "2024-12-26T14:43:41.626Z"
   },
   {
    "duration": 16,
    "start_time": "2024-12-26T14:43:41.631Z"
   },
   {
    "duration": 5,
    "start_time": "2024-12-26T14:43:41.648Z"
   },
   {
    "duration": 8,
    "start_time": "2024-12-26T14:43:41.655Z"
   },
   {
    "duration": 18,
    "start_time": "2024-12-26T14:43:41.665Z"
   },
   {
    "duration": 29,
    "start_time": "2024-12-26T14:43:41.684Z"
   },
   {
    "duration": 188,
    "start_time": "2024-12-26T14:43:41.715Z"
   },
   {
    "duration": 312,
    "start_time": "2024-12-26T14:43:41.904Z"
   },
   {
    "duration": 17,
    "start_time": "2024-12-26T14:43:42.219Z"
   },
   {
    "duration": 218,
    "start_time": "2024-12-26T14:43:42.237Z"
   },
   {
    "duration": 58,
    "start_time": "2024-12-26T14:43:42.456Z"
   },
   {
    "duration": 71,
    "start_time": "2024-12-26T14:43:42.516Z"
   },
   {
    "duration": 95,
    "start_time": "2024-12-26T14:43:42.588Z"
   },
   {
    "duration": 14,
    "start_time": "2024-12-26T14:43:42.684Z"
   },
   {
    "duration": 33,
    "start_time": "2024-12-26T14:43:42.699Z"
   },
   {
    "duration": 433,
    "start_time": "2024-12-26T14:43:42.734Z"
   },
   {
    "duration": 32,
    "start_time": "2024-12-26T14:43:43.168Z"
   },
   {
    "duration": 457,
    "start_time": "2024-12-26T14:43:43.202Z"
   },
   {
    "duration": 44,
    "start_time": "2024-12-26T14:43:43.660Z"
   },
   {
    "duration": 3,
    "start_time": "2024-12-26T14:43:43.706Z"
   },
   {
    "duration": 23,
    "start_time": "2024-12-26T14:43:43.731Z"
   },
   {
    "duration": 95,
    "start_time": "2024-12-26T14:43:43.756Z"
   },
   {
    "duration": 19,
    "start_time": "2024-12-26T14:43:43.853Z"
   },
   {
    "duration": 46,
    "start_time": "2024-12-26T14:43:43.874Z"
   },
   {
    "duration": 130,
    "start_time": "2024-12-26T14:43:43.921Z"
   },
   {
    "duration": 152,
    "start_time": "2024-12-26T14:43:44.053Z"
   },
   {
    "duration": 132,
    "start_time": "2024-12-26T14:43:44.208Z"
   },
   {
    "duration": 11,
    "start_time": "2024-12-26T14:43:44.342Z"
   },
   {
    "duration": 144,
    "start_time": "2024-12-26T14:43:44.354Z"
   },
   {
    "duration": 45,
    "start_time": "2024-12-26T14:43:44.500Z"
   },
   {
    "duration": 160,
    "start_time": "2024-12-26T14:43:44.547Z"
   },
   {
    "duration": 11,
    "start_time": "2024-12-26T14:43:44.709Z"
   },
   {
    "duration": 34,
    "start_time": "2024-12-26T14:43:44.730Z"
   },
   {
    "duration": 42,
    "start_time": "2024-12-26T14:43:44.765Z"
   },
   {
    "duration": 1817,
    "start_time": "2024-12-26T14:43:44.809Z"
   },
   {
    "duration": 116,
    "start_time": "2024-12-26T14:43:46.627Z"
   },
   {
    "duration": 52,
    "start_time": "2024-12-26T14:43:46.745Z"
   },
   {
    "duration": 2,
    "start_time": "2024-12-26T14:43:46.799Z"
   },
   {
    "duration": 1177,
    "start_time": "2024-12-26T14:45:23.454Z"
   },
   {
    "duration": 5,
    "start_time": "2024-12-26T14:45:24.633Z"
   },
   {
    "duration": 10,
    "start_time": "2024-12-26T14:45:24.639Z"
   },
   {
    "duration": 16,
    "start_time": "2024-12-26T14:45:24.651Z"
   },
   {
    "duration": 14,
    "start_time": "2024-12-26T14:45:24.668Z"
   },
   {
    "duration": 6,
    "start_time": "2024-12-26T14:45:24.684Z"
   },
   {
    "duration": 14,
    "start_time": "2024-12-26T14:45:24.692Z"
   },
   {
    "duration": 187,
    "start_time": "2024-12-26T14:45:24.708Z"
   },
   {
    "duration": 284,
    "start_time": "2024-12-26T14:45:24.897Z"
   },
   {
    "duration": 8,
    "start_time": "2024-12-26T14:45:25.183Z"
   },
   {
    "duration": 147,
    "start_time": "2024-12-26T14:45:25.192Z"
   },
   {
    "duration": 56,
    "start_time": "2024-12-26T14:45:25.341Z"
   },
   {
    "duration": 34,
    "start_time": "2024-12-26T14:45:25.399Z"
   },
   {
    "duration": 96,
    "start_time": "2024-12-26T14:45:25.435Z"
   },
   {
    "duration": 14,
    "start_time": "2024-12-26T14:45:25.533Z"
   },
   {
    "duration": 22,
    "start_time": "2024-12-26T14:45:25.548Z"
   },
   {
    "duration": 531,
    "start_time": "2024-12-26T14:45:25.572Z"
   },
   {
    "duration": 32,
    "start_time": "2024-12-26T14:45:26.105Z"
   },
   {
    "duration": 451,
    "start_time": "2024-12-26T14:45:26.139Z"
   },
   {
    "duration": 52,
    "start_time": "2024-12-26T14:45:26.592Z"
   },
   {
    "duration": 5,
    "start_time": "2024-12-26T14:45:26.645Z"
   },
   {
    "duration": 24,
    "start_time": "2024-12-26T14:45:26.651Z"
   },
   {
    "duration": 106,
    "start_time": "2024-12-26T14:45:26.677Z"
   },
   {
    "duration": 19,
    "start_time": "2024-12-26T14:45:26.784Z"
   },
   {
    "duration": 42,
    "start_time": "2024-12-26T14:45:26.805Z"
   },
   {
    "duration": 126,
    "start_time": "2024-12-26T14:45:26.849Z"
   },
   {
    "duration": 159,
    "start_time": "2024-12-26T14:45:26.977Z"
   },
   {
    "duration": 116,
    "start_time": "2024-12-26T14:45:27.140Z"
   },
   {
    "duration": 11,
    "start_time": "2024-12-26T14:45:27.259Z"
   },
   {
    "duration": 155,
    "start_time": "2024-12-26T14:45:27.272Z"
   },
   {
    "duration": 38,
    "start_time": "2024-12-26T14:45:27.430Z"
   },
   {
    "duration": 138,
    "start_time": "2024-12-26T14:45:27.470Z"
   },
   {
    "duration": 20,
    "start_time": "2024-12-26T14:45:27.610Z"
   },
   {
    "duration": 31,
    "start_time": "2024-12-26T14:45:27.631Z"
   },
   {
    "duration": 41,
    "start_time": "2024-12-26T14:45:27.664Z"
   },
   {
    "duration": 1680,
    "start_time": "2024-12-26T14:45:27.706Z"
   },
   {
    "duration": 115,
    "start_time": "2024-12-26T14:45:29.387Z"
   },
   {
    "duration": 69,
    "start_time": "2024-12-26T14:45:29.504Z"
   },
   {
    "duration": 2,
    "start_time": "2024-12-26T14:45:29.575Z"
   },
   {
    "duration": 102,
    "start_time": "2024-12-26T14:57:55.129Z"
   },
   {
    "duration": 90,
    "start_time": "2024-12-26T16:17:32.837Z"
   },
   {
    "duration": 91,
    "start_time": "2024-12-26T16:18:42.422Z"
   },
   {
    "duration": 123,
    "start_time": "2024-12-26T16:22:22.135Z"
   },
   {
    "duration": 262,
    "start_time": "2024-12-26T16:22:57.229Z"
   },
   {
    "duration": 52,
    "start_time": "2024-12-26T16:24:16.342Z"
   },
   {
    "duration": 65,
    "start_time": "2024-12-26T16:27:00.067Z"
   },
   {
    "duration": 57,
    "start_time": "2024-12-26T16:27:06.065Z"
   },
   {
    "duration": 101,
    "start_time": "2024-12-26T16:28:10.835Z"
   },
   {
    "duration": 50,
    "start_time": "2024-12-26T16:28:11.797Z"
   },
   {
    "duration": 89,
    "start_time": "2024-12-26T16:30:10.594Z"
   },
   {
    "duration": 105,
    "start_time": "2024-12-26T16:35:58.729Z"
   },
   {
    "duration": 94,
    "start_time": "2024-12-26T16:36:32.304Z"
   },
   {
    "duration": 65,
    "start_time": "2024-12-26T16:42:52.576Z"
   },
   {
    "duration": 75,
    "start_time": "2024-12-26T16:43:04.104Z"
   },
   {
    "duration": 80,
    "start_time": "2024-12-26T16:45:58.783Z"
   },
   {
    "duration": 70,
    "start_time": "2024-12-26T16:46:39.023Z"
   },
   {
    "duration": 73,
    "start_time": "2024-12-26T16:47:23.323Z"
   },
   {
    "duration": 1173,
    "start_time": "2024-12-26T17:05:06.465Z"
   },
   {
    "duration": 4,
    "start_time": "2024-12-26T17:05:07.640Z"
   },
   {
    "duration": 22,
    "start_time": "2024-12-26T17:05:07.646Z"
   },
   {
    "duration": 22,
    "start_time": "2024-12-26T17:05:07.670Z"
   },
   {
    "duration": 32,
    "start_time": "2024-12-26T17:05:07.694Z"
   },
   {
    "duration": 32,
    "start_time": "2024-12-26T17:05:07.728Z"
   },
   {
    "duration": 14,
    "start_time": "2024-12-26T17:05:07.762Z"
   },
   {
    "duration": 196,
    "start_time": "2024-12-26T17:05:07.778Z"
   },
   {
    "duration": 290,
    "start_time": "2024-12-26T17:05:07.976Z"
   },
   {
    "duration": 8,
    "start_time": "2024-12-26T17:05:08.268Z"
   },
   {
    "duration": 152,
    "start_time": "2024-12-26T17:05:08.278Z"
   },
   {
    "duration": 61,
    "start_time": "2024-12-26T17:05:08.431Z"
   },
   {
    "duration": 18,
    "start_time": "2024-12-26T17:05:08.493Z"
   },
   {
    "duration": 86,
    "start_time": "2024-12-26T17:05:08.531Z"
   },
   {
    "duration": 25,
    "start_time": "2024-12-26T17:05:08.618Z"
   },
   {
    "duration": 48,
    "start_time": "2024-12-26T17:05:08.645Z"
   },
   {
    "duration": 472,
    "start_time": "2024-12-26T17:05:08.695Z"
   },
   {
    "duration": 33,
    "start_time": "2024-12-26T17:05:09.169Z"
   },
   {
    "duration": 527,
    "start_time": "2024-12-26T17:05:09.203Z"
   },
   {
    "duration": 46,
    "start_time": "2024-12-26T17:05:09.732Z"
   },
   {
    "duration": 4,
    "start_time": "2024-12-26T17:05:09.780Z"
   },
   {
    "duration": 44,
    "start_time": "2024-12-26T17:05:09.786Z"
   },
   {
    "duration": 98,
    "start_time": "2024-12-26T17:05:09.832Z"
   },
   {
    "duration": 20,
    "start_time": "2024-12-26T17:05:09.932Z"
   },
   {
    "duration": 30,
    "start_time": "2024-12-26T17:05:09.953Z"
   },
   {
    "duration": 151,
    "start_time": "2024-12-26T17:05:09.985Z"
   },
   {
    "duration": 135,
    "start_time": "2024-12-26T17:05:10.138Z"
   },
   {
    "duration": 157,
    "start_time": "2024-12-26T17:05:10.276Z"
   },
   {
    "duration": 11,
    "start_time": "2024-12-26T17:05:10.435Z"
   },
   {
    "duration": 119,
    "start_time": "2024-12-26T17:05:10.448Z"
   },
   {
    "duration": 37,
    "start_time": "2024-12-26T17:05:10.568Z"
   },
   {
    "duration": 134,
    "start_time": "2024-12-26T17:05:10.607Z"
   },
   {
    "duration": 9,
    "start_time": "2024-12-26T17:05:10.743Z"
   },
   {
    "duration": 33,
    "start_time": "2024-12-26T17:05:10.754Z"
   },
   {
    "duration": 64,
    "start_time": "2024-12-26T17:05:10.789Z"
   },
   {
    "duration": 1759,
    "start_time": "2024-12-26T17:05:10.855Z"
   },
   {
    "duration": 120,
    "start_time": "2024-12-26T17:05:12.616Z"
   },
   {
    "duration": 55,
    "start_time": "2024-12-26T17:05:12.738Z"
   },
   {
    "duration": 109,
    "start_time": "2024-12-26T17:05:12.795Z"
   },
   {
    "duration": 102,
    "start_time": "2024-12-26T17:05:12.906Z"
   },
   {
    "duration": 394,
    "start_time": "2024-12-26T17:05:13.009Z"
   },
   {
    "duration": 80,
    "start_time": "2024-12-26T17:05:13.405Z"
   },
   {
    "duration": 9,
    "start_time": "2024-12-26T18:07:49.823Z"
   },
   {
    "duration": 8,
    "start_time": "2024-12-26T18:08:18.149Z"
   },
   {
    "duration": 30,
    "start_time": "2024-12-26T18:08:55.144Z"
   },
   {
    "duration": 121,
    "start_time": "2024-12-26T18:09:59.701Z"
   },
   {
    "duration": 22,
    "start_time": "2024-12-26T18:10:25.354Z"
   },
   {
    "duration": 30,
    "start_time": "2024-12-26T18:11:14.423Z"
   },
   {
    "duration": 97,
    "start_time": "2024-12-26T18:11:30.082Z"
   },
   {
    "duration": 31,
    "start_time": "2024-12-26T18:11:37.210Z"
   },
   {
    "duration": 16,
    "start_time": "2024-12-26T18:12:30.316Z"
   },
   {
    "duration": 77,
    "start_time": "2024-12-26T18:16:26.727Z"
   },
   {
    "duration": 34,
    "start_time": "2024-12-26T18:16:30.495Z"
   },
   {
    "duration": 3,
    "start_time": "2024-12-26T18:16:32.303Z"
   },
   {
    "duration": 20,
    "start_time": "2024-12-26T18:16:34.031Z"
   },
   {
    "duration": 10,
    "start_time": "2024-12-26T18:17:24.287Z"
   },
   {
    "duration": 108,
    "start_time": "2024-12-26T18:18:00.203Z"
   },
   {
    "duration": 1211,
    "start_time": "2024-12-26T18:18:15.666Z"
   },
   {
    "duration": 4,
    "start_time": "2024-12-26T18:18:16.879Z"
   },
   {
    "duration": 23,
    "start_time": "2024-12-26T18:18:16.884Z"
   },
   {
    "duration": 10,
    "start_time": "2024-12-26T18:18:16.909Z"
   },
   {
    "duration": 15,
    "start_time": "2024-12-26T18:18:16.920Z"
   },
   {
    "duration": 7,
    "start_time": "2024-12-26T18:18:16.936Z"
   },
   {
    "duration": 7,
    "start_time": "2024-12-26T18:18:16.944Z"
   },
   {
    "duration": 188,
    "start_time": "2024-12-26T18:18:16.953Z"
   },
   {
    "duration": 293,
    "start_time": "2024-12-26T18:18:17.142Z"
   },
   {
    "duration": 8,
    "start_time": "2024-12-26T18:18:17.438Z"
   },
   {
    "duration": 174,
    "start_time": "2024-12-26T18:18:17.447Z"
   },
   {
    "duration": 60,
    "start_time": "2024-12-26T18:18:17.622Z"
   },
   {
    "duration": 18,
    "start_time": "2024-12-26T18:18:17.684Z"
   },
   {
    "duration": 101,
    "start_time": "2024-12-26T18:18:17.703Z"
   },
   {
    "duration": 14,
    "start_time": "2024-12-26T18:18:17.806Z"
   },
   {
    "duration": 23,
    "start_time": "2024-12-26T18:18:17.830Z"
   },
   {
    "duration": 436,
    "start_time": "2024-12-26T18:18:17.855Z"
   },
   {
    "duration": 33,
    "start_time": "2024-12-26T18:18:18.292Z"
   },
   {
    "duration": 461,
    "start_time": "2024-12-26T18:18:18.327Z"
   },
   {
    "duration": 53,
    "start_time": "2024-12-26T18:18:18.790Z"
   },
   {
    "duration": 4,
    "start_time": "2024-12-26T18:18:18.845Z"
   },
   {
    "duration": 27,
    "start_time": "2024-12-26T18:18:18.850Z"
   },
   {
    "duration": 11,
    "start_time": "2024-12-26T18:18:18.879Z"
   },
   {
    "duration": 114,
    "start_time": "2024-12-26T18:18:18.892Z"
   },
   {
    "duration": 27,
    "start_time": "2024-12-26T18:18:19.008Z"
   },
   {
    "duration": 44,
    "start_time": "2024-12-26T18:18:19.037Z"
   },
   {
    "duration": 129,
    "start_time": "2024-12-26T18:18:19.082Z"
   },
   {
    "duration": 138,
    "start_time": "2024-12-26T18:18:19.214Z"
   },
   {
    "duration": 115,
    "start_time": "2024-12-26T18:18:19.354Z"
   },
   {
    "duration": 47,
    "start_time": "2024-12-26T18:18:19.471Z"
   },
   {
    "duration": 117,
    "start_time": "2024-12-26T18:18:19.529Z"
   },
   {
    "duration": 38,
    "start_time": "2024-12-26T18:18:19.647Z"
   },
   {
    "duration": 127,
    "start_time": "2024-12-26T18:18:19.687Z"
   },
   {
    "duration": 18,
    "start_time": "2024-12-26T18:18:19.816Z"
   },
   {
    "duration": 34,
    "start_time": "2024-12-26T18:18:19.835Z"
   },
   {
    "duration": 62,
    "start_time": "2024-12-26T18:18:19.871Z"
   },
   {
    "duration": 1744,
    "start_time": "2024-12-26T18:18:19.935Z"
   },
   {
    "duration": 127,
    "start_time": "2024-12-26T18:18:21.681Z"
   },
   {
    "duration": 57,
    "start_time": "2024-12-26T18:18:21.810Z"
   },
   {
    "duration": 119,
    "start_time": "2024-12-26T18:18:21.870Z"
   },
   {
    "duration": 112,
    "start_time": "2024-12-26T18:18:21.991Z"
   },
   {
    "duration": 254,
    "start_time": "2024-12-26T18:18:22.105Z"
   },
   {
    "duration": 80,
    "start_time": "2024-12-26T18:18:22.361Z"
   },
   {
    "duration": 25,
    "start_time": "2024-12-26T18:20:45.957Z"
   },
   {
    "duration": 1167,
    "start_time": "2024-12-26T18:21:00.849Z"
   },
   {
    "duration": 4,
    "start_time": "2024-12-26T18:21:02.018Z"
   },
   {
    "duration": 26,
    "start_time": "2024-12-26T18:21:02.032Z"
   },
   {
    "duration": 13,
    "start_time": "2024-12-26T18:21:02.060Z"
   },
   {
    "duration": 32,
    "start_time": "2024-12-26T18:21:02.077Z"
   },
   {
    "duration": 26,
    "start_time": "2024-12-26T18:21:02.110Z"
   },
   {
    "duration": 21,
    "start_time": "2024-12-26T18:21:02.138Z"
   },
   {
    "duration": 201,
    "start_time": "2024-12-26T18:21:02.161Z"
   },
   {
    "duration": 285,
    "start_time": "2024-12-26T18:21:02.364Z"
   },
   {
    "duration": 7,
    "start_time": "2024-12-26T18:21:02.652Z"
   },
   {
    "duration": 150,
    "start_time": "2024-12-26T18:21:02.661Z"
   },
   {
    "duration": 63,
    "start_time": "2024-12-26T18:21:02.813Z"
   },
   {
    "duration": 19,
    "start_time": "2024-12-26T18:21:02.878Z"
   },
   {
    "duration": 118,
    "start_time": "2024-12-26T18:21:02.898Z"
   },
   {
    "duration": 17,
    "start_time": "2024-12-26T18:21:03.018Z"
   },
   {
    "duration": 24,
    "start_time": "2024-12-26T18:21:03.037Z"
   },
   {
    "duration": 429,
    "start_time": "2024-12-26T18:21:03.062Z"
   },
   {
    "duration": 33,
    "start_time": "2024-12-26T18:21:03.492Z"
   },
   {
    "duration": 481,
    "start_time": "2024-12-26T18:21:03.527Z"
   },
   {
    "duration": 53,
    "start_time": "2024-12-26T18:21:04.010Z"
   },
   {
    "duration": 4,
    "start_time": "2024-12-26T18:21:04.065Z"
   },
   {
    "duration": 35,
    "start_time": "2024-12-26T18:21:04.071Z"
   },
   {
    "duration": 100,
    "start_time": "2024-12-26T18:21:04.108Z"
   },
   {
    "duration": 28,
    "start_time": "2024-12-26T18:21:04.210Z"
   },
   {
    "duration": 30,
    "start_time": "2024-12-26T18:21:04.239Z"
   },
   {
    "duration": 147,
    "start_time": "2024-12-26T18:21:04.271Z"
   },
   {
    "duration": 140,
    "start_time": "2024-12-26T18:21:04.420Z"
   },
   {
    "duration": 116,
    "start_time": "2024-12-26T18:21:04.563Z"
   },
   {
    "duration": 56,
    "start_time": "2024-12-26T18:21:04.680Z"
   },
   {
    "duration": 130,
    "start_time": "2024-12-26T18:21:04.738Z"
   },
   {
    "duration": 39,
    "start_time": "2024-12-26T18:21:04.871Z"
   },
   {
    "duration": 137,
    "start_time": "2024-12-26T18:21:04.912Z"
   },
   {
    "duration": 10,
    "start_time": "2024-12-26T18:21:05.051Z"
   },
   {
    "duration": 34,
    "start_time": "2024-12-26T18:21:05.063Z"
   },
   {
    "duration": 68,
    "start_time": "2024-12-26T18:21:05.099Z"
   },
   {
    "duration": 1750,
    "start_time": "2024-12-26T18:21:05.168Z"
   },
   {
    "duration": 124,
    "start_time": "2024-12-26T18:21:06.920Z"
   },
   {
    "duration": 54,
    "start_time": "2024-12-26T18:21:07.046Z"
   },
   {
    "duration": 110,
    "start_time": "2024-12-26T18:21:07.101Z"
   },
   {
    "duration": 101,
    "start_time": "2024-12-26T18:21:07.214Z"
   },
   {
    "duration": 273,
    "start_time": "2024-12-26T18:21:07.317Z"
   },
   {
    "duration": 82,
    "start_time": "2024-12-26T18:21:07.592Z"
   },
   {
    "duration": 93,
    "start_time": "2024-12-26T18:55:18.126Z"
   },
   {
    "duration": 95,
    "start_time": "2024-12-26T18:55:28.183Z"
   },
   {
    "duration": 240,
    "start_time": "2024-12-26T18:55:32.351Z"
   },
   {
    "duration": 1138,
    "start_time": "2024-12-26T20:57:12.145Z"
   },
   {
    "duration": 3,
    "start_time": "2024-12-26T20:57:13.285Z"
   },
   {
    "duration": 24,
    "start_time": "2024-12-26T20:57:13.290Z"
   },
   {
    "duration": 11,
    "start_time": "2024-12-26T20:57:13.316Z"
   },
   {
    "duration": 10,
    "start_time": "2024-12-26T20:57:13.328Z"
   },
   {
    "duration": 11,
    "start_time": "2024-12-26T20:57:13.339Z"
   },
   {
    "duration": 16,
    "start_time": "2024-12-26T20:57:13.352Z"
   },
   {
    "duration": 200,
    "start_time": "2024-12-26T20:57:13.369Z"
   },
   {
    "duration": 285,
    "start_time": "2024-12-26T20:57:13.571Z"
   },
   {
    "duration": 7,
    "start_time": "2024-12-26T20:57:13.859Z"
   },
   {
    "duration": 199,
    "start_time": "2024-12-26T20:57:13.869Z"
   },
   {
    "duration": 64,
    "start_time": "2024-12-26T20:57:14.070Z"
   },
   {
    "duration": 74,
    "start_time": "2024-12-26T20:57:14.135Z"
   },
   {
    "duration": 87,
    "start_time": "2024-12-26T20:57:14.210Z"
   },
   {
    "duration": 15,
    "start_time": "2024-12-26T20:57:14.298Z"
   },
   {
    "duration": 34,
    "start_time": "2024-12-26T20:57:14.314Z"
   },
   {
    "duration": 429,
    "start_time": "2024-12-26T20:57:14.350Z"
   },
   {
    "duration": 33,
    "start_time": "2024-12-26T20:57:14.780Z"
   },
   {
    "duration": 504,
    "start_time": "2024-12-26T20:57:14.814Z"
   },
   {
    "duration": 52,
    "start_time": "2024-12-26T20:57:15.320Z"
   },
   {
    "duration": 4,
    "start_time": "2024-12-26T20:57:15.374Z"
   },
   {
    "duration": 30,
    "start_time": "2024-12-26T20:57:15.380Z"
   },
   {
    "duration": 87,
    "start_time": "2024-12-26T20:57:15.429Z"
   },
   {
    "duration": 28,
    "start_time": "2024-12-26T20:57:15.518Z"
   },
   {
    "duration": 30,
    "start_time": "2024-12-26T20:57:15.547Z"
   },
   {
    "duration": 138,
    "start_time": "2024-12-26T20:57:15.579Z"
   },
   {
    "duration": 136,
    "start_time": "2024-12-26T20:57:15.719Z"
   },
   {
    "duration": 111,
    "start_time": "2024-12-26T20:57:15.859Z"
   },
   {
    "duration": 65,
    "start_time": "2024-12-26T20:57:15.972Z"
   },
   {
    "duration": 256,
    "start_time": "2024-12-26T20:57:16.039Z"
   },
   {
    "duration": 46,
    "start_time": "2024-12-26T20:57:16.297Z"
   },
   {
    "duration": 124,
    "start_time": "2024-12-26T20:57:16.345Z"
   },
   {
    "duration": 11,
    "start_time": "2024-12-26T20:57:16.470Z"
   },
   {
    "duration": 48,
    "start_time": "2024-12-26T20:57:16.482Z"
   },
   {
    "duration": 41,
    "start_time": "2024-12-26T20:57:16.531Z"
   },
   {
    "duration": 1681,
    "start_time": "2024-12-26T20:57:16.573Z"
   },
   {
    "duration": 119,
    "start_time": "2024-12-26T20:57:18.256Z"
   },
   {
    "duration": 61,
    "start_time": "2024-12-26T20:57:18.377Z"
   },
   {
    "duration": 108,
    "start_time": "2024-12-26T20:57:18.440Z"
   },
   {
    "duration": 105,
    "start_time": "2024-12-26T20:57:18.550Z"
   },
   {
    "duration": 272,
    "start_time": "2024-12-26T20:57:18.657Z"
   },
   {
    "duration": 77,
    "start_time": "2024-12-26T20:57:18.931Z"
   },
   {
    "duration": 127,
    "start_time": "2024-12-26T21:32:10.127Z"
   },
   {
    "duration": 1154,
    "start_time": "2024-12-26T21:32:49.534Z"
   },
   {
    "duration": 4,
    "start_time": "2024-12-26T21:32:50.689Z"
   },
   {
    "duration": 16,
    "start_time": "2024-12-26T21:32:50.695Z"
   },
   {
    "duration": 14,
    "start_time": "2024-12-26T21:32:50.713Z"
   },
   {
    "duration": 5,
    "start_time": "2024-12-26T21:32:50.729Z"
   },
   {
    "duration": 29,
    "start_time": "2024-12-26T21:32:50.736Z"
   },
   {
    "duration": 13,
    "start_time": "2024-12-26T21:32:50.767Z"
   },
   {
    "duration": 214,
    "start_time": "2024-12-26T21:32:50.781Z"
   },
   {
    "duration": 283,
    "start_time": "2024-12-26T21:32:50.997Z"
   },
   {
    "duration": 7,
    "start_time": "2024-12-26T21:32:51.283Z"
   },
   {
    "duration": 147,
    "start_time": "2024-12-26T21:32:51.292Z"
   },
   {
    "duration": 58,
    "start_time": "2024-12-26T21:32:51.440Z"
   },
   {
    "duration": 34,
    "start_time": "2024-12-26T21:32:51.500Z"
   },
   {
    "duration": 83,
    "start_time": "2024-12-26T21:32:51.536Z"
   },
   {
    "duration": 14,
    "start_time": "2024-12-26T21:32:51.629Z"
   },
   {
    "duration": 28,
    "start_time": "2024-12-26T21:32:51.645Z"
   },
   {
    "duration": 500,
    "start_time": "2024-12-26T21:32:51.675Z"
   },
   {
    "duration": 34,
    "start_time": "2024-12-26T21:32:52.177Z"
   },
   {
    "duration": 596,
    "start_time": "2024-12-26T21:32:52.213Z"
   },
   {
    "duration": 52,
    "start_time": "2024-12-26T21:32:52.812Z"
   },
   {
    "duration": 3,
    "start_time": "2024-12-26T21:32:52.867Z"
   },
   {
    "duration": 50,
    "start_time": "2024-12-26T21:32:52.872Z"
   },
   {
    "duration": 88,
    "start_time": "2024-12-26T21:32:52.924Z"
   },
   {
    "duration": 31,
    "start_time": "2024-12-26T21:32:53.014Z"
   },
   {
    "duration": 33,
    "start_time": "2024-12-26T21:32:53.047Z"
   },
   {
    "duration": 150,
    "start_time": "2024-12-26T21:32:53.082Z"
   },
   {
    "duration": 137,
    "start_time": "2024-12-26T21:32:53.234Z"
   },
   {
    "duration": 185,
    "start_time": "2024-12-26T21:32:53.376Z"
   },
   {
    "duration": 16,
    "start_time": "2024-12-26T21:32:53.563Z"
   },
   {
    "duration": 152,
    "start_time": "2024-12-26T21:32:53.581Z"
   },
   {
    "duration": 41,
    "start_time": "2024-12-26T21:32:53.734Z"
   },
   {
    "duration": 145,
    "start_time": "2024-12-26T21:32:53.777Z"
   },
   {
    "duration": 13,
    "start_time": "2024-12-26T21:32:53.924Z"
   },
   {
    "duration": 133,
    "start_time": "2024-12-26T21:32:53.939Z"
   },
   {
    "duration": 42,
    "start_time": "2024-12-26T21:32:54.073Z"
   },
   {
    "duration": 1678,
    "start_time": "2024-12-26T21:32:54.116Z"
   },
   {
    "duration": 118,
    "start_time": "2024-12-26T21:32:55.795Z"
   },
   {
    "duration": 65,
    "start_time": "2024-12-26T21:32:55.915Z"
   },
   {
    "duration": 144,
    "start_time": "2024-12-26T21:32:55.982Z"
   },
   {
    "duration": 91,
    "start_time": "2024-12-26T21:32:56.127Z"
   },
   {
    "duration": 256,
    "start_time": "2024-12-26T21:32:56.231Z"
   },
   {
    "duration": 87,
    "start_time": "2024-12-26T21:32:56.489Z"
   },
   {
    "duration": 95,
    "start_time": "2024-12-26T21:32:56.578Z"
   },
   {
    "duration": 93,
    "start_time": "2024-12-26T21:34:40.679Z"
   },
   {
    "duration": 87,
    "start_time": "2024-12-26T21:34:58.488Z"
   },
   {
    "duration": 94,
    "start_time": "2024-12-26T21:35:09.779Z"
   },
   {
    "duration": 91,
    "start_time": "2024-12-26T21:38:30.131Z"
   },
   {
    "duration": 92,
    "start_time": "2024-12-26T21:41:23.406Z"
   },
   {
    "duration": 91,
    "start_time": "2024-12-26T21:41:54.990Z"
   },
   {
    "duration": 86,
    "start_time": "2024-12-26T21:42:02.271Z"
   },
   {
    "duration": 88,
    "start_time": "2024-12-26T21:42:12.792Z"
   },
   {
    "duration": 266,
    "start_time": "2024-12-26T21:42:43.091Z"
   },
   {
    "duration": 250,
    "start_time": "2024-12-26T21:44:26.763Z"
   },
   {
    "duration": 247,
    "start_time": "2024-12-26T21:44:34.060Z"
   },
   {
    "duration": 256,
    "start_time": "2024-12-26T21:48:54.748Z"
   },
   {
    "duration": 266,
    "start_time": "2024-12-26T21:49:15.942Z"
   },
   {
    "duration": 260,
    "start_time": "2024-12-26T21:49:33.183Z"
   },
   {
    "duration": 256,
    "start_time": "2024-12-26T21:49:43.092Z"
   },
   {
    "duration": 266,
    "start_time": "2024-12-26T21:50:00.620Z"
   },
   {
    "duration": 244,
    "start_time": "2024-12-26T21:52:50.694Z"
   },
   {
    "duration": 255,
    "start_time": "2024-12-26T21:53:03.497Z"
   },
   {
    "duration": 261,
    "start_time": "2024-12-26T21:53:15.309Z"
   },
   {
    "duration": 245,
    "start_time": "2024-12-26T21:53:34.103Z"
   },
   {
    "duration": 92,
    "start_time": "2024-12-26T21:55:34.692Z"
   },
   {
    "duration": 89,
    "start_time": "2024-12-26T21:55:48.823Z"
   },
   {
    "duration": 89,
    "start_time": "2024-12-26T21:59:46.101Z"
   },
   {
    "duration": 85,
    "start_time": "2024-12-26T21:59:54.354Z"
   },
   {
    "duration": 90,
    "start_time": "2024-12-26T22:03:24.184Z"
   },
   {
    "duration": 94,
    "start_time": "2024-12-26T22:04:07.254Z"
   },
   {
    "duration": 248,
    "start_time": "2024-12-26T22:05:41.281Z"
   },
   {
    "duration": 88,
    "start_time": "2024-12-26T22:08:06.775Z"
   },
   {
    "duration": 82,
    "start_time": "2024-12-26T23:32:42.339Z"
   },
   {
    "duration": 107,
    "start_time": "2024-12-26T23:32:47.952Z"
   },
   {
    "duration": 11,
    "start_time": "2024-12-26T23:33:07.147Z"
   },
   {
    "duration": 18,
    "start_time": "2024-12-26T23:33:18.598Z"
   },
   {
    "duration": 16,
    "start_time": "2024-12-26T23:33:25.405Z"
   },
   {
    "duration": 11,
    "start_time": "2024-12-26T23:33:50.591Z"
   },
   {
    "duration": 20,
    "start_time": "2024-12-26T23:34:02.718Z"
   },
   {
    "duration": 11,
    "start_time": "2024-12-26T23:34:14.832Z"
   },
   {
    "duration": 18,
    "start_time": "2024-12-26T23:34:21.388Z"
   },
   {
    "duration": 82,
    "start_time": "2024-12-26T23:35:33.694Z"
   },
   {
    "duration": 19,
    "start_time": "2024-12-26T23:35:38.845Z"
   },
   {
    "duration": 19,
    "start_time": "2024-12-26T23:35:50.921Z"
   },
   {
    "duration": 733,
    "start_time": "2024-12-26T23:37:52.405Z"
   },
   {
    "duration": 17,
    "start_time": "2024-12-26T23:39:31.097Z"
   },
   {
    "duration": 19,
    "start_time": "2024-12-26T23:42:19.635Z"
   },
   {
    "duration": 39,
    "start_time": "2024-12-26T23:51:39.342Z"
   },
   {
    "duration": 4,
    "start_time": "2024-12-26T23:52:04.190Z"
   },
   {
    "duration": 4,
    "start_time": "2024-12-26T23:52:56.193Z"
   },
   {
    "duration": 4,
    "start_time": "2024-12-26T23:52:59.799Z"
   },
   {
    "duration": 4,
    "start_time": "2024-12-26T23:53:38.061Z"
   },
   {
    "duration": 33,
    "start_time": "2024-12-26T23:53:53.429Z"
   },
   {
    "duration": 115,
    "start_time": "2024-12-26T23:54:18.034Z"
   },
   {
    "duration": 10,
    "start_time": "2024-12-27T00:00:09.954Z"
   },
   {
    "duration": 4,
    "start_time": "2024-12-27T00:01:42.986Z"
   },
   {
    "duration": 722,
    "start_time": "2024-12-27T00:02:00.306Z"
   },
   {
    "duration": 42,
    "start_time": "2024-12-27T00:02:54.662Z"
   },
   {
    "duration": 45,
    "start_time": "2024-12-27T00:05:51.600Z"
   },
   {
    "duration": 105,
    "start_time": "2024-12-27T00:06:29.713Z"
   },
   {
    "duration": 45,
    "start_time": "2024-12-27T00:06:34.464Z"
   },
   {
    "duration": 4,
    "start_time": "2024-12-27T00:09:07.594Z"
   },
   {
    "duration": 42,
    "start_time": "2024-12-27T00:10:22.703Z"
   },
   {
    "duration": 40,
    "start_time": "2024-12-27T00:10:40.626Z"
   },
   {
    "duration": 41,
    "start_time": "2024-12-27T00:11:23.427Z"
   },
   {
    "duration": 44,
    "start_time": "2024-12-27T00:15:47.848Z"
   },
   {
    "duration": 74,
    "start_time": "2024-12-27T00:18:36.451Z"
   },
   {
    "duration": 28,
    "start_time": "2024-12-27T00:25:06.199Z"
   },
   {
    "duration": 12,
    "start_time": "2024-12-27T00:38:23.866Z"
   },
   {
    "duration": 28,
    "start_time": "2024-12-27T00:38:31.734Z"
   },
   {
    "duration": 23,
    "start_time": "2024-12-27T00:38:35.218Z"
   },
   {
    "duration": 83,
    "start_time": "2024-12-27T00:38:39.058Z"
   },
   {
    "duration": 84,
    "start_time": "2024-12-27T00:39:39.504Z"
   },
   {
    "duration": 87,
    "start_time": "2024-12-27T00:40:00.992Z"
   },
   {
    "duration": 81,
    "start_time": "2024-12-27T00:41:06.722Z"
   },
   {
    "duration": 4,
    "start_time": "2024-12-27T00:41:50.697Z"
   },
   {
    "duration": 1177,
    "start_time": "2024-12-27T00:41:59.443Z"
   },
   {
    "duration": 8,
    "start_time": "2024-12-27T00:42:00.622Z"
   },
   {
    "duration": 17,
    "start_time": "2024-12-27T00:42:00.631Z"
   },
   {
    "duration": 22,
    "start_time": "2024-12-27T00:42:00.650Z"
   },
   {
    "duration": 6,
    "start_time": "2024-12-27T00:42:00.674Z"
   },
   {
    "duration": 29,
    "start_time": "2024-12-27T00:42:00.682Z"
   },
   {
    "duration": 26,
    "start_time": "2024-12-27T00:42:00.713Z"
   },
   {
    "duration": 192,
    "start_time": "2024-12-27T00:42:00.740Z"
   },
   {
    "duration": 288,
    "start_time": "2024-12-27T00:42:00.934Z"
   },
   {
    "duration": 9,
    "start_time": "2024-12-27T00:42:01.225Z"
   },
   {
    "duration": 147,
    "start_time": "2024-12-27T00:42:01.236Z"
   },
   {
    "duration": 63,
    "start_time": "2024-12-27T00:42:01.384Z"
   },
   {
    "duration": 18,
    "start_time": "2024-12-27T00:42:01.449Z"
   },
   {
    "duration": 104,
    "start_time": "2024-12-27T00:42:01.469Z"
   },
   {
    "duration": 15,
    "start_time": "2024-12-27T00:42:01.575Z"
   },
   {
    "duration": 38,
    "start_time": "2024-12-27T00:42:01.592Z"
   },
   {
    "duration": 488,
    "start_time": "2024-12-27T00:42:01.631Z"
   },
   {
    "duration": 38,
    "start_time": "2024-12-27T00:42:02.120Z"
   },
   {
    "duration": 100,
    "start_time": "2024-12-27T00:42:02.160Z"
   },
   {
    "duration": 0,
    "start_time": "2024-12-27T00:42:02.263Z"
   },
   {
    "duration": 0,
    "start_time": "2024-12-27T00:42:02.265Z"
   },
   {
    "duration": 0,
    "start_time": "2024-12-27T00:42:02.266Z"
   },
   {
    "duration": 0,
    "start_time": "2024-12-27T00:42:02.267Z"
   },
   {
    "duration": 0,
    "start_time": "2024-12-27T00:42:02.268Z"
   },
   {
    "duration": 0,
    "start_time": "2024-12-27T00:42:02.269Z"
   },
   {
    "duration": 0,
    "start_time": "2024-12-27T00:42:02.270Z"
   },
   {
    "duration": 0,
    "start_time": "2024-12-27T00:42:02.271Z"
   },
   {
    "duration": 0,
    "start_time": "2024-12-27T00:42:02.272Z"
   },
   {
    "duration": 0,
    "start_time": "2024-12-27T00:42:02.273Z"
   },
   {
    "duration": 1,
    "start_time": "2024-12-27T00:42:02.274Z"
   },
   {
    "duration": 0,
    "start_time": "2024-12-27T00:42:02.275Z"
   },
   {
    "duration": 0,
    "start_time": "2024-12-27T00:42:02.276Z"
   },
   {
    "duration": 0,
    "start_time": "2024-12-27T00:42:02.278Z"
   },
   {
    "duration": 0,
    "start_time": "2024-12-27T00:42:02.279Z"
   },
   {
    "duration": 0,
    "start_time": "2024-12-27T00:42:02.280Z"
   },
   {
    "duration": 0,
    "start_time": "2024-12-27T00:42:02.281Z"
   },
   {
    "duration": 0,
    "start_time": "2024-12-27T00:42:02.282Z"
   },
   {
    "duration": 0,
    "start_time": "2024-12-27T00:42:02.283Z"
   },
   {
    "duration": 0,
    "start_time": "2024-12-27T00:42:02.284Z"
   },
   {
    "duration": 0,
    "start_time": "2024-12-27T00:42:02.285Z"
   },
   {
    "duration": 0,
    "start_time": "2024-12-27T00:42:02.286Z"
   },
   {
    "duration": 0,
    "start_time": "2024-12-27T00:42:02.288Z"
   },
   {
    "duration": 0,
    "start_time": "2024-12-27T00:42:02.288Z"
   },
   {
    "duration": 0,
    "start_time": "2024-12-27T00:42:02.289Z"
   },
   {
    "duration": 0,
    "start_time": "2024-12-27T00:42:02.331Z"
   },
   {
    "duration": 0,
    "start_time": "2024-12-27T00:42:02.332Z"
   },
   {
    "duration": 0,
    "start_time": "2024-12-27T00:42:02.333Z"
   },
   {
    "duration": 0,
    "start_time": "2024-12-27T00:42:02.334Z"
   },
   {
    "duration": 0,
    "start_time": "2024-12-27T00:42:02.335Z"
   },
   {
    "duration": 0,
    "start_time": "2024-12-27T00:42:02.336Z"
   },
   {
    "duration": 5,
    "start_time": "2024-12-27T00:43:24.917Z"
   },
   {
    "duration": 27,
    "start_time": "2024-12-27T00:43:31.921Z"
   },
   {
    "duration": 87,
    "start_time": "2024-12-27T00:44:47.333Z"
   },
   {
    "duration": 24,
    "start_time": "2024-12-27T00:46:35.775Z"
   },
   {
    "duration": 31,
    "start_time": "2024-12-27T00:46:58.234Z"
   },
   {
    "duration": 24,
    "start_time": "2024-12-27T00:47:05.810Z"
   },
   {
    "duration": 1230,
    "start_time": "2024-12-27T01:04:31.659Z"
   },
   {
    "duration": 4,
    "start_time": "2024-12-27T01:04:32.891Z"
   },
   {
    "duration": 51,
    "start_time": "2024-12-27T01:04:32.896Z"
   },
   {
    "duration": 10,
    "start_time": "2024-12-27T01:04:32.949Z"
   },
   {
    "duration": 7,
    "start_time": "2024-12-27T01:04:32.961Z"
   },
   {
    "duration": 8,
    "start_time": "2024-12-27T01:04:32.970Z"
   },
   {
    "duration": 8,
    "start_time": "2024-12-27T01:04:32.980Z"
   },
   {
    "duration": 220,
    "start_time": "2024-12-27T01:04:32.989Z"
   },
   {
    "duration": 286,
    "start_time": "2024-12-27T01:04:33.211Z"
   },
   {
    "duration": 8,
    "start_time": "2024-12-27T01:04:33.500Z"
   },
   {
    "duration": 150,
    "start_time": "2024-12-27T01:04:33.510Z"
   },
   {
    "duration": 72,
    "start_time": "2024-12-27T01:04:33.662Z"
   },
   {
    "duration": 18,
    "start_time": "2024-12-27T01:04:33.735Z"
   },
   {
    "duration": 97,
    "start_time": "2024-12-27T01:04:33.755Z"
   },
   {
    "duration": 15,
    "start_time": "2024-12-27T01:04:33.854Z"
   },
   {
    "duration": 25,
    "start_time": "2024-12-27T01:04:33.871Z"
   },
   {
    "duration": 472,
    "start_time": "2024-12-27T01:04:33.898Z"
   },
   {
    "duration": 6,
    "start_time": "2024-12-27T01:04:34.372Z"
   },
   {
    "duration": 63,
    "start_time": "2024-12-27T01:04:34.379Z"
   },
   {
    "duration": 92,
    "start_time": "2024-12-27T01:04:34.444Z"
   },
   {
    "duration": 25,
    "start_time": "2024-12-27T01:04:34.538Z"
   },
   {
    "duration": 33,
    "start_time": "2024-12-27T01:04:34.564Z"
   },
   {
    "duration": 488,
    "start_time": "2024-12-27T01:04:34.598Z"
   },
   {
    "duration": 43,
    "start_time": "2024-12-27T01:04:35.087Z"
   },
   {
    "duration": 60,
    "start_time": "2024-12-27T01:04:35.132Z"
   },
   {
    "duration": 225,
    "start_time": "2024-12-27T01:04:35.194Z"
   },
   {
    "duration": 112,
    "start_time": "2024-12-27T01:04:35.421Z"
   },
   {
    "duration": 21,
    "start_time": "2024-12-27T01:04:35.538Z"
   },
   {
    "duration": 32,
    "start_time": "2024-12-27T01:04:35.561Z"
   },
   {
    "duration": 154,
    "start_time": "2024-12-27T01:04:35.594Z"
   },
   {
    "duration": 142,
    "start_time": "2024-12-27T01:04:35.750Z"
   },
   {
    "duration": 150,
    "start_time": "2024-12-27T01:04:35.894Z"
   },
   {
    "duration": 15,
    "start_time": "2024-12-27T01:04:36.047Z"
   },
   {
    "duration": 162,
    "start_time": "2024-12-27T01:04:36.064Z"
   },
   {
    "duration": 37,
    "start_time": "2024-12-27T01:04:36.229Z"
   },
   {
    "duration": 140,
    "start_time": "2024-12-27T01:04:36.267Z"
   },
   {
    "duration": 23,
    "start_time": "2024-12-27T01:04:36.408Z"
   },
   {
    "duration": 42,
    "start_time": "2024-12-27T01:04:36.433Z"
   },
   {
    "duration": 90,
    "start_time": "2024-12-27T01:04:36.477Z"
   },
   {
    "duration": 1642,
    "start_time": "2024-12-27T01:04:36.568Z"
   },
   {
    "duration": 121,
    "start_time": "2024-12-27T01:04:38.212Z"
   },
   {
    "duration": 56,
    "start_time": "2024-12-27T01:04:38.335Z"
   },
   {
    "duration": 120,
    "start_time": "2024-12-27T01:04:38.392Z"
   },
   {
    "duration": 98,
    "start_time": "2024-12-27T01:04:38.514Z"
   },
   {
    "duration": 273,
    "start_time": "2024-12-27T01:04:38.614Z"
   },
   {
    "duration": 85,
    "start_time": "2024-12-27T01:04:38.888Z"
   },
   {
    "duration": 98,
    "start_time": "2024-12-27T01:04:38.974Z"
   },
   {
    "duration": 111,
    "start_time": "2024-12-27T01:04:39.074Z"
   },
   {
    "duration": 209,
    "start_time": "2024-12-27T01:04:39.187Z"
   },
   {
    "duration": 279,
    "start_time": "2024-12-27T01:04:39.397Z"
   },
   {
    "duration": 32,
    "start_time": "2024-12-27T01:12:08.113Z"
   },
   {
    "duration": 53,
    "start_time": "2024-12-27T12:01:48.912Z"
   },
   {
    "duration": 1479,
    "start_time": "2024-12-27T12:01:53.372Z"
   },
   {
    "duration": 4,
    "start_time": "2024-12-27T12:01:54.853Z"
   },
   {
    "duration": 17,
    "start_time": "2024-12-27T12:01:54.859Z"
   },
   {
    "duration": 5,
    "start_time": "2024-12-27T12:01:54.878Z"
   },
   {
    "duration": 9,
    "start_time": "2024-12-27T12:01:54.885Z"
   },
   {
    "duration": 5,
    "start_time": "2024-12-27T12:01:54.895Z"
   },
   {
    "duration": 9,
    "start_time": "2024-12-27T12:01:54.901Z"
   },
   {
    "duration": 832,
    "start_time": "2024-12-27T12:01:54.911Z"
   },
   {
    "duration": 294,
    "start_time": "2024-12-27T12:01:55.745Z"
   },
   {
    "duration": 9,
    "start_time": "2024-12-27T12:01:56.041Z"
   },
   {
    "duration": 157,
    "start_time": "2024-12-27T12:01:56.060Z"
   },
   {
    "duration": 19,
    "start_time": "2024-12-27T12:01:56.218Z"
   },
   {
    "duration": 102,
    "start_time": "2024-12-27T12:01:56.239Z"
   },
   {
    "duration": 28,
    "start_time": "2024-12-27T12:01:56.343Z"
   },
   {
    "duration": 27,
    "start_time": "2024-12-27T12:01:56.373Z"
   },
   {
    "duration": 567,
    "start_time": "2024-12-27T12:01:56.401Z"
   },
   {
    "duration": 7,
    "start_time": "2024-12-27T12:01:56.970Z"
   },
   {
    "duration": 43,
    "start_time": "2024-12-27T12:01:56.979Z"
   },
   {
    "duration": 107,
    "start_time": "2024-12-27T12:01:57.024Z"
   },
   {
    "duration": 36,
    "start_time": "2024-12-27T12:01:57.133Z"
   },
   {
    "duration": 34,
    "start_time": "2024-12-27T12:01:57.173Z"
   },
   {
    "duration": 524,
    "start_time": "2024-12-27T12:01:57.210Z"
   },
   {
    "duration": 40,
    "start_time": "2024-12-27T12:01:57.736Z"
   },
   {
    "duration": 12,
    "start_time": "2024-12-27T12:01:57.778Z"
   },
   {
    "duration": 40,
    "start_time": "2024-12-27T12:01:57.791Z"
   },
   {
    "duration": 122,
    "start_time": "2024-12-27T12:01:57.832Z"
   },
   {
    "duration": 32,
    "start_time": "2024-12-27T12:01:57.959Z"
   },
   {
    "duration": 37,
    "start_time": "2024-12-27T12:01:57.998Z"
   },
   {
    "duration": 162,
    "start_time": "2024-12-27T12:01:58.037Z"
   },
   {
    "duration": 161,
    "start_time": "2024-12-27T12:01:58.201Z"
   },
   {
    "duration": 138,
    "start_time": "2024-12-27T12:01:58.364Z"
   },
   {
    "duration": 14,
    "start_time": "2024-12-27T12:01:58.504Z"
   },
   {
    "duration": 137,
    "start_time": "2024-12-27T12:01:58.559Z"
   },
   {
    "duration": 41,
    "start_time": "2024-12-27T12:01:58.698Z"
   },
   {
    "duration": 156,
    "start_time": "2024-12-27T12:01:58.741Z"
   },
   {
    "duration": 11,
    "start_time": "2024-12-27T12:01:58.899Z"
   },
   {
    "duration": 54,
    "start_time": "2024-12-27T12:01:58.912Z"
   },
   {
    "duration": 47,
    "start_time": "2024-12-27T12:01:58.968Z"
   },
   {
    "duration": 1758,
    "start_time": "2024-12-27T12:01:59.017Z"
   },
   {
    "duration": 126,
    "start_time": "2024-12-27T12:02:00.777Z"
   },
   {
    "duration": 72,
    "start_time": "2024-12-27T12:02:00.906Z"
   },
   {
    "duration": 113,
    "start_time": "2024-12-27T12:02:00.979Z"
   },
   {
    "duration": 107,
    "start_time": "2024-12-27T12:02:01.094Z"
   },
   {
    "duration": 287,
    "start_time": "2024-12-27T12:02:01.203Z"
   },
   {
    "duration": 97,
    "start_time": "2024-12-27T12:02:01.492Z"
   },
   {
    "duration": 114,
    "start_time": "2024-12-27T12:02:01.591Z"
   },
   {
    "duration": 144,
    "start_time": "2024-12-27T12:02:01.707Z"
   },
   {
    "duration": 136,
    "start_time": "2024-12-27T12:02:01.853Z"
   },
   {
    "duration": 309,
    "start_time": "2024-12-27T12:02:01.991Z"
   },
   {
    "duration": 74,
    "start_time": "2024-12-27T12:14:52.539Z"
   },
   {
    "duration": 66,
    "start_time": "2024-12-27T12:15:05.425Z"
   },
   {
    "duration": 69,
    "start_time": "2024-12-27T12:16:19.054Z"
   },
   {
    "duration": 14,
    "start_time": "2024-12-27T12:16:47.603Z"
   },
   {
    "duration": 25,
    "start_time": "2024-12-27T12:17:54.379Z"
   },
   {
    "duration": 26,
    "start_time": "2024-12-27T12:18:01.644Z"
   },
   {
    "duration": 45,
    "start_time": "2024-12-27T12:32:02.738Z"
   },
   {
    "duration": 11,
    "start_time": "2024-12-27T12:33:04.092Z"
   },
   {
    "duration": 80,
    "start_time": "2024-12-27T12:34:06.452Z"
   },
   {
    "duration": 12,
    "start_time": "2024-12-27T12:34:20.433Z"
   },
   {
    "duration": 109,
    "start_time": "2024-12-27T12:35:07.796Z"
   },
   {
    "duration": 45,
    "start_time": "2024-12-27T12:35:22.014Z"
   },
   {
    "duration": 44,
    "start_time": "2024-12-27T12:35:27.628Z"
   },
   {
    "duration": 45,
    "start_time": "2024-12-27T12:35:31.926Z"
   },
   {
    "duration": 39,
    "start_time": "2024-12-27T12:35:39.238Z"
   },
   {
    "duration": 112,
    "start_time": "2024-12-27T12:35:43.189Z"
   },
   {
    "duration": 122,
    "start_time": "2024-12-27T12:36:17.717Z"
   },
   {
    "duration": 50,
    "start_time": "2024-12-27T12:36:49.473Z"
   },
   {
    "duration": 41,
    "start_time": "2024-12-27T12:37:02.363Z"
   },
   {
    "duration": 17,
    "start_time": "2024-12-27T12:39:25.467Z"
   },
   {
    "duration": 4,
    "start_time": "2024-12-27T12:53:05.968Z"
   },
   {
    "duration": 26,
    "start_time": "2024-12-27T13:14:44.236Z"
   },
   {
    "duration": 1369,
    "start_time": "2024-12-27T13:16:01.046Z"
   },
   {
    "duration": 5,
    "start_time": "2024-12-27T13:16:02.417Z"
   },
   {
    "duration": 33,
    "start_time": "2024-12-27T13:16:02.424Z"
   },
   {
    "duration": 40,
    "start_time": "2024-12-27T13:16:02.460Z"
   },
   {
    "duration": 29,
    "start_time": "2024-12-27T13:16:02.502Z"
   },
   {
    "duration": 27,
    "start_time": "2024-12-27T13:16:02.533Z"
   },
   {
    "duration": 22,
    "start_time": "2024-12-27T13:16:02.561Z"
   },
   {
    "duration": 254,
    "start_time": "2024-12-27T13:16:02.585Z"
   },
   {
    "duration": 320,
    "start_time": "2024-12-27T13:16:02.840Z"
   },
   {
    "duration": 8,
    "start_time": "2024-12-27T13:16:03.163Z"
   },
   {
    "duration": 157,
    "start_time": "2024-12-27T13:16:03.173Z"
   },
   {
    "duration": 29,
    "start_time": "2024-12-27T13:16:03.332Z"
   },
   {
    "duration": 99,
    "start_time": "2024-12-27T13:16:03.362Z"
   },
   {
    "duration": 16,
    "start_time": "2024-12-27T13:16:03.463Z"
   },
   {
    "duration": 25,
    "start_time": "2024-12-27T13:16:03.480Z"
   },
   {
    "duration": 537,
    "start_time": "2024-12-27T13:16:03.507Z"
   },
   {
    "duration": 39,
    "start_time": "2024-12-27T13:16:04.046Z"
   },
   {
    "duration": 28,
    "start_time": "2024-12-27T13:16:04.087Z"
   },
   {
    "duration": 117,
    "start_time": "2024-12-27T13:16:04.117Z"
   },
   {
    "duration": 29,
    "start_time": "2024-12-27T13:16:04.236Z"
   },
   {
    "duration": 2,
    "start_time": "2024-12-27T13:16:04.267Z"
   },
   {
    "duration": 41,
    "start_time": "2024-12-27T13:16:04.271Z"
   },
   {
    "duration": 489,
    "start_time": "2024-12-27T13:16:04.314Z"
   },
   {
    "duration": 31,
    "start_time": "2024-12-27T13:16:04.804Z"
   },
   {
    "duration": 26,
    "start_time": "2024-12-27T13:16:04.837Z"
   },
   {
    "duration": 32,
    "start_time": "2024-12-27T13:16:04.865Z"
   },
   {
    "duration": 99,
    "start_time": "2024-12-27T13:16:04.899Z"
   },
   {
    "duration": 20,
    "start_time": "2024-12-27T13:16:05.002Z"
   },
   {
    "duration": 52,
    "start_time": "2024-12-27T13:16:05.024Z"
   },
   {
    "duration": 161,
    "start_time": "2024-12-27T13:16:05.077Z"
   },
   {
    "duration": 151,
    "start_time": "2024-12-27T13:16:05.240Z"
   },
   {
    "duration": 167,
    "start_time": "2024-12-27T13:16:05.393Z"
   },
   {
    "duration": 13,
    "start_time": "2024-12-27T13:16:05.561Z"
   },
   {
    "duration": 139,
    "start_time": "2024-12-27T13:16:05.575Z"
   },
   {
    "duration": 48,
    "start_time": "2024-12-27T13:16:05.715Z"
   },
   {
    "duration": 127,
    "start_time": "2024-12-27T13:16:05.764Z"
   },
   {
    "duration": 11,
    "start_time": "2024-12-27T13:16:05.892Z"
   },
   {
    "duration": 56,
    "start_time": "2024-12-27T13:16:05.904Z"
   },
   {
    "duration": 48,
    "start_time": "2024-12-27T13:16:05.962Z"
   },
   {
    "duration": 1811,
    "start_time": "2024-12-27T13:16:06.012Z"
   },
   {
    "duration": 159,
    "start_time": "2024-12-27T13:16:07.825Z"
   },
   {
    "duration": 78,
    "start_time": "2024-12-27T13:16:07.986Z"
   },
   {
    "duration": 123,
    "start_time": "2024-12-27T13:16:08.066Z"
   },
   {
    "duration": 127,
    "start_time": "2024-12-27T13:16:08.192Z"
   },
   {
    "duration": 305,
    "start_time": "2024-12-27T13:16:08.321Z"
   },
   {
    "duration": 98,
    "start_time": "2024-12-27T13:16:08.628Z"
   },
   {
    "duration": 111,
    "start_time": "2024-12-27T13:16:08.728Z"
   },
   {
    "duration": 125,
    "start_time": "2024-12-27T13:16:08.841Z"
   },
   {
    "duration": 114,
    "start_time": "2024-12-27T13:16:08.968Z"
   },
   {
    "duration": 295,
    "start_time": "2024-12-27T13:16:09.084Z"
   },
   {
    "duration": 1318,
    "start_time": "2024-12-27T13:19:42.457Z"
   },
   {
    "duration": 3,
    "start_time": "2024-12-27T13:19:43.777Z"
   },
   {
    "duration": 12,
    "start_time": "2024-12-27T13:19:43.782Z"
   },
   {
    "duration": 5,
    "start_time": "2024-12-27T13:19:43.796Z"
   },
   {
    "duration": 9,
    "start_time": "2024-12-27T13:19:43.802Z"
   },
   {
    "duration": 5,
    "start_time": "2024-12-27T13:19:43.813Z"
   },
   {
    "duration": 7,
    "start_time": "2024-12-27T13:19:43.820Z"
   },
   {
    "duration": 208,
    "start_time": "2024-12-27T13:19:43.828Z"
   },
   {
    "duration": 298,
    "start_time": "2024-12-27T13:19:44.038Z"
   },
   {
    "duration": 9,
    "start_time": "2024-12-27T13:19:44.339Z"
   },
   {
    "duration": 157,
    "start_time": "2024-12-27T13:19:44.350Z"
   },
   {
    "duration": 19,
    "start_time": "2024-12-27T13:19:44.509Z"
   },
   {
    "duration": 106,
    "start_time": "2024-12-27T13:19:44.529Z"
   },
   {
    "duration": 24,
    "start_time": "2024-12-27T13:19:44.637Z"
   },
   {
    "duration": 25,
    "start_time": "2024-12-27T13:19:44.663Z"
   },
   {
    "duration": 462,
    "start_time": "2024-12-27T13:19:44.690Z"
   },
   {
    "duration": 39,
    "start_time": "2024-12-27T13:19:45.154Z"
   },
   {
    "duration": 29,
    "start_time": "2024-12-27T13:19:45.195Z"
   },
   {
    "duration": 109,
    "start_time": "2024-12-27T13:19:45.225Z"
   },
   {
    "duration": 35,
    "start_time": "2024-12-27T13:19:45.336Z"
   },
   {
    "duration": 20,
    "start_time": "2024-12-27T13:19:45.373Z"
   },
   {
    "duration": 29,
    "start_time": "2024-12-27T13:19:45.395Z"
   },
   {
    "duration": 499,
    "start_time": "2024-12-27T13:19:45.426Z"
   },
   {
    "duration": 40,
    "start_time": "2024-12-27T13:19:45.927Z"
   },
   {
    "duration": 12,
    "start_time": "2024-12-27T13:19:45.969Z"
   },
   {
    "duration": 80,
    "start_time": "2024-12-27T13:19:45.983Z"
   },
   {
    "duration": 96,
    "start_time": "2024-12-27T13:19:46.065Z"
   },
   {
    "duration": 18,
    "start_time": "2024-12-27T13:19:46.165Z"
   },
   {
    "duration": 28,
    "start_time": "2024-12-27T13:19:46.185Z"
   },
   {
    "duration": 156,
    "start_time": "2024-12-27T13:19:46.214Z"
   },
   {
    "duration": 142,
    "start_time": "2024-12-27T13:19:46.372Z"
   },
   {
    "duration": 149,
    "start_time": "2024-12-27T13:19:46.516Z"
   },
   {
    "duration": 12,
    "start_time": "2024-12-27T13:19:46.666Z"
   },
   {
    "duration": 124,
    "start_time": "2024-12-27T13:19:46.680Z"
   },
   {
    "duration": 54,
    "start_time": "2024-12-27T13:19:46.806Z"
   },
   {
    "duration": 132,
    "start_time": "2024-12-27T13:19:46.862Z"
   },
   {
    "duration": 10,
    "start_time": "2024-12-27T13:19:46.996Z"
   },
   {
    "duration": 52,
    "start_time": "2024-12-27T13:19:47.008Z"
   },
   {
    "duration": 42,
    "start_time": "2024-12-27T13:19:47.062Z"
   },
   {
    "duration": 1749,
    "start_time": "2024-12-27T13:19:47.105Z"
   },
   {
    "duration": 114,
    "start_time": "2024-12-27T13:19:48.860Z"
   },
   {
    "duration": 57,
    "start_time": "2024-12-27T13:19:48.975Z"
   },
   {
    "duration": 101,
    "start_time": "2024-12-27T13:19:49.033Z"
   },
   {
    "duration": 102,
    "start_time": "2024-12-27T13:19:49.136Z"
   },
   {
    "duration": 264,
    "start_time": "2024-12-27T13:19:49.240Z"
   },
   {
    "duration": 86,
    "start_time": "2024-12-27T13:19:49.506Z"
   },
   {
    "duration": 103,
    "start_time": "2024-12-27T13:19:49.593Z"
   },
   {
    "duration": 102,
    "start_time": "2024-12-27T13:19:49.698Z"
   },
   {
    "duration": 100,
    "start_time": "2024-12-27T13:19:49.801Z"
   },
   {
    "duration": 280,
    "start_time": "2024-12-27T13:19:49.903Z"
   },
   {
    "duration": 13,
    "start_time": "2024-12-27T13:22:01.529Z"
   },
   {
    "duration": 1329,
    "start_time": "2024-12-27T15:02:28.439Z"
   },
   {
    "duration": 5,
    "start_time": "2024-12-27T15:02:29.771Z"
   },
   {
    "duration": 21,
    "start_time": "2024-12-27T15:02:29.777Z"
   },
   {
    "duration": 8,
    "start_time": "2024-12-27T15:02:29.800Z"
   },
   {
    "duration": 8,
    "start_time": "2024-12-27T15:02:29.810Z"
   },
   {
    "duration": 8,
    "start_time": "2024-12-27T15:02:29.820Z"
   },
   {
    "duration": 28,
    "start_time": "2024-12-27T15:02:29.830Z"
   },
   {
    "duration": 239,
    "start_time": "2024-12-27T15:02:29.860Z"
   },
   {
    "duration": 322,
    "start_time": "2024-12-27T15:02:30.100Z"
   },
   {
    "duration": 10,
    "start_time": "2024-12-27T15:02:30.425Z"
   },
   {
    "duration": 187,
    "start_time": "2024-12-27T15:02:30.436Z"
   },
   {
    "duration": 20,
    "start_time": "2024-12-27T15:02:30.625Z"
   },
   {
    "duration": 108,
    "start_time": "2024-12-27T15:02:30.647Z"
   },
   {
    "duration": 15,
    "start_time": "2024-12-27T15:02:30.757Z"
   },
   {
    "duration": 50,
    "start_time": "2024-12-27T15:02:30.775Z"
   },
   {
    "duration": 501,
    "start_time": "2024-12-27T15:02:30.827Z"
   },
   {
    "duration": 41,
    "start_time": "2024-12-27T15:02:31.330Z"
   },
   {
    "duration": 29,
    "start_time": "2024-12-27T15:02:31.373Z"
   },
   {
    "duration": 109,
    "start_time": "2024-12-27T15:02:31.404Z"
   },
   {
    "duration": 26,
    "start_time": "2024-12-27T15:02:31.515Z"
   },
   {
    "duration": 33,
    "start_time": "2024-12-27T15:02:31.543Z"
   },
   {
    "duration": 12,
    "start_time": "2024-12-27T15:02:31.579Z"
   },
   {
    "duration": 49,
    "start_time": "2024-12-27T15:02:31.593Z"
   },
   {
    "duration": 526,
    "start_time": "2024-12-27T15:02:31.644Z"
   },
   {
    "duration": 30,
    "start_time": "2024-12-27T15:02:32.172Z"
   },
   {
    "duration": 27,
    "start_time": "2024-12-27T15:02:32.204Z"
   },
   {
    "duration": 49,
    "start_time": "2024-12-27T15:02:32.233Z"
   },
   {
    "duration": 106,
    "start_time": "2024-12-27T15:02:32.287Z"
   },
   {
    "duration": 21,
    "start_time": "2024-12-27T15:02:32.395Z"
   },
   {
    "duration": 49,
    "start_time": "2024-12-27T15:02:32.418Z"
   },
   {
    "duration": 149,
    "start_time": "2024-12-27T15:02:32.469Z"
   },
   {
    "duration": 161,
    "start_time": "2024-12-27T15:02:32.620Z"
   },
   {
    "duration": 117,
    "start_time": "2024-12-27T15:02:32.783Z"
   },
   {
    "duration": 60,
    "start_time": "2024-12-27T15:02:32.902Z"
   },
   {
    "duration": 127,
    "start_time": "2024-12-27T15:02:32.964Z"
   },
   {
    "duration": 37,
    "start_time": "2024-12-27T15:02:33.093Z"
   },
   {
    "duration": 137,
    "start_time": "2024-12-27T15:02:33.132Z"
   },
   {
    "duration": 11,
    "start_time": "2024-12-27T15:02:33.271Z"
   },
   {
    "duration": 36,
    "start_time": "2024-12-27T15:02:33.283Z"
   },
   {
    "duration": 67,
    "start_time": "2024-12-27T15:02:33.321Z"
   },
   {
    "duration": 1767,
    "start_time": "2024-12-27T15:02:33.390Z"
   },
   {
    "duration": 120,
    "start_time": "2024-12-27T15:02:35.160Z"
   },
   {
    "duration": 58,
    "start_time": "2024-12-27T15:02:35.282Z"
   },
   {
    "duration": 103,
    "start_time": "2024-12-27T15:02:35.341Z"
   },
   {
    "duration": 99,
    "start_time": "2024-12-27T15:02:35.460Z"
   },
   {
    "duration": 269,
    "start_time": "2024-12-27T15:02:35.561Z"
   },
   {
    "duration": 88,
    "start_time": "2024-12-27T15:02:35.832Z"
   },
   {
    "duration": 101,
    "start_time": "2024-12-27T15:02:35.922Z"
   },
   {
    "duration": 102,
    "start_time": "2024-12-27T15:02:36.025Z"
   },
   {
    "duration": 103,
    "start_time": "2024-12-27T15:02:36.129Z"
   },
   {
    "duration": 279,
    "start_time": "2024-12-27T15:02:36.234Z"
   },
   {
    "duration": 25,
    "start_time": "2024-12-27T15:04:10.325Z"
   },
   {
    "duration": 1306,
    "start_time": "2024-12-27T15:04:21.782Z"
   },
   {
    "duration": 4,
    "start_time": "2024-12-27T15:04:23.090Z"
   },
   {
    "duration": 48,
    "start_time": "2024-12-27T15:04:23.095Z"
   },
   {
    "duration": 34,
    "start_time": "2024-12-27T15:04:23.145Z"
   },
   {
    "duration": 83,
    "start_time": "2024-12-27T15:04:23.181Z"
   },
   {
    "duration": 78,
    "start_time": "2024-12-27T15:04:23.266Z"
   },
   {
    "duration": 52,
    "start_time": "2024-12-27T15:04:23.346Z"
   },
   {
    "duration": 263,
    "start_time": "2024-12-27T15:04:23.400Z"
   },
   {
    "duration": 319,
    "start_time": "2024-12-27T15:04:23.665Z"
   },
   {
    "duration": 9,
    "start_time": "2024-12-27T15:04:23.987Z"
   },
   {
    "duration": 203,
    "start_time": "2024-12-27T15:04:23.997Z"
   },
   {
    "duration": 19,
    "start_time": "2024-12-27T15:04:24.202Z"
   },
   {
    "duration": 116,
    "start_time": "2024-12-27T15:04:24.222Z"
   },
   {
    "duration": 19,
    "start_time": "2024-12-27T15:04:24.340Z"
   },
   {
    "duration": 58,
    "start_time": "2024-12-27T15:04:24.361Z"
   },
   {
    "duration": 535,
    "start_time": "2024-12-27T15:04:24.421Z"
   },
   {
    "duration": 41,
    "start_time": "2024-12-27T15:04:24.958Z"
   },
   {
    "duration": 28,
    "start_time": "2024-12-27T15:04:25.001Z"
   },
   {
    "duration": 117,
    "start_time": "2024-12-27T15:04:25.031Z"
   },
   {
    "duration": 32,
    "start_time": "2024-12-27T15:04:25.150Z"
   },
   {
    "duration": 45,
    "start_time": "2024-12-27T15:04:25.184Z"
   },
   {
    "duration": 39,
    "start_time": "2024-12-27T15:04:25.231Z"
   },
   {
    "duration": 78,
    "start_time": "2024-12-27T15:04:25.272Z"
   },
   {
    "duration": 561,
    "start_time": "2024-12-27T15:04:25.352Z"
   },
   {
    "duration": 28,
    "start_time": "2024-12-27T15:04:25.915Z"
   },
   {
    "duration": 29,
    "start_time": "2024-12-27T15:04:25.945Z"
   },
   {
    "duration": 66,
    "start_time": "2024-12-27T15:04:25.976Z"
   },
   {
    "duration": 93,
    "start_time": "2024-12-27T15:04:26.046Z"
   },
   {
    "duration": 24,
    "start_time": "2024-12-27T15:04:26.140Z"
   },
   {
    "duration": 102,
    "start_time": "2024-12-27T15:04:26.166Z"
   },
   {
    "duration": 162,
    "start_time": "2024-12-27T15:04:26.270Z"
   },
   {
    "duration": 157,
    "start_time": "2024-12-27T15:04:26.434Z"
   },
   {
    "duration": 106,
    "start_time": "2024-12-27T15:04:26.593Z"
   },
   {
    "duration": 63,
    "start_time": "2024-12-27T15:04:26.701Z"
   },
   {
    "duration": 131,
    "start_time": "2024-12-27T15:04:26.766Z"
   },
   {
    "duration": 38,
    "start_time": "2024-12-27T15:04:26.899Z"
   },
   {
    "duration": 142,
    "start_time": "2024-12-27T15:04:26.938Z"
   },
   {
    "duration": 10,
    "start_time": "2024-12-27T15:04:27.082Z"
   },
   {
    "duration": 34,
    "start_time": "2024-12-27T15:04:27.094Z"
   },
   {
    "duration": 64,
    "start_time": "2024-12-27T15:04:27.130Z"
   },
   {
    "duration": 1801,
    "start_time": "2024-12-27T15:04:27.195Z"
   },
   {
    "duration": 117,
    "start_time": "2024-12-27T15:04:28.997Z"
   },
   {
    "duration": 71,
    "start_time": "2024-12-27T15:04:29.116Z"
   },
   {
    "duration": 98,
    "start_time": "2024-12-27T15:04:29.189Z"
   },
   {
    "duration": 104,
    "start_time": "2024-12-27T15:04:29.289Z"
   },
   {
    "duration": 276,
    "start_time": "2024-12-27T15:04:29.395Z"
   },
   {
    "duration": 90,
    "start_time": "2024-12-27T15:04:29.673Z"
   },
   {
    "duration": 99,
    "start_time": "2024-12-27T15:04:29.765Z"
   },
   {
    "duration": 106,
    "start_time": "2024-12-27T15:04:29.867Z"
   },
   {
    "duration": 106,
    "start_time": "2024-12-27T15:04:29.975Z"
   },
   {
    "duration": 285,
    "start_time": "2024-12-27T15:04:30.083Z"
   },
   {
    "duration": 1151,
    "start_time": "2024-12-28T04:48:04.466Z"
   },
   {
    "duration": 4,
    "start_time": "2024-12-28T04:48:05.619Z"
   },
   {
    "duration": 59,
    "start_time": "2024-12-28T04:48:05.624Z"
   },
   {
    "duration": 27,
    "start_time": "2024-12-28T04:48:05.684Z"
   },
   {
    "duration": 27,
    "start_time": "2024-12-28T04:48:05.713Z"
   },
   {
    "duration": 18,
    "start_time": "2024-12-28T04:48:05.742Z"
   },
   {
    "duration": 24,
    "start_time": "2024-12-28T04:48:05.762Z"
   },
   {
    "duration": 195,
    "start_time": "2024-12-28T04:48:05.788Z"
   },
   {
    "duration": 265,
    "start_time": "2024-12-28T04:48:05.985Z"
   },
   {
    "duration": 7,
    "start_time": "2024-12-28T04:48:06.252Z"
   },
   {
    "duration": 142,
    "start_time": "2024-12-28T04:48:06.260Z"
   },
   {
    "duration": 19,
    "start_time": "2024-12-28T04:48:06.403Z"
   },
   {
    "duration": 83,
    "start_time": "2024-12-28T04:48:06.423Z"
   },
   {
    "duration": 13,
    "start_time": "2024-12-28T04:48:06.509Z"
   },
   {
    "duration": 32,
    "start_time": "2024-12-28T04:48:06.523Z"
   },
   {
    "duration": 436,
    "start_time": "2024-12-28T04:48:06.556Z"
   },
   {
    "duration": 31,
    "start_time": "2024-12-28T04:48:06.994Z"
   },
   {
    "duration": 79,
    "start_time": "2024-12-28T04:48:07.027Z"
   },
   {
    "duration": 85,
    "start_time": "2024-12-28T04:48:07.108Z"
   },
   {
    "duration": 22,
    "start_time": "2024-12-28T04:48:07.195Z"
   },
   {
    "duration": 21,
    "start_time": "2024-12-28T04:48:07.219Z"
   },
   {
    "duration": 10,
    "start_time": "2024-12-28T04:48:07.241Z"
   },
   {
    "duration": 44,
    "start_time": "2024-12-28T04:48:07.252Z"
   },
   {
    "duration": 420,
    "start_time": "2024-12-28T04:48:07.298Z"
   },
   {
    "duration": 25,
    "start_time": "2024-12-28T04:48:07.719Z"
   },
   {
    "duration": 3,
    "start_time": "2024-12-28T04:48:07.746Z"
   },
   {
    "duration": 45,
    "start_time": "2024-12-28T04:48:07.751Z"
   },
   {
    "duration": 78,
    "start_time": "2024-12-28T04:48:07.797Z"
   },
   {
    "duration": 26,
    "start_time": "2024-12-28T04:48:07.876Z"
   },
   {
    "duration": 22,
    "start_time": "2024-12-28T04:48:07.903Z"
   },
   {
    "duration": 138,
    "start_time": "2024-12-28T04:48:07.926Z"
   },
   {
    "duration": 151,
    "start_time": "2024-12-28T04:48:08.065Z"
   },
   {
    "duration": 104,
    "start_time": "2024-12-28T04:48:08.218Z"
   },
   {
    "duration": 10,
    "start_time": "2024-12-28T04:48:08.324Z"
   },
   {
    "duration": 101,
    "start_time": "2024-12-28T04:48:08.386Z"
   },
   {
    "duration": 32,
    "start_time": "2024-12-28T04:48:08.488Z"
   },
   {
    "duration": 125,
    "start_time": "2024-12-28T04:48:08.521Z"
   },
   {
    "duration": 9,
    "start_time": "2024-12-28T04:48:08.647Z"
   },
   {
    "duration": 42,
    "start_time": "2024-12-28T04:48:08.657Z"
   },
   {
    "duration": 36,
    "start_time": "2024-12-28T04:48:08.701Z"
   },
   {
    "duration": 1488,
    "start_time": "2024-12-28T04:48:08.741Z"
   },
   {
    "duration": 96,
    "start_time": "2024-12-28T04:48:10.230Z"
   },
   {
    "duration": 59,
    "start_time": "2024-12-28T04:48:10.328Z"
   },
   {
    "duration": 75,
    "start_time": "2024-12-28T04:48:10.389Z"
   },
   {
    "duration": 84,
    "start_time": "2024-12-28T04:48:10.466Z"
   },
   {
    "duration": 219,
    "start_time": "2024-12-28T04:48:10.551Z"
   },
   {
    "duration": 70,
    "start_time": "2024-12-28T04:48:10.772Z"
   },
   {
    "duration": 85,
    "start_time": "2024-12-28T04:48:10.843Z"
   },
   {
    "duration": 77,
    "start_time": "2024-12-28T04:48:10.929Z"
   },
   {
    "duration": 80,
    "start_time": "2024-12-28T04:48:11.008Z"
   },
   {
    "duration": 216,
    "start_time": "2024-12-28T04:48:11.089Z"
   },
   {
    "duration": 3,
    "start_time": "2024-12-28T12:07:49.080Z"
   },
   {
    "duration": 2,
    "start_time": "2024-12-28T12:07:51.279Z"
   },
   {
    "duration": 49,
    "start_time": "2024-12-28T12:11:51.524Z"
   },
   {
    "duration": 1300,
    "start_time": "2024-12-28T12:11:57.680Z"
   },
   {
    "duration": 3,
    "start_time": "2024-12-28T12:11:58.986Z"
   },
   {
    "duration": 39,
    "start_time": "2024-12-28T12:11:58.990Z"
   },
   {
    "duration": 64,
    "start_time": "2024-12-28T12:11:59.031Z"
   },
   {
    "duration": 30,
    "start_time": "2024-12-28T12:11:59.097Z"
   },
   {
    "duration": 4,
    "start_time": "2024-12-28T12:11:59.129Z"
   },
   {
    "duration": 8,
    "start_time": "2024-12-28T12:11:59.134Z"
   },
   {
    "duration": 841,
    "start_time": "2024-12-28T12:11:59.144Z"
   },
   {
    "duration": 262,
    "start_time": "2024-12-28T12:11:59.987Z"
   },
   {
    "duration": 8,
    "start_time": "2024-12-28T12:12:00.251Z"
   },
   {
    "duration": 249,
    "start_time": "2024-12-28T12:12:00.260Z"
   },
   {
    "duration": 20,
    "start_time": "2024-12-28T12:12:00.511Z"
   },
   {
    "duration": 112,
    "start_time": "2024-12-28T12:12:00.532Z"
   },
   {
    "duration": 14,
    "start_time": "2024-12-28T12:12:00.645Z"
   },
   {
    "duration": 33,
    "start_time": "2024-12-28T12:12:00.660Z"
   },
   {
    "duration": 465,
    "start_time": "2024-12-28T12:12:00.694Z"
   },
   {
    "duration": 34,
    "start_time": "2024-12-28T12:12:01.160Z"
   },
   {
    "duration": 25,
    "start_time": "2024-12-28T12:12:01.196Z"
   },
   {
    "duration": 162,
    "start_time": "2024-12-28T12:12:01.223Z"
   },
   {
    "duration": 22,
    "start_time": "2024-12-28T12:12:01.387Z"
   },
   {
    "duration": 47,
    "start_time": "2024-12-28T12:12:01.410Z"
   },
   {
    "duration": 9,
    "start_time": "2024-12-28T12:12:01.458Z"
   },
   {
    "duration": 65,
    "start_time": "2024-12-28T12:12:01.469Z"
   },
   {
    "duration": 418,
    "start_time": "2024-12-28T12:12:01.536Z"
   },
   {
    "duration": 30,
    "start_time": "2024-12-28T12:12:01.956Z"
   },
   {
    "duration": 27,
    "start_time": "2024-12-28T12:12:01.988Z"
   },
   {
    "duration": 80,
    "start_time": "2024-12-28T12:12:02.016Z"
   },
   {
    "duration": 107,
    "start_time": "2024-12-28T12:12:02.099Z"
   },
   {
    "duration": 17,
    "start_time": "2024-12-28T12:12:02.207Z"
   },
   {
    "duration": 87,
    "start_time": "2024-12-28T12:12:02.225Z"
   },
   {
    "duration": 53,
    "start_time": "2024-12-28T12:12:02.313Z"
   },
   {
    "duration": 44,
    "start_time": "2024-12-28T12:12:02.368Z"
   },
   {
    "duration": 70,
    "start_time": "2024-12-28T12:12:02.414Z"
   },
   {
    "duration": 138,
    "start_time": "2024-12-28T12:12:02.485Z"
   },
   {
    "duration": 180,
    "start_time": "2024-12-28T12:12:02.625Z"
   },
   {
    "duration": 33,
    "start_time": "2024-12-28T12:12:02.806Z"
   },
   {
    "duration": 132,
    "start_time": "2024-12-28T12:12:02.840Z"
   },
   {
    "duration": 15,
    "start_time": "2024-12-28T12:12:02.973Z"
   },
   {
    "duration": 47,
    "start_time": "2024-12-28T12:12:02.990Z"
   },
   {
    "duration": 80,
    "start_time": "2024-12-28T12:12:03.038Z"
   },
   {
    "duration": 1466,
    "start_time": "2024-12-28T12:12:03.120Z"
   },
   {
    "duration": 103,
    "start_time": "2024-12-28T12:12:04.588Z"
   },
   {
    "duration": 50,
    "start_time": "2024-12-28T12:12:04.693Z"
   },
   {
    "duration": 96,
    "start_time": "2024-12-28T12:12:04.744Z"
   },
   {
    "duration": 80,
    "start_time": "2024-12-28T12:12:04.842Z"
   },
   {
    "duration": 213,
    "start_time": "2024-12-28T12:12:04.924Z"
   },
   {
    "duration": 77,
    "start_time": "2024-12-28T12:12:05.139Z"
   },
   {
    "duration": 86,
    "start_time": "2024-12-28T12:12:05.217Z"
   },
   {
    "duration": 123,
    "start_time": "2024-12-28T12:12:05.304Z"
   },
   {
    "duration": 77,
    "start_time": "2024-12-28T12:12:05.428Z"
   },
   {
    "duration": 237,
    "start_time": "2024-12-28T12:12:05.506Z"
   },
   {
    "duration": 2,
    "start_time": "2024-12-28T12:13:56.564Z"
   },
   {
    "duration": 36,
    "start_time": "2024-12-28T12:24:36.466Z"
   },
   {
    "duration": 56,
    "start_time": "2024-12-28T12:24:58.739Z"
   },
   {
    "duration": 33,
    "start_time": "2024-12-28T12:26:14.742Z"
   },
   {
    "duration": 75,
    "start_time": "2024-12-28T12:26:24.648Z"
   },
   {
    "duration": 44,
    "start_time": "2024-12-28T12:26:39.439Z"
   },
   {
    "duration": 32,
    "start_time": "2024-12-28T12:34:44.300Z"
   },
   {
    "duration": 33,
    "start_time": "2024-12-28T12:34:55.780Z"
   },
   {
    "duration": 31,
    "start_time": "2024-12-28T12:35:03.060Z"
   },
   {
    "duration": 29,
    "start_time": "2024-12-28T12:35:39.814Z"
   },
   {
    "duration": 28,
    "start_time": "2024-12-28T12:37:09.361Z"
   },
   {
    "duration": 28,
    "start_time": "2024-12-28T12:37:26.252Z"
   },
   {
    "duration": 27,
    "start_time": "2024-12-28T14:10:28.944Z"
   },
   {
    "duration": 26,
    "start_time": "2024-12-28T14:13:14.524Z"
   },
   {
    "duration": 25,
    "start_time": "2024-12-28T14:13:42.977Z"
   },
   {
    "duration": 5,
    "start_time": "2024-12-28T14:15:07.244Z"
   },
   {
    "duration": 4,
    "start_time": "2024-12-28T14:21:35.299Z"
   },
   {
    "duration": 4,
    "start_time": "2024-12-28T14:21:49.873Z"
   },
   {
    "duration": 1171,
    "start_time": "2024-12-28T14:21:59.140Z"
   },
   {
    "duration": 5,
    "start_time": "2024-12-28T14:22:00.313Z"
   },
   {
    "duration": 72,
    "start_time": "2024-12-28T14:22:00.319Z"
   },
   {
    "duration": 48,
    "start_time": "2024-12-28T14:22:00.393Z"
   },
   {
    "duration": 46,
    "start_time": "2024-12-28T14:22:00.442Z"
   },
   {
    "duration": 21,
    "start_time": "2024-12-28T14:22:00.490Z"
   },
   {
    "duration": 103,
    "start_time": "2024-12-28T14:22:00.513Z"
   },
   {
    "duration": 187,
    "start_time": "2024-12-28T14:22:00.617Z"
   },
   {
    "duration": 267,
    "start_time": "2024-12-28T14:22:00.806Z"
   },
   {
    "duration": 15,
    "start_time": "2024-12-28T14:22:01.076Z"
   },
   {
    "duration": 170,
    "start_time": "2024-12-28T14:22:01.093Z"
   },
   {
    "duration": 26,
    "start_time": "2024-12-28T14:22:01.265Z"
   },
   {
    "duration": 73,
    "start_time": "2024-12-28T14:22:01.293Z"
   },
   {
    "duration": 24,
    "start_time": "2024-12-28T14:22:01.368Z"
   },
   {
    "duration": 49,
    "start_time": "2024-12-28T14:22:01.395Z"
   },
   {
    "duration": 442,
    "start_time": "2024-12-28T14:22:01.445Z"
   },
   {
    "duration": 35,
    "start_time": "2024-12-28T14:22:01.889Z"
   },
   {
    "duration": 45,
    "start_time": "2024-12-28T14:22:01.926Z"
   },
   {
    "duration": 81,
    "start_time": "2024-12-28T14:22:01.972Z"
   },
   {
    "duration": 32,
    "start_time": "2024-12-28T14:22:02.055Z"
   },
   {
    "duration": 19,
    "start_time": "2024-12-28T14:22:02.089Z"
   },
   {
    "duration": 25,
    "start_time": "2024-12-28T14:22:02.110Z"
   },
   {
    "duration": 51,
    "start_time": "2024-12-28T14:22:02.136Z"
   },
   {
    "duration": 434,
    "start_time": "2024-12-28T14:22:02.188Z"
   },
   {
    "duration": 23,
    "start_time": "2024-12-28T14:22:02.624Z"
   },
   {
    "duration": 16,
    "start_time": "2024-12-28T14:22:02.649Z"
   },
   {
    "duration": 63,
    "start_time": "2024-12-28T14:22:02.666Z"
   },
   {
    "duration": 81,
    "start_time": "2024-12-28T14:22:02.733Z"
   },
   {
    "duration": 17,
    "start_time": "2024-12-28T14:22:02.816Z"
   },
   {
    "duration": 42,
    "start_time": "2024-12-28T14:22:02.835Z"
   },
   {
    "duration": 27,
    "start_time": "2024-12-28T14:22:02.879Z"
   },
   {
    "duration": 13,
    "start_time": "2024-12-28T14:22:02.907Z"
   },
   {
    "duration": 65,
    "start_time": "2024-12-28T14:22:02.921Z"
   },
   {
    "duration": 128,
    "start_time": "2024-12-28T14:22:02.988Z"
   },
   {
    "duration": 182,
    "start_time": "2024-12-28T14:22:03.118Z"
   },
   {
    "duration": 32,
    "start_time": "2024-12-28T14:22:03.301Z"
   },
   {
    "duration": 11,
    "start_time": "2024-12-28T14:22:03.335Z"
   },
   {
    "duration": 16,
    "start_time": "2024-12-28T14:22:03.347Z"
   },
   {
    "duration": 11,
    "start_time": "2024-12-28T14:22:03.365Z"
   },
   {
    "duration": 120,
    "start_time": "2024-12-28T14:22:03.378Z"
   },
   {
    "duration": 0,
    "start_time": "2024-12-28T14:22:03.500Z"
   },
   {
    "duration": 0,
    "start_time": "2024-12-28T14:22:03.501Z"
   },
   {
    "duration": 0,
    "start_time": "2024-12-28T14:22:03.502Z"
   },
   {
    "duration": 0,
    "start_time": "2024-12-28T14:22:03.503Z"
   },
   {
    "duration": 0,
    "start_time": "2024-12-28T14:22:03.504Z"
   },
   {
    "duration": 0,
    "start_time": "2024-12-28T14:22:03.505Z"
   },
   {
    "duration": 0,
    "start_time": "2024-12-28T14:22:03.506Z"
   },
   {
    "duration": 0,
    "start_time": "2024-12-28T14:22:03.507Z"
   },
   {
    "duration": 0,
    "start_time": "2024-12-28T14:22:03.508Z"
   },
   {
    "duration": 0,
    "start_time": "2024-12-28T14:22:03.509Z"
   },
   {
    "duration": 0,
    "start_time": "2024-12-28T14:22:03.510Z"
   },
   {
    "duration": 0,
    "start_time": "2024-12-28T14:22:03.511Z"
   },
   {
    "duration": 20,
    "start_time": "2024-12-28T14:23:13.316Z"
   },
   {
    "duration": 3,
    "start_time": "2024-12-28T14:23:19.392Z"
   },
   {
    "duration": 15,
    "start_time": "2024-12-28T14:23:50.212Z"
   },
   {
    "duration": 1087,
    "start_time": "2024-12-28T14:23:58.112Z"
   },
   {
    "duration": 3,
    "start_time": "2024-12-28T14:23:59.201Z"
   },
   {
    "duration": 35,
    "start_time": "2024-12-28T14:23:59.206Z"
   },
   {
    "duration": 28,
    "start_time": "2024-12-28T14:23:59.244Z"
   },
   {
    "duration": 27,
    "start_time": "2024-12-28T14:23:59.274Z"
   },
   {
    "duration": 9,
    "start_time": "2024-12-28T14:23:59.302Z"
   },
   {
    "duration": 7,
    "start_time": "2024-12-28T14:23:59.313Z"
   },
   {
    "duration": 188,
    "start_time": "2024-12-28T14:23:59.321Z"
   },
   {
    "duration": 265,
    "start_time": "2024-12-28T14:23:59.511Z"
   },
   {
    "duration": 8,
    "start_time": "2024-12-28T14:23:59.785Z"
   },
   {
    "duration": 138,
    "start_time": "2024-12-28T14:23:59.795Z"
   },
   {
    "duration": 20,
    "start_time": "2024-12-28T14:23:59.935Z"
   },
   {
    "duration": 89,
    "start_time": "2024-12-28T14:23:59.957Z"
   },
   {
    "duration": 14,
    "start_time": "2024-12-28T14:24:00.048Z"
   },
   {
    "duration": 45,
    "start_time": "2024-12-28T14:24:00.064Z"
   },
   {
    "duration": 441,
    "start_time": "2024-12-28T14:24:00.110Z"
   },
   {
    "duration": 34,
    "start_time": "2024-12-28T14:24:00.553Z"
   },
   {
    "duration": 54,
    "start_time": "2024-12-28T14:24:00.589Z"
   },
   {
    "duration": 90,
    "start_time": "2024-12-28T14:24:00.645Z"
   },
   {
    "duration": 23,
    "start_time": "2024-12-28T14:24:00.736Z"
   },
   {
    "duration": 35,
    "start_time": "2024-12-28T14:24:00.760Z"
   },
   {
    "duration": 31,
    "start_time": "2024-12-28T14:24:00.797Z"
   },
   {
    "duration": 53,
    "start_time": "2024-12-28T14:24:00.830Z"
   },
   {
    "duration": 423,
    "start_time": "2024-12-28T14:24:00.884Z"
   },
   {
    "duration": 25,
    "start_time": "2024-12-28T14:24:01.308Z"
   },
   {
    "duration": 18,
    "start_time": "2024-12-28T14:24:01.334Z"
   },
   {
    "duration": 30,
    "start_time": "2024-12-28T14:24:01.353Z"
   },
   {
    "duration": 109,
    "start_time": "2024-12-28T14:24:01.386Z"
   },
   {
    "duration": 18,
    "start_time": "2024-12-28T14:24:01.496Z"
   },
   {
    "duration": 24,
    "start_time": "2024-12-28T14:24:01.516Z"
   },
   {
    "duration": 7,
    "start_time": "2024-12-28T14:24:01.542Z"
   },
   {
    "duration": 4,
    "start_time": "2024-12-28T14:24:01.550Z"
   },
   {
    "duration": 115,
    "start_time": "2024-12-28T14:24:01.555Z"
   },
   {
    "duration": 134,
    "start_time": "2024-12-28T14:24:01.671Z"
   },
   {
    "duration": 185,
    "start_time": "2024-12-28T14:24:01.806Z"
   },
   {
    "duration": 32,
    "start_time": "2024-12-28T14:24:01.993Z"
   },
   {
    "duration": 13,
    "start_time": "2024-12-28T14:24:02.027Z"
   },
   {
    "duration": 30,
    "start_time": "2024-12-28T14:24:02.041Z"
   },
   {
    "duration": 41,
    "start_time": "2024-12-28T14:24:02.073Z"
   },
   {
    "duration": 73,
    "start_time": "2024-12-28T14:24:02.116Z"
   },
   {
    "duration": 1475,
    "start_time": "2024-12-28T14:24:02.191Z"
   },
   {
    "duration": 100,
    "start_time": "2024-12-28T14:24:03.668Z"
   },
   {
    "duration": 59,
    "start_time": "2024-12-28T14:24:03.770Z"
   },
   {
    "duration": 93,
    "start_time": "2024-12-28T14:24:03.831Z"
   },
   {
    "duration": 84,
    "start_time": "2024-12-28T14:24:03.926Z"
   },
   {
    "duration": 225,
    "start_time": "2024-12-28T14:24:04.012Z"
   },
   {
    "duration": 83,
    "start_time": "2024-12-28T14:24:04.239Z"
   },
   {
    "duration": 87,
    "start_time": "2024-12-28T14:24:04.324Z"
   },
   {
    "duration": 82,
    "start_time": "2024-12-28T14:24:04.412Z"
   },
   {
    "duration": 75,
    "start_time": "2024-12-28T14:24:04.496Z"
   },
   {
    "duration": 230,
    "start_time": "2024-12-28T14:24:04.572Z"
   },
   {
    "duration": 2,
    "start_time": "2024-12-28T14:49:23.628Z"
   }
  ],
  "kernelspec": {
   "display_name": "Python 3 (ipykernel)",
   "language": "python",
   "name": "python3"
  },
  "language_info": {
   "codemirror_mode": {
    "name": "ipython",
    "version": 3
   },
   "file_extension": ".py",
   "mimetype": "text/x-python",
   "name": "python",
   "nbconvert_exporter": "python",
   "pygments_lexer": "ipython3",
   "version": "3.9.5"
  },
  "toc": {
   "base_numbering": 1,
   "nav_menu": {},
   "number_sections": true,
   "sideBar": true,
   "skip_h1_title": true,
   "title_cell": "Table of Contents",
   "title_sidebar": "Contents",
   "toc_cell": false,
   "toc_position": {},
   "toc_section_display": true,
   "toc_window_display": false
  }
 },
 "nbformat": 4,
 "nbformat_minor": 2
}
